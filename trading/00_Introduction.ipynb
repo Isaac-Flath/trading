{
 "cells": [
  {
   "cell_type": "markdown",
   "id": "4586d418",
   "metadata": {},
   "source": [
    "# Introduction"
   ]
  },
  {
   "cell_type": "markdown",
   "id": "ce71c72d",
   "metadata": {},
   "source": [
    "## About this Book"
   ]
  },
  {
   "cell_type": "markdown",
   "id": "db123c44",
   "metadata": {},
   "source": [
    "This book is written to be the book I wish I had as I learned quantititive trading.  The goal of this book is not to cover all terminology or be a complete/exhaustive resource, there are plenty of resources that do that well.\n",
    "\n",
    "The purpose of this book is to show and walk through projects and examples that should be done as you learn.  It starts from very simple projects and progresses in difficulty as the book progresses.\n",
    "\n",
    "It was written in this way for two reasons:\n",
    "+ I believe in learning by doing.  There is only so much you can learn from reading - my hope is that these give you a good reference in what you should be doing on your own.\n",
    "+ I believe in writing to learn.  As I write this book and tutorial I learn and solidify my own knowledge."
   ]
  },
  {
   "cell_type": "markdown",
   "id": "da4c8c1f",
   "metadata": {},
   "source": [
    "## How this book should be used"
   ]
  },
  {
   "cell_type": "markdown",
   "id": "79002a00",
   "metadata": {},
   "source": [
    "This book should be read and followed along with.  Even better if you open these notebooks up and walk through the code as you read!  If something doesn't make sense, play with it until it does.\n",
    "\n",
    "Once you do that, you should do a similar project on your own dataset while referencing the book as little as possible.  A good first step is switching out the dataset to your own dataset.  A good next step is coming up with a variation or experiment not tried in the book to add."
   ]
  },
  {
   "cell_type": "code",
   "execution_count": null,
   "id": "736a2f85",
   "metadata": {},
   "outputs": [],
   "source": []
  }
 ],
 "metadata": {
  "kernelspec": {
   "display_name": "Python 3 (ipykernel)",
   "language": "python",
   "name": "python3"
  },
  "language_info": {
   "codemirror_mode": {
    "name": "ipython",
    "version": 3
   },
   "file_extension": ".py",
   "mimetype": "text/x-python",
   "name": "python",
   "nbconvert_exporter": "python",
   "pygments_lexer": "ipython3",
   "version": "3.8.9"
  },
  "toc": {
   "base_numbering": 1,
   "nav_menu": {},
   "number_sections": true,
   "sideBar": true,
   "skip_h1_title": false,
   "title_cell": "Table of Contents",
   "title_sidebar": "Contents",
   "toc_cell": false,
   "toc_position": {},
   "toc_section_display": true,
   "toc_window_display": false
  }
 },
 "nbformat": 4,
 "nbformat_minor": 5
}
