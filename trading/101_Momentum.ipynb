{
 "cells": [
  {
   "cell_type": "markdown",
   "metadata": {},
   "source": [
    "# Momentum"
   ]
  },
  {
   "cell_type": "code",
   "execution_count": 23,
   "metadata": {},
   "outputs": [],
   "source": [
    "from fastcore.all import *\n",
    "import pandas as pd\n",
    "import numpy as np\n",
    "import matplotlib.pyplot as plt"
   ]
  },
  {
   "cell_type": "code",
   "execution_count": 24,
   "metadata": {},
   "outputs": [],
   "source": [
    "path = Path('../data')"
   ]
  },
  {
   "cell_type": "markdown",
   "metadata": {},
   "source": [
    "## Overview"
   ]
  },
  {
   "cell_type": "markdown",
   "metadata": {},
   "source": [
    "In this article we will discuss basic windows for stock prices and test different methodologies for using them to make buy/sell decisions.  This is intended to be a first step in exploring quant trading and not a full fledged strategy or discussion of all apects of trading.  I hope that after reading this you will walk away understanding:\n",
    "\n",
    "+ What good minimal example of a trading strategy could look like that we can build ontop of\n",
    "+ How to take a concept/idea and understand what the tunable parameters/levers are\n",
    "+ What are the most important things that should be top of mind when testing an approach\n",
    "\n",
    "There are many more concepts not covered in this article that are absolutely crucial to being a successful quant.  Future articles will cover many of those concepts, but I think this will be an interesting and informative first step!"
   ]
  },
  {
   "cell_type": "markdown",
   "metadata": {},
   "source": [
    "## Intuition"
   ]
  },
  {
   "cell_type": "markdown",
   "metadata": {},
   "source": [
    "### Importance"
   ]
  },
  {
   "cell_type": "markdown",
   "metadata": {},
   "source": [
    "Before diving into the technical bits, it is *always* a good idea to take the time to think about things at a high level and why your idea might work.  We can generate ideas *much* faster than we can code and test them, so we need to use intuition and experience to help guide us in which ideas we want to prioritize.  Intuition is important and where I start - but intuition is not reliable enough on it's own - we **must** then turn intuition into code with rigorous testing before we can decide whether to implement the strategy.  Every chapter will start with this."
   ]
  },
  {
   "cell_type": "markdown",
   "metadata": {},
   "source": [
    "### Belief"
   ]
  },
  {
   "cell_type": "markdown",
   "metadata": {},
   "source": [
    "I believe how a company is doing over the last month can be used to predict how how well it will do in the future.  This isn't much of a leap, but let's think about a few reasons as to why this may be true.\n",
    "\n",
    "+ **Available Capital:** If a company is doing well, it typically means they have more profit.  More profit means more that can be reinvested.  More reinvestment can mean faster growth.\n",
    "\n",
    "+ **Economies of Scale:** Often the more successful a company is the more they can drive down cost in some areas.  For example, General Mills can buy sugar at a lower price than a small business due to their buying power.  As buying power increase, they can leverage that to drive down costs.\n",
    "    \n",
    "+ **Brand Recognition:** The more successful a business is and the larger it grows, the more brand recognition it has.  The more brand recognition it has the more it can leverage it's brand to grow."
   ]
  },
  {
   "cell_type": "markdown",
   "metadata": {},
   "source": [
    "### Hypothesis"
   ]
  },
  {
   "cell_type": "markdown",
   "metadata": {},
   "source": [
    "The *hypothesis* for this chapter is that recent stock performance can be used on its own to predict future stock performance.  Regardless of how much we believe that to be true, we should not trade based on this belief until we have evidence.  This chapter will explore several options for using this hypothesis to make trades, and give a foundation in how we may test and determine whether this is an idea worth keeping."
   ]
  },
  {
   "cell_type": "markdown",
   "metadata": {},
   "source": [
    "## The Data"
   ]
  },
  {
   "cell_type": "markdown",
   "metadata": {},
   "source": [
    "### Load data"
   ]
  },
  {
   "cell_type": "markdown",
   "metadata": {},
   "source": [
    "First let's take a look at the data we will be using and talk a bit about it.  We can load it in with pandas."
   ]
  },
  {
   "cell_type": "code",
   "execution_count": 25,
   "metadata": {
    "scrolled": false
   },
   "outputs": [
    {
     "data": {
      "text/html": [
       "<div>\n",
       "<style scoped>\n",
       "    .dataframe tbody tr th:only-of-type {\n",
       "        vertical-align: middle;\n",
       "    }\n",
       "\n",
       "    .dataframe tbody tr th {\n",
       "        vertical-align: top;\n",
       "    }\n",
       "\n",
       "    .dataframe thead th {\n",
       "        text-align: right;\n",
       "    }\n",
       "</style>\n",
       "<table border=\"1\" class=\"dataframe\">\n",
       "  <thead>\n",
       "    <tr style=\"text-align: right;\">\n",
       "      <th></th>\n",
       "      <th>date</th>\n",
       "      <th>ticker</th>\n",
       "      <th>adj_close</th>\n",
       "    </tr>\n",
       "  </thead>\n",
       "  <tbody>\n",
       "    <tr>\n",
       "      <th>0</th>\n",
       "      <td>2013-07-01</td>\n",
       "      <td>A</td>\n",
       "      <td>29.994186</td>\n",
       "    </tr>\n",
       "    <tr>\n",
       "      <th>1</th>\n",
       "      <td>2013-07-02</td>\n",
       "      <td>A</td>\n",
       "      <td>29.650137</td>\n",
       "    </tr>\n",
       "    <tr>\n",
       "      <th>2</th>\n",
       "      <td>2013-07-03</td>\n",
       "      <td>A</td>\n",
       "      <td>29.705185</td>\n",
       "    </tr>\n",
       "  </tbody>\n",
       "</table>\n",
       "</div>"
      ],
      "text/plain": [
       "        date ticker  adj_close\n",
       "0 2013-07-01      A  29.994186\n",
       "1 2013-07-02      A  29.650137\n",
       "2 2013-07-03      A  29.705185"
      ]
     },
     "execution_count": 25,
     "metadata": {},
     "output_type": "execute_result"
    }
   ],
   "source": [
    "raw = pd.read_csv(path/'eod-quotemedia.csv',parse_dates=['date'])\n",
    "raw.head(3)"
   ]
  },
  {
   "cell_type": "markdown",
   "metadata": {},
   "source": [
    ":::{note} A ticker is a symbol associated with a company.  For example Apple has the ticker `AAPL`.  To buy shares in Apple you would buy `AAPL`."
   ]
  },
  {
   "cell_type": "markdown",
   "metadata": {},
   "source": [
    "We have a dataframe that contains the `adjusted close price` for each day for each ticker in our universe.  After every transaction, the price of a stock changes slightly.  The `adjusted close price` is the last stock price of the day.  While this is not as detailed as having the price at a more granular level (second, minute, hour, etc.), called `tick` data, we can use daily close price to test many types of strategies."
   ]
  },
  {
   "cell_type": "markdown",
   "metadata": {},
   "source": [
    "A good first step is to use pandas' describe method.  As we do this we see a few good pieces of information to keep in mind:\n",
    "+ Overall size of dataset - 409K rows\n",
    "+ Very big range in values (~1 - ~1K), which most of them before $100"
   ]
  },
  {
   "cell_type": "code",
   "execution_count": 26,
   "metadata": {
    "scrolled": true
   },
   "outputs": [
    {
     "data": {
      "text/html": [
       "<div>\n",
       "<style scoped>\n",
       "    .dataframe tbody tr th:only-of-type {\n",
       "        vertical-align: middle;\n",
       "    }\n",
       "\n",
       "    .dataframe tbody tr th {\n",
       "        vertical-align: top;\n",
       "    }\n",
       "\n",
       "    .dataframe thead th {\n",
       "        text-align: right;\n",
       "    }\n",
       "</style>\n",
       "<table border=\"1\" class=\"dataframe\">\n",
       "  <thead>\n",
       "    <tr style=\"text-align: right;\">\n",
       "      <th></th>\n",
       "      <th>count</th>\n",
       "      <th>mean</th>\n",
       "      <th>std</th>\n",
       "      <th>min</th>\n",
       "      <th>25%</th>\n",
       "      <th>50%</th>\n",
       "      <th>75%</th>\n",
       "      <th>max</th>\n",
       "    </tr>\n",
       "  </thead>\n",
       "  <tbody>\n",
       "    <tr>\n",
       "      <th>adj_close</th>\n",
       "      <td>490737.0</td>\n",
       "      <td>75.100472</td>\n",
       "      <td>75.438804</td>\n",
       "      <td>1.59</td>\n",
       "      <td>36.782424</td>\n",
       "      <td>57.499593</td>\n",
       "      <td>87.4</td>\n",
       "      <td>1011.34</td>\n",
       "    </tr>\n",
       "  </tbody>\n",
       "</table>\n",
       "</div>"
      ],
      "text/plain": [
       "              count       mean        std   min        25%        50%   75%  \\\n",
       "adj_close  490737.0  75.100472  75.438804  1.59  36.782424  57.499593  87.4   \n",
       "\n",
       "               max  \n",
       "adj_close  1011.34  "
      ]
     },
     "execution_count": 26,
     "metadata": {},
     "output_type": "execute_result"
    }
   ],
   "source": [
    "raw.describe().transpose()"
   ]
  },
  {
   "cell_type": "markdown",
   "metadata": {},
   "source": [
    "### Null Values"
   ]
  },
  {
   "cell_type": "markdown",
   "metadata": {},
   "source": [
    "Let's take a look and make sure we don't have any null values to handle.  This is one of those things you should do with every dataset.  This is a great opportunity to show how you can add in simple tests into your code as you go, which will help you catch issues as you iterate and change things."
   ]
  },
  {
   "cell_type": "code",
   "execution_count": 27,
   "metadata": {},
   "outputs": [],
   "source": [
    "assert np.array([o==0 for o in raw.isnull().sum()]).all() == True"
   ]
  },
  {
   "cell_type": "markdown",
   "metadata": {},
   "source": [
    "We also want to take a quick look at the non numberic columns to get an idea of what time frame we have and how many tickers.  This is often known from the dataset, but it is good practice to look at the dataset and ensure that your understanding of the dataset aligns with what you see in the data. "
   ]
  },
  {
   "cell_type": "code",
   "execution_count": 28,
   "metadata": {},
   "outputs": [
    {
     "name": "stdout",
     "output_type": "stream",
     "text": [
      "Date column contains dates from 2013-07-01 to 2017-06-30\n"
     ]
    }
   ],
   "source": [
    "print(f\"Date column contains dates from {raw.date.min().date()} to {raw.date.max().date()}\")"
   ]
  },
  {
   "cell_type": "markdown",
   "metadata": {},
   "source": [
    "### Survivorship bias"
   ]
  },
  {
   "cell_type": "markdown",
   "metadata": {},
   "source": [
    "Let's see if all tickers in the dataset have the same start and end date."
   ]
  },
  {
   "cell_type": "code",
   "execution_count": 29,
   "metadata": {},
   "outputs": [
    {
     "name": "stdout",
     "output_type": "stream",
     "text": [
      "Out of 495 tickers:\n",
      "  + 20 do do not start on 2013-07-01\n",
      "  + 0 do not have an entry for 2017-06-30.\n"
     ]
    }
   ],
   "source": [
    "ticker_cnt = len(raw.ticker.unique())\n",
    "\n",
    "_min = raw[['ticker','date']].groupby('ticker').min()\n",
    "_min = _min[_min.date != '2013-07-01'].count().date\n",
    "\n",
    "_max = raw[['ticker','date']].groupby('ticker').max()\n",
    "_max = _max[_max.date != '2017-06-30'].count().date\n",
    "\n",
    "print(f'''Out of {ticker_cnt} tickers:\n",
    "  + 20 do do not start on 2013-07-01\n",
    "  + 0 do not have an entry for 2017-06-30.''')"
   ]
  },
  {
   "cell_type": "markdown",
   "metadata": {},
   "source": [
    "Ok good thing we checked!  Let's think through what these data points mean:\n",
    "+ Not all the tickers have the same start date.  This makes some intuitive sense because some of the companies may not have been founded until after the start date of the dataset.  They also may not have fit the criteria for the ticker universe (ie too small) until after the start date.\n",
    "+ All of the tickers have an entry for 2017-06-30.  While it's not definitive proof of an issue, it is cause for concern.  This dataset may have a survivorship bias built in."
   ]
  },
  {
   "cell_type": "markdown",
   "metadata": {},
   "source": [
    "The fact that every ticker still has a close price on the last day, means that as of the end of the dataset none of the companies in the dataset went out of business or were taken private.  A common reason this occurs in datasets is when a dataset is defined using future information.\n",
    "\n",
    "For example if I look at the S&P 500 companies today and build a dataset of their stock prices over the last 5 years, every model I build will show better results than in reality.  By setting up the dataset using what is known on the last day of the period (all active S&P 500 companies), we are filtering out all companies that were in the S&P 500 but performed poorly they dropped out of the S&P 500.  We used our knowledge from today to create a historical dataset, which created bias.\n",
    "\n",
    "When we see all tickers in the universe have a stock price on the last day, it's important to verify that this did not happen in your dataset.  When we talk about testing later, we will talk about how we can test to ensure we have accurate results."
   ]
  },
  {
   "cell_type": "markdown",
   "metadata": {},
   "source": [
    "### Reformat"
   ]
  },
  {
   "cell_type": "markdown",
   "metadata": {},
   "source": [
    "Now that we have an basic idea of what's in our data we can reformat it to a format that will be easier to use for analysis.  For what we are doing we will be applying things based on ticker, so let's give each ticker it's own column."
   ]
  },
  {
   "cell_type": "code",
   "execution_count": 30,
   "metadata": {},
   "outputs": [
    {
     "data": {
      "text/html": [
       "<div>\n",
       "<style scoped>\n",
       "    .dataframe tbody tr th:only-of-type {\n",
       "        vertical-align: middle;\n",
       "    }\n",
       "\n",
       "    .dataframe tbody tr th {\n",
       "        vertical-align: top;\n",
       "    }\n",
       "\n",
       "    .dataframe thead th {\n",
       "        text-align: right;\n",
       "    }\n",
       "</style>\n",
       "<table border=\"1\" class=\"dataframe\">\n",
       "  <thead>\n",
       "    <tr style=\"text-align: right;\">\n",
       "      <th>ticker</th>\n",
       "      <th>A</th>\n",
       "      <th>AAL</th>\n",
       "      <th>AAP</th>\n",
       "      <th>AAPL</th>\n",
       "      <th>ABBV</th>\n",
       "    </tr>\n",
       "    <tr>\n",
       "      <th>date</th>\n",
       "      <th></th>\n",
       "      <th></th>\n",
       "      <th></th>\n",
       "      <th></th>\n",
       "      <th></th>\n",
       "    </tr>\n",
       "  </thead>\n",
       "  <tbody>\n",
       "    <tr>\n",
       "      <th>2013-07-01</th>\n",
       "      <td>29.994186</td>\n",
       "      <td>16.176093</td>\n",
       "      <td>81.138217</td>\n",
       "      <td>53.109173</td>\n",
       "      <td>34.924478</td>\n",
       "    </tr>\n",
       "    <tr>\n",
       "      <th>2013-07-02</th>\n",
       "      <td>29.650137</td>\n",
       "      <td>15.819834</td>\n",
       "      <td>80.722073</td>\n",
       "      <td>54.312247</td>\n",
       "      <td>35.428076</td>\n",
       "    </tr>\n",
       "    <tr>\n",
       "      <th>2013-07-03</th>\n",
       "      <td>29.705185</td>\n",
       "      <td>16.127950</td>\n",
       "      <td>81.237299</td>\n",
       "      <td>54.612043</td>\n",
       "      <td>35.444862</td>\n",
       "    </tr>\n",
       "  </tbody>\n",
       "</table>\n",
       "</div>"
      ],
      "text/plain": [
       "ticker              A        AAL        AAP       AAPL       ABBV\n",
       "date                                                             \n",
       "2013-07-01  29.994186  16.176093  81.138217  53.109173  34.924478\n",
       "2013-07-02  29.650137  15.819834  80.722073  54.312247  35.428076\n",
       "2013-07-03  29.705185  16.127950  81.237299  54.612043  35.444862"
      ]
     },
     "execution_count": 30,
     "metadata": {},
     "output_type": "execute_result"
    }
   ],
   "source": [
    "df = raw.pivot(index='date', columns='ticker',values='adj_close')\n",
    "df.iloc[:,:5].head(3)"
   ]
  },
  {
   "cell_type": "markdown",
   "metadata": {},
   "source": [
    "We can use the same describe as above to see statistics about each ticker."
   ]
  },
  {
   "cell_type": "code",
   "execution_count": 31,
   "metadata": {
    "scrolled": true
   },
   "outputs": [
    {
     "data": {
      "text/html": [
       "<div>\n",
       "<style scoped>\n",
       "    .dataframe tbody tr th:only-of-type {\n",
       "        vertical-align: middle;\n",
       "    }\n",
       "\n",
       "    .dataframe tbody tr th {\n",
       "        vertical-align: top;\n",
       "    }\n",
       "\n",
       "    .dataframe thead th {\n",
       "        text-align: right;\n",
       "    }\n",
       "</style>\n",
       "<table border=\"1\" class=\"dataframe\">\n",
       "  <thead>\n",
       "    <tr style=\"text-align: right;\">\n",
       "      <th>ticker</th>\n",
       "      <th>A</th>\n",
       "      <th>AAL</th>\n",
       "      <th>AAP</th>\n",
       "      <th>AAPL</th>\n",
       "      <th>ABBV</th>\n",
       "    </tr>\n",
       "  </thead>\n",
       "  <tbody>\n",
       "    <tr>\n",
       "      <th>count</th>\n",
       "      <td>1009.000000</td>\n",
       "      <td>1009.000000</td>\n",
       "      <td>1009.000000</td>\n",
       "      <td>1009.000000</td>\n",
       "      <td>1009.000000</td>\n",
       "    </tr>\n",
       "    <tr>\n",
       "      <th>mean</th>\n",
       "      <td>40.983757</td>\n",
       "      <td>37.811501</td>\n",
       "      <td>141.576280</td>\n",
       "      <td>100.360320</td>\n",
       "      <td>52.977953</td>\n",
       "    </tr>\n",
       "    <tr>\n",
       "      <th>std</th>\n",
       "      <td>5.850163</td>\n",
       "      <td>8.816410</td>\n",
       "      <td>26.260390</td>\n",
       "      <td>22.660593</td>\n",
       "      <td>7.897264</td>\n",
       "    </tr>\n",
       "    <tr>\n",
       "      <th>min</th>\n",
       "      <td>29.650137</td>\n",
       "      <td>14.770314</td>\n",
       "      <td>78.393647</td>\n",
       "      <td>53.109173</td>\n",
       "      <td>34.924478</td>\n",
       "    </tr>\n",
       "    <tr>\n",
       "      <th>25%</th>\n",
       "      <td>37.656517</td>\n",
       "      <td>34.383874</td>\n",
       "      <td>125.561609</td>\n",
       "      <td>87.186576</td>\n",
       "      <td>46.981317</td>\n",
       "    </tr>\n",
       "    <tr>\n",
       "      <th>50%</th>\n",
       "      <td>39.700762</td>\n",
       "      <td>39.218491</td>\n",
       "      <td>147.450711</td>\n",
       "      <td>102.884811</td>\n",
       "      <td>53.983957</td>\n",
       "    </tr>\n",
       "    <tr>\n",
       "      <th>75%</th>\n",
       "      <td>43.944859</td>\n",
       "      <td>43.681272</td>\n",
       "      <td>159.019446</td>\n",
       "      <td>114.257784</td>\n",
       "      <td>59.212432</td>\n",
       "    </tr>\n",
       "    <tr>\n",
       "      <th>max</th>\n",
       "      <td>60.131015</td>\n",
       "      <td>54.071539</td>\n",
       "      <td>199.374304</td>\n",
       "      <td>153.694280</td>\n",
       "      <td>70.780784</td>\n",
       "    </tr>\n",
       "  </tbody>\n",
       "</table>\n",
       "</div>"
      ],
      "text/plain": [
       "ticker            A          AAL          AAP         AAPL         ABBV\n",
       "count   1009.000000  1009.000000  1009.000000  1009.000000  1009.000000\n",
       "mean      40.983757    37.811501   141.576280   100.360320    52.977953\n",
       "std        5.850163     8.816410    26.260390    22.660593     7.897264\n",
       "min       29.650137    14.770314    78.393647    53.109173    34.924478\n",
       "25%       37.656517    34.383874   125.561609    87.186576    46.981317\n",
       "50%       39.700762    39.218491   147.450711   102.884811    53.983957\n",
       "75%       43.944859    43.681272   159.019446   114.257784    59.212432\n",
       "max       60.131015    54.071539   199.374304   153.694280    70.780784"
      ]
     },
     "execution_count": 31,
     "metadata": {},
     "output_type": "execute_result"
    }
   ],
   "source": [
    "df.iloc[:,:5].describe()"
   ]
  },
  {
   "cell_type": "markdown",
   "metadata": {},
   "source": [
    "### Validation Set"
   ]
  },
  {
   "cell_type": "markdown",
   "metadata": {},
   "source": [
    "I am going to set aside some of the data and not look at it any further.  The reason I am doing this is so I have a secondary unseen dataset to test my strategies.  I want to develop models on one set up data, but evaluate them on another.  This may not seem important, but it is absolutely crucial.  The more complex your model and analysis the more important this becomes.  This will be discussed in much greater detail in the backtesting chapter, but for now just take my word for it (or go read that chapter and come back).\n",
    "\n",
    "With time series, generally you want your validation set to be the most recent data.  This reflects reality best; creating a model on data with the intent to use it on future data."
   ]
  },
  {
   "cell_type": "code",
   "execution_count": 37,
   "metadata": {},
   "outputs": [],
   "source": [
    "train = df.loc[:pd.Timestamp('2017-1-1 01:00:00')]\n",
    "valid = df.loc[pd.Timestamp('2017-1-1 01:00:00'):]"
   ]
  },
  {
   "cell_type": "markdown",
   "metadata": {},
   "source": [
    "## Models"
   ]
  },
  {
   "cell_type": "markdown",
   "metadata": {},
   "source": [
    "### Basic Momentum"
   ]
  },
  {
   "cell_type": "markdown",
   "metadata": {},
   "source": [
    "As our first model let's do a basic momentum model.  For this we will take the percent difference between the current stock price and the stock price from a set time in the past.  As we think about this approach there are several levers we can pull time find tune our approach:\n",
    "+ **Time Range:** We could use the past 5 days, or past 30 days, or the past year.  How far back should we be comparing?\n",
    "+ **Threshold:** What threshold do we need to cross before we consider it momentous enough to take an action?  Is a 1%, 5%, 10%?\n",
    "+ **What action?**  Is it just buy and sell?  Could we use this to short?\n",
    "\n",
    "\n",
    "We will use 28 days for the time range and 8% for our threshold in this example to demonstrate the concept, but in the testing section we will show how to test different parameners."
   ]
  },
  {
   "cell_type": "code",
   "execution_count": 39,
   "metadata": {},
   "outputs": [],
   "source": [
    "def get_momentum_actions(df, n_periods,threshold):\n",
    "    _x = df.shift(n_periods)\n",
    "    momentum_rate = df.apply(lambda x: (x-x.shift(n_periods))/x.shift(n_periods))[n_periods:]\n",
    "\n",
    "    actions = pd.DataFrame(np.where(momentum_rate < -threshold, 'Sell',\n",
    "                           np.where(momentum_rate > threshold,  'Buy',\n",
    "                                                                 '')),\n",
    "                   columns=momentum_rate.columns,index=momentum_rate.index)\n",
    "    return actions"
   ]
  },
  {
   "cell_type": "code",
   "execution_count": 40,
   "metadata": {},
   "outputs": [
    {
     "data": {
      "text/html": [
       "<div>\n",
       "<style scoped>\n",
       "    .dataframe tbody tr th:only-of-type {\n",
       "        vertical-align: middle;\n",
       "    }\n",
       "\n",
       "    .dataframe tbody tr th {\n",
       "        vertical-align: top;\n",
       "    }\n",
       "\n",
       "    .dataframe thead th {\n",
       "        text-align: right;\n",
       "    }\n",
       "</style>\n",
       "<table border=\"1\" class=\"dataframe\">\n",
       "  <thead>\n",
       "    <tr style=\"text-align: right;\">\n",
       "      <th>ticker</th>\n",
       "      <th>A</th>\n",
       "      <th>AAL</th>\n",
       "      <th>AAP</th>\n",
       "      <th>AAPL</th>\n",
       "      <th>ABBV</th>\n",
       "    </tr>\n",
       "    <tr>\n",
       "      <th>date</th>\n",
       "      <th></th>\n",
       "      <th></th>\n",
       "      <th></th>\n",
       "      <th></th>\n",
       "      <th></th>\n",
       "    </tr>\n",
       "  </thead>\n",
       "  <tbody>\n",
       "    <tr>\n",
       "      <th>2013-08-09</th>\n",
       "      <td></td>\n",
       "      <td>Buy</td>\n",
       "      <td></td>\n",
       "      <td>Buy</td>\n",
       "      <td>Buy</td>\n",
       "    </tr>\n",
       "    <tr>\n",
       "      <th>2013-08-12</th>\n",
       "      <td></td>\n",
       "      <td>Buy</td>\n",
       "      <td></td>\n",
       "      <td>Buy</td>\n",
       "      <td></td>\n",
       "    </tr>\n",
       "    <tr>\n",
       "      <th>2013-08-13</th>\n",
       "      <td>Buy</td>\n",
       "      <td></td>\n",
       "      <td></td>\n",
       "      <td>Buy</td>\n",
       "      <td></td>\n",
       "    </tr>\n",
       "    <tr>\n",
       "      <th>2013-08-14</th>\n",
       "      <td></td>\n",
       "      <td></td>\n",
       "      <td></td>\n",
       "      <td>Buy</td>\n",
       "      <td></td>\n",
       "    </tr>\n",
       "    <tr>\n",
       "      <th>2013-08-15</th>\n",
       "      <td></td>\n",
       "      <td></td>\n",
       "      <td></td>\n",
       "      <td>Buy</td>\n",
       "      <td></td>\n",
       "    </tr>\n",
       "    <tr>\n",
       "      <th>2013-08-16</th>\n",
       "      <td></td>\n",
       "      <td></td>\n",
       "      <td></td>\n",
       "      <td>Buy</td>\n",
       "      <td></td>\n",
       "    </tr>\n",
       "    <tr>\n",
       "      <th>2013-08-19</th>\n",
       "      <td></td>\n",
       "      <td>Sell</td>\n",
       "      <td></td>\n",
       "      <td>Buy</td>\n",
       "      <td></td>\n",
       "    </tr>\n",
       "    <tr>\n",
       "      <th>2013-08-20</th>\n",
       "      <td></td>\n",
       "      <td>Sell</td>\n",
       "      <td></td>\n",
       "      <td>Buy</td>\n",
       "      <td></td>\n",
       "    </tr>\n",
       "    <tr>\n",
       "      <th>2013-08-21</th>\n",
       "      <td></td>\n",
       "      <td>Sell</td>\n",
       "      <td></td>\n",
       "      <td>Buy</td>\n",
       "      <td></td>\n",
       "    </tr>\n",
       "    <tr>\n",
       "      <th>2013-08-22</th>\n",
       "      <td></td>\n",
       "      <td>Sell</td>\n",
       "      <td></td>\n",
       "      <td>Buy</td>\n",
       "      <td></td>\n",
       "    </tr>\n",
       "  </tbody>\n",
       "</table>\n",
       "</div>"
      ],
      "text/plain": [
       "ticker        A   AAL AAP AAPL ABBV\n",
       "date                               \n",
       "2013-08-09        Buy      Buy  Buy\n",
       "2013-08-12        Buy      Buy     \n",
       "2013-08-13  Buy            Buy     \n",
       "2013-08-14                 Buy     \n",
       "2013-08-15                 Buy     \n",
       "2013-08-16                 Buy     \n",
       "2013-08-19       Sell      Buy     \n",
       "2013-08-20       Sell      Buy     \n",
       "2013-08-21       Sell      Buy     \n",
       "2013-08-22       Sell      Buy     "
      ]
     },
     "execution_count": 40,
     "metadata": {},
     "output_type": "execute_result"
    }
   ],
   "source": [
    "actions = get_momentum_actions(train,n_periods=28,threshold=0.08)\n",
    "actions.head(10).iloc[:,:5]"
   ]
  },
  {
   "cell_type": "markdown",
   "metadata": {},
   "source": [
    "This leaves us with a nice table of what actions we are going to execute each day for each stock.  Let's look at some other options for using this momentum-esque concept, and then we can test them all and compare how they perform at the end."
   ]
  },
  {
   "cell_type": "markdown",
   "metadata": {},
   "source": [
    "### Regression Momentum"
   ]
  },
  {
   "cell_type": "markdown",
   "metadata": {},
   "source": [
    "Our previous approach was just the % change between 2 dates.  But what if one of those days is an outlier?  Should we really make a decision based on just 2 data points?  To address these concerns we will define momentum slightly differently, with the slope of a fit regression.\n",
    "\n",
    "If we look at this example below with Apple for a 10 day period, we see a bunch of data points.  Every 4 data points has a regression trend line fit to them.  In this way, we can use the slope of that line to determine how much momentum it has.  In this way we use all the recent data points to influence momentum and not just the first and last "
   ]
  },
  {
   "cell_type": "code",
   "execution_count": 21,
   "metadata": {
    "tags": [
     "hide-input"
    ]
   },
   "outputs": [
    {
     "data": {
      "image/png": "[encoded data removed]",
      "text/plain": [
       "<Figure size 1080x576 with 1 Axes>"
      ]
     },
     "metadata": {
      "needs_background": "light"
     },
     "output_type": "display_data"
    }
   ],
   "source": [
    "from sklearn.linear_model import LinearRegression\n",
    "\n",
    "fig,ax = plt.subplots(figsize=(15,8))\n",
    "_ = train['AAPL'].iloc[:10]\n",
    "x1 = _.index.day.values\n",
    "y1 = _.values\n",
    "\n",
    "sz = 4\n",
    "regr_y = [y1[i:i+sz] for i in range(0,len(y1)-(sz-1))]\n",
    "regr_x = [x1[i:i+sz].reshape(-1, 1) for i in range(0,len(x1)-(sz-1))]\n",
    "\n",
    "regr = [LinearRegression().fit(x,y).predict(x) for x,y in zip(regr_x,regr_y)]\n",
    "\n",
    "\n",
    "regr_padded = [[None]*i+list(r)+[None]*(len(x1)-sz-i) for i,r in enumerate(regr)]\n",
    "\n",
    "\n",
    "ax.scatter(_.index,y1)\n",
    "for i in range(len(regr)): ax.plot(_.index,regr_padded[i])\n",
    "\n",
    "fig.suptitle(\"Window Regression Lines\",fontsize=50)\n",
    "plt.show()"
   ]
  },
  {
   "cell_type": "markdown",
   "metadata": {},
   "source": [
    "So we take the slope of best fit for the time range window.  There are very similar levers as before we can change to fine tune out approach:\n",
    "+ **Time Range:** We could use the past 5 days, or past 30 days, or the past year.  How far back should we be comparing?\n",
    "+ **Threshold:** What threshold do we need to cross before we consider it momentous enough to take an action?  Is a slope of 1? Slope of 10?  Should we do something other than a set value?\n",
    "+ **What action?**  Is it just buy and sell?  Could we use this to short?\n",
    "\n",
    "We will use 28 days for the time range and $5 for our threshold in this example to demonstrate the concept, but in the testing section we will show how to test different parameters.\n",
    "\n",
    ":::{note} We are assuming that every day is equally spaced in this regression.  I reality, the stock market is not open daily.  We are ignoring this for this analysis to keep things simple, but it will be something for us to revisit later in the book!\n",
    "\n",
    "In this section we are using a straight dollar threshold instead of a percentage.  This can cause difficulties because a ticker with a share price at 20 dollars increasing to 25 dollars is a HUGE increase.  If a stock goes from 500 to 505 dollars that is not nearly as big of a deal.  The point of this section is to show variety of options and get you thinking, so we will keep this one as is!\n",
    "\n",
    "Let's codify our approach so we have a function we can use to test with later."
   ]
  },
  {
   "cell_type": "code",
   "execution_count": 13,
   "metadata": {},
   "outputs": [],
   "source": [
    "def get_momentum_regr_actions(df, n_periods,threshold):\n",
    "    _x = df.shift(n_periods)\n",
    "    mom_window = df.rolling(n_periods)\n",
    "    mom_rate = mom_window.apply(lambda y: LinearRegression().\n",
    "                                    fit(np.array(range(n_periods)).\n",
    "                                    reshape(-1, 1),y).coef_)\n",
    "    mom_rate = mom_rate[n_periods:]\n",
    "    \n",
    "    actions = pd.DataFrame(np.where(mom_rate < -threshold, 'Sell',\n",
    "                           np.where(mom_rate > threshold,  'Buy',\n",
    "                                                                 '')),\n",
    "                   columns=mom_rate.columns,index=mom_rate.index)\n",
    "    return actions"
   ]
  },
  {
   "cell_type": "code",
   "execution_count": 14,
   "metadata": {},
   "outputs": [
    {
     "data": {
      "text/html": [
       "<div>\n",
       "<style scoped>\n",
       "    .dataframe tbody tr th:only-of-type {\n",
       "        vertical-align: middle;\n",
       "    }\n",
       "\n",
       "    .dataframe tbody tr th {\n",
       "        vertical-align: top;\n",
       "    }\n",
       "\n",
       "    .dataframe thead th {\n",
       "        text-align: right;\n",
       "    }\n",
       "</style>\n",
       "<table border=\"1\" class=\"dataframe\">\n",
       "  <thead>\n",
       "    <tr style=\"text-align: right;\">\n",
       "      <th>ticker</th>\n",
       "      <th>A</th>\n",
       "      <th>AAL</th>\n",
       "      <th>AAP</th>\n",
       "      <th>AAPL</th>\n",
       "      <th>ABBV</th>\n",
       "    </tr>\n",
       "    <tr>\n",
       "      <th>date</th>\n",
       "      <th></th>\n",
       "      <th></th>\n",
       "      <th></th>\n",
       "      <th></th>\n",
       "      <th></th>\n",
       "    </tr>\n",
       "  </thead>\n",
       "  <tbody>\n",
       "    <tr>\n",
       "      <th>2013-08-09</th>\n",
       "      <td></td>\n",
       "      <td></td>\n",
       "      <td></td>\n",
       "      <td>Buy</td>\n",
       "      <td></td>\n",
       "    </tr>\n",
       "    <tr>\n",
       "      <th>2013-08-12</th>\n",
       "      <td></td>\n",
       "      <td></td>\n",
       "      <td></td>\n",
       "      <td>Buy</td>\n",
       "      <td></td>\n",
       "    </tr>\n",
       "    <tr>\n",
       "      <th>2013-08-13</th>\n",
       "      <td></td>\n",
       "      <td></td>\n",
       "      <td></td>\n",
       "      <td>Buy</td>\n",
       "      <td></td>\n",
       "    </tr>\n",
       "    <tr>\n",
       "      <th>2013-08-14</th>\n",
       "      <td></td>\n",
       "      <td></td>\n",
       "      <td></td>\n",
       "      <td>Buy</td>\n",
       "      <td></td>\n",
       "    </tr>\n",
       "    <tr>\n",
       "      <th>2013-08-15</th>\n",
       "      <td></td>\n",
       "      <td></td>\n",
       "      <td></td>\n",
       "      <td>Buy</td>\n",
       "      <td></td>\n",
       "    </tr>\n",
       "    <tr>\n",
       "      <th>2013-08-16</th>\n",
       "      <td></td>\n",
       "      <td></td>\n",
       "      <td></td>\n",
       "      <td>Buy</td>\n",
       "      <td></td>\n",
       "    </tr>\n",
       "    <tr>\n",
       "      <th>2013-08-19</th>\n",
       "      <td></td>\n",
       "      <td></td>\n",
       "      <td></td>\n",
       "      <td>Buy</td>\n",
       "      <td></td>\n",
       "    </tr>\n",
       "    <tr>\n",
       "      <th>2013-08-20</th>\n",
       "      <td></td>\n",
       "      <td></td>\n",
       "      <td></td>\n",
       "      <td>Buy</td>\n",
       "      <td></td>\n",
       "    </tr>\n",
       "    <tr>\n",
       "      <th>2013-08-21</th>\n",
       "      <td></td>\n",
       "      <td></td>\n",
       "      <td></td>\n",
       "      <td>Buy</td>\n",
       "      <td></td>\n",
       "    </tr>\n",
       "    <tr>\n",
       "      <th>2013-08-22</th>\n",
       "      <td></td>\n",
       "      <td></td>\n",
       "      <td></td>\n",
       "      <td>Buy</td>\n",
       "      <td></td>\n",
       "    </tr>\n",
       "  </tbody>\n",
       "</table>\n",
       "</div>"
      ],
      "text/plain": [
       "ticker     A AAL AAP AAPL ABBV\n",
       "date                          \n",
       "2013-08-09            Buy     \n",
       "2013-08-12            Buy     \n",
       "2013-08-13            Buy     \n",
       "2013-08-14            Buy     \n",
       "2013-08-15            Buy     \n",
       "2013-08-16            Buy     \n",
       "2013-08-19            Buy     \n",
       "2013-08-20            Buy     \n",
       "2013-08-21            Buy     \n",
       "2013-08-22            Buy     "
      ]
     },
     "execution_count": 14,
     "metadata": {},
     "output_type": "execute_result"
    }
   ],
   "source": [
    "actions = get_momentum_regr_actions(train,n_periods=28,threshold=.24)\n",
    "actions.head(10).iloc[:,:5]"
   ]
  },
  {
   "cell_type": "markdown",
   "metadata": {},
   "source": [
    "### Bollinger Bands"
   ]
  },
  {
   "cell_type": "markdown",
   "metadata": {},
   "source": [
    "The idea of a bollinger band is to use a rolling standard deviation to determine when the stock price is unusually high or low.  In theory if the price is doing something unexpected we can capitalize on that.\n",
    "\n",
    "Let's walk through graphing this on a few tickers so we understand what's going on.  Then we can test some strategies using this concept and see how they perform on this dataset."
   ]
  },
  {
   "cell_type": "code",
   "execution_count": 15,
   "metadata": {},
   "outputs": [
    {
     "data": {
      "text/html": [
       "<div>\n",
       "<style scoped>\n",
       "    .dataframe tbody tr th:only-of-type {\n",
       "        vertical-align: middle;\n",
       "    }\n",
       "\n",
       "    .dataframe tbody tr th {\n",
       "        vertical-align: top;\n",
       "    }\n",
       "\n",
       "    .dataframe thead th {\n",
       "        text-align: right;\n",
       "    }\n",
       "</style>\n",
       "<table border=\"1\" class=\"dataframe\">\n",
       "  <thead>\n",
       "    <tr style=\"text-align: right;\">\n",
       "      <th></th>\n",
       "      <th>lower_band</th>\n",
       "      <th>raw</th>\n",
       "      <th>upper_band</th>\n",
       "      <th>lower_limit</th>\n",
       "      <th>upper_limit</th>\n",
       "    </tr>\n",
       "    <tr>\n",
       "      <th>date</th>\n",
       "      <th></th>\n",
       "      <th></th>\n",
       "      <th></th>\n",
       "      <th></th>\n",
       "      <th></th>\n",
       "    </tr>\n",
       "  </thead>\n",
       "  <tbody>\n",
       "    <tr>\n",
       "      <th>2015-08-24</th>\n",
       "      <td>100.251761</td>\n",
       "      <td>98.070099</td>\n",
       "      <td>125.901535</td>\n",
       "      <td>True</td>\n",
       "      <td>False</td>\n",
       "    </tr>\n",
       "    <tr>\n",
       "      <th>2013-08-28</th>\n",
       "      <td>54.160049</td>\n",
       "      <td>64.130699</td>\n",
       "      <td>68.718186</td>\n",
       "      <td>False</td>\n",
       "      <td>False</td>\n",
       "    </tr>\n",
       "    <tr>\n",
       "      <th>2014-04-22</th>\n",
       "      <td>68.156617</td>\n",
       "      <td>70.283695</td>\n",
       "      <td>72.178000</td>\n",
       "      <td>False</td>\n",
       "      <td>False</td>\n",
       "    </tr>\n",
       "  </tbody>\n",
       "</table>\n",
       "</div>"
      ],
      "text/plain": [
       "            lower_band        raw  upper_band  lower_limit  upper_limit\n",
       "date                                                                   \n",
       "2015-08-24  100.251761  98.070099  125.901535         True        False\n",
       "2013-08-28   54.160049  64.130699   68.718186        False        False\n",
       "2014-04-22   68.156617  70.283695   72.178000        False        False"
      ]
     },
     "execution_count": 15,
     "metadata": {},
     "output_type": "execute_result"
    }
   ],
   "source": [
    "def calculate_bollinger(df, tickers=['AAPL','MSFT'],window_sz=28,band_sz=2):\n",
    "    out = {}\n",
    "    for ticker in tickers:\n",
    "        raw = df.loc[:,ticker] \n",
    "        _mean = raw.rolling(window_sz).mean()\n",
    "        _std = raw.rolling(window_sz).std()\n",
    "\n",
    "        upper_band = _mean + (band_sz*_std)\n",
    "        lower_band = _mean - (band_sz*_std)\n",
    "        \n",
    "        _out = pd.concat([lower_band, raw, upper_band, ],axis=1)\n",
    "        _out.columns = ['lower_band','raw','upper_band']\n",
    "        _out['lower_limit'] = _out.raw < _out.lower_band\n",
    "        _out['upper_limit'] = _out.raw > _out.upper_band\n",
    "\n",
    "        out[ticker] = _out\n",
    "    return out\n",
    "calculate_bollinger(train,['AAPL','MSFT','GOOG','AMZN'])['AAPL'].sample(3)"
   ]
  },
  {
   "cell_type": "code",
   "execution_count": 16,
   "metadata": {
    "tags": [
     "hide-input"
    ]
   },
   "outputs": [
    {
     "data": {
      "image/png": "[encoded data removed]",
      "text/plain": [
       "<Figure size 1440x576 with 2 Axes>"
      ]
     },
     "metadata": {
      "needs_background": "light"
     },
     "output_type": "display_data"
    }
   ],
   "source": [
    "def plot_bollinger(data,min_date,plt_cols=2):\n",
    "    rows = int(len(data.keys())/plt_cols)\n",
    "    fig, ax = plt.subplots(rows,plt_cols,figsize=(20,8*rows))\n",
    "    fig.suptitle(\"Bollinger Bands\",fontsize=50)\n",
    "\n",
    "    for i,(ticker,df) in enumerate(data.items()):\n",
    "        row_num = int(i / plt_cols) if len(data.keys()) > 2 else i\n",
    "        col_num = i - (row_num * plt_cols)\n",
    "        \n",
    "        _d = data[ticker].loc[df.index>=min_date]\n",
    "\n",
    "        if plt_cols >2: _tmp = ax[row_num,col_num]\n",
    "        else: _tmp = ax[row_num]\n",
    "        _tmp.set_title(ticker,fontsize=18)\n",
    "        _tmp.plot(_d[['lower_band','raw','upper_band']])\n",
    "        _tmp.scatter(_d[_d.lower_limit].index,_d[_d.lower_limit].raw,c='red')\n",
    "        _tmp.scatter(_d[_d.upper_limit].index,_d[_d.upper_limit].raw,c='red')\n",
    "\n",
    "plot_bollinger(calculate_bollinger(train),min_date='2016-01-01')"
   ]
  },
  {
   "cell_type": "markdown",
   "metadata": {},
   "source": [
    "These charts show stock prices for Apple and Microsoft over time in orange.  The green is our upper band, which in this case is 2 standard deviations above the mean, when looking at the last 28 days of the adjusted close price.  The blue is 2 standard deviations below the mean.\n",
    "\n",
    "We've plotted red dots anywhere the stock price crosses these bounds.  This can only happen if there is a significant enough shift for it to be 2 standard deviations from the mean.  Let's code up this third momentum-esque approach as well so we have a 3rd method to test.  Where the price crosses a bollinger band we will take an action!"
   ]
  },
  {
   "cell_type": "code",
   "execution_count": 17,
   "metadata": {},
   "outputs": [],
   "source": [
    "def get_bollinger_actions(df,window_sz=28,band_sz=2):\n",
    "    \n",
    "    bollinger_data = calculate_bollinger(df, tickers=df.columns,window_sz=window_sz,band_sz=band_sz)\n",
    "    _d = L()\n",
    "    for ticker,dataframe in bollinger_data.items():\n",
    "        _d.append(pd.DataFrame(np.where(dataframe['lower_limit'] == True, 'Sell',\n",
    "                           np.where(dataframe['upper_limit'] == True,  'Buy',\n",
    "                                                                 '')),\n",
    "                   columns=[ticker],index=dataframe.index))\n",
    "    bollinger_actions = pd.concat(_d,axis=1)\n",
    "    return bollinger_actions[window_sz:]"
   ]
  },
  {
   "cell_type": "code",
   "execution_count": 18,
   "metadata": {},
   "outputs": [
    {
     "data": {
      "text/html": [
       "<div>\n",
       "<style scoped>\n",
       "    .dataframe tbody tr th:only-of-type {\n",
       "        vertical-align: middle;\n",
       "    }\n",
       "\n",
       "    .dataframe tbody tr th {\n",
       "        vertical-align: top;\n",
       "    }\n",
       "\n",
       "    .dataframe thead th {\n",
       "        text-align: right;\n",
       "    }\n",
       "</style>\n",
       "<table border=\"1\" class=\"dataframe\">\n",
       "  <thead>\n",
       "    <tr style=\"text-align: right;\">\n",
       "      <th></th>\n",
       "      <th>A</th>\n",
       "      <th>AAL</th>\n",
       "      <th>AAP</th>\n",
       "      <th>AAPL</th>\n",
       "      <th>ABBV</th>\n",
       "    </tr>\n",
       "    <tr>\n",
       "      <th>date</th>\n",
       "      <th></th>\n",
       "      <th></th>\n",
       "      <th></th>\n",
       "      <th></th>\n",
       "      <th></th>\n",
       "    </tr>\n",
       "  </thead>\n",
       "  <tbody>\n",
       "    <tr>\n",
       "      <th>2013-08-09</th>\n",
       "      <td></td>\n",
       "      <td></td>\n",
       "      <td></td>\n",
       "      <td></td>\n",
       "      <td></td>\n",
       "    </tr>\n",
       "    <tr>\n",
       "      <th>2013-08-12</th>\n",
       "      <td></td>\n",
       "      <td></td>\n",
       "      <td></td>\n",
       "      <td></td>\n",
       "      <td></td>\n",
       "    </tr>\n",
       "    <tr>\n",
       "      <th>2013-08-13</th>\n",
       "      <td></td>\n",
       "      <td>Sell</td>\n",
       "      <td>Buy</td>\n",
       "      <td>Buy</td>\n",
       "      <td></td>\n",
       "    </tr>\n",
       "    <tr>\n",
       "      <th>2013-08-14</th>\n",
       "      <td></td>\n",
       "      <td>Sell</td>\n",
       "      <td></td>\n",
       "      <td>Buy</td>\n",
       "      <td></td>\n",
       "    </tr>\n",
       "    <tr>\n",
       "      <th>2013-08-15</th>\n",
       "      <td></td>\n",
       "      <td>Sell</td>\n",
       "      <td></td>\n",
       "      <td>Buy</td>\n",
       "      <td></td>\n",
       "    </tr>\n",
       "    <tr>\n",
       "      <th>2013-08-16</th>\n",
       "      <td></td>\n",
       "      <td>Sell</td>\n",
       "      <td>Sell</td>\n",
       "      <td>Buy</td>\n",
       "      <td>Sell</td>\n",
       "    </tr>\n",
       "    <tr>\n",
       "      <th>2013-08-19</th>\n",
       "      <td></td>\n",
       "      <td>Sell</td>\n",
       "      <td>Sell</td>\n",
       "      <td>Buy</td>\n",
       "      <td></td>\n",
       "    </tr>\n",
       "    <tr>\n",
       "      <th>2013-08-20</th>\n",
       "      <td></td>\n",
       "      <td></td>\n",
       "      <td></td>\n",
       "      <td></td>\n",
       "      <td>Sell</td>\n",
       "    </tr>\n",
       "    <tr>\n",
       "      <th>2013-08-21</th>\n",
       "      <td></td>\n",
       "      <td></td>\n",
       "      <td></td>\n",
       "      <td></td>\n",
       "      <td>Sell</td>\n",
       "    </tr>\n",
       "    <tr>\n",
       "      <th>2013-08-22</th>\n",
       "      <td>Buy</td>\n",
       "      <td></td>\n",
       "      <td></td>\n",
       "      <td></td>\n",
       "      <td></td>\n",
       "    </tr>\n",
       "  </tbody>\n",
       "</table>\n",
       "</div>"
      ],
      "text/plain": [
       "              A   AAL   AAP AAPL  ABBV\n",
       "date                                  \n",
       "2013-08-09                            \n",
       "2013-08-12                            \n",
       "2013-08-13       Sell   Buy  Buy      \n",
       "2013-08-14       Sell        Buy      \n",
       "2013-08-15       Sell        Buy      \n",
       "2013-08-16       Sell  Sell  Buy  Sell\n",
       "2013-08-19       Sell  Sell  Buy      \n",
       "2013-08-20                        Sell\n",
       "2013-08-21                        Sell\n",
       "2013-08-22  Buy                       "
      ]
     },
     "execution_count": 18,
     "metadata": {},
     "output_type": "execute_result"
    }
   ],
   "source": [
    "actions = get_bollinger_actions(train,window_sz=28,band_sz=2)\n",
    "actions.head(10).iloc[:,:5]"
   ]
  },
  {
   "cell_type": "markdown",
   "metadata": {},
   "source": [
    "## Momentum Conclusion\n",
    "\n",
    "As you can see we took a simple concept of price momentum and showed 3 different ways this could be applied in a model.  There are many more, and we encourage you to think of another approach and code that up!  The key insight here is to really think about how all the ways you might accomplish a task are and what parameters you can tweak.\n",
    "\n",
    "By all means, do your research and let what has worked from others guide your tests.  But do not discard ideas you think are valuable simply because you haven't read about anyone else doing it yet.  You may come up with a novel approach!  Or it may be an approach that others are using that just hasn't been published publicly before.  Try new things, see how they work, and tweak them - that's how you build intuition."
   ]
  }
 ],
 "metadata": {
  "celltoolbar": "Edit Metadata",
  "interpreter": {
   "hash": "ae5eb9e86421a898aa80b8b95d8d1755e5e5e15b61c607b39ba0c26ee3dd8ef6"
  },
  "kernelspec": {
   "display_name": "Python 3 (ipykernel)",
   "language": "python",
   "name": "python3"
  },
  "language_info": {
   "codemirror_mode": {
    "name": "ipython",
    "version": 3
   },
   "file_extension": ".py",
   "mimetype": "text/x-python",
   "name": "python",
   "nbconvert_exporter": "python",
   "pygments_lexer": "ipython3",
   "version": "3.8.9"
  },
  "toc": {
   "base_numbering": 1,
   "nav_menu": {},
   "number_sections": true,
   "sideBar": true,
   "skip_h1_title": false,
   "title_cell": "Table of Contents",
   "title_sidebar": "Contents",
   "toc_cell": false,
   "toc_position": {},
   "toc_section_display": true,
   "toc_window_display": false
  },
  "vscode": {
   "interpreter": {
    "hash": "ae5eb9e86421a898aa80b8b95d8d1755e5e5e15b61c607b39ba0c26ee3dd8ef6"
   }
  }
 },
 "nbformat": 4,
 "nbformat_minor": 2
}
