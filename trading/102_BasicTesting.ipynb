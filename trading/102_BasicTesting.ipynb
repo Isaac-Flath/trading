{
 "cells": [
  {
   "cell_type": "markdown",
   "id": "b78482bf",
   "metadata": {},
   "source": [
    "# Introduction to Testing"
   ]
  },
  {
   "cell_type": "code",
   "execution_count": 1,
   "id": "54d6eb11",
   "metadata": {},
   "outputs": [],
   "source": [
    "from fastcore.all import *\n",
    "import pandas as pd\n",
    "import numpy as np\n",
    "import matplotlib.pyplot as plt\n",
    "from polygon import RESTClient\n",
    "from utils import view_source_code, get_dollars\n",
    "from datetime import datetime, timedelta, date\n",
    "import math, time"
   ]
  },
  {
   "cell_type": "code",
   "execution_count": 2,
   "id": "8354ae65",
   "metadata": {},
   "outputs": [],
   "source": [
    "path = Path('../data')"
   ]
  },
  {
   "cell_type": "markdown",
   "id": "30d48c10",
   "metadata": {},
   "source": [
    "## Background\n",
    "\n",
    "In Chapter 1 we created models and created actions we want to take for multiple approaches.  The question now is, how do we know if they are profitable?  How should we measure them?  How do we know if we simply got lucky, or if they are reliable?\n",
    "\n",
    "As we mentioned in chapter 2, testing is the most important part of the process.  If done well you have a good way to determine what strategies should be implemented, and if done poorly you run the risk of implementing non-profitable strategies.  I believe you should strive to never sacrifice testing principles because effective testing is your **only** objective indication to whether you are doing something useful or not.  Without effective testing you are \"flying blind\".\n",
    "\n",
    "This chapter will lay the groundwork and cover the basics of testing.  The goal of this chapter is to introduce concept and the three core things that need to be carefully considered for effective testing.\n",
    "\n",
    "1. What data should you use for testing?\n",
    "1. What metric should you use for testing?\n",
    "1. What test should you use?\n",
    "\n",
    "In this chapter we are going to walk through the concepts to see each step and understand the importance.  In the next chapter we are going apply our knowledge to build a better structured solution and framework that we can use through the remainder of the book."
   ]
  },
  {
   "cell_type": "markdown",
   "id": "a813dd5a",
   "metadata": {},
   "source": [
    "## What data should you use for testing?"
   ]
  },
  {
   "cell_type": "markdown",
   "id": "077f4b8a",
   "metadata": {},
   "source": [
    "The first question we have to ask is what data to we use for testing?  Ideally we have 3 subsets of our data (training, validation, and test).  Let's go through what they are used for and why they are important."
   ]
  },
  {
   "cell_type": "markdown",
   "id": "39b062db",
   "metadata": {},
   "source": [
    "### Training Set"
   ]
  },
  {
   "cell_type": "markdown",
   "id": "957a18b2",
   "metadata": {},
   "source": [
    "The training set is unique because it has no restrictions on what we can do with it.  We can look at any piece of data in it.  We can normalize data using values in the training set.  We can train machine learning models on the training set.  This is often the largest subset of our data.\n",
    "\n",
    "This training set is pretty explanatory - we use this for understanding our data and developing our model.  \n",
    "\n",
    "We can load it in using the same method as we did in chapter 1."
   ]
  },
  {
   "cell_type": "code",
   "execution_count": 3,
   "id": "81377a44",
   "metadata": {},
   "outputs": [],
   "source": [
    "raw = pd.read_csv(path/'eod-quotemedia.csv',parse_dates=['date'])\n",
    "df = raw.pivot(index='date', columns='ticker',values='adj_close')\n",
    "train = df.loc[:pd.Timestamp('2017-1-1')]"
   ]
  },
  {
   "cell_type": "markdown",
   "id": "1d6a1355",
   "metadata": {},
   "source": [
    "### Validation Set"
   ]
  },
  {
   "cell_type": "markdown",
   "id": "d100eb23",
   "metadata": {},
   "source": [
    "The goal of creating a trading strategy is to have it perform well on data that it was not developed using.  We may use data from 2015 - 2020 to create a trading strategy, but the goal is to apply it to 2021 and 2022 to make a profit.\n",
    "\n",
    "Because we want our model to perform on *unseen* data, we create some restriction to how we use the validation set.  We do not train any models on it, and we do not use statistics or data from the validation set when creating our model.  It's data our model has never seen.  The validation set is something we can only use to see how well our strategy or model performs.  \n",
    "\n",
    "The entire purpose of the validation set is to give us unseen data to evaluate our approaches on.  By having this separate validation set we can more accurately determine what works and what doesn't.\n",
    "\n",
    "We can get our validation set using the same method as we did in chapter 1."
   ]
  },
  {
   "cell_type": "code",
   "execution_count": 4,
   "id": "e03373cb",
   "metadata": {},
   "outputs": [],
   "source": [
    "valid = df.loc[pd.Timestamp('2017-1-1'):]"
   ]
  },
  {
   "cell_type": "markdown",
   "id": "d8d18010",
   "metadata": {},
   "source": [
    "### Test Set\n"
   ]
  },
  {
   "cell_type": "markdown",
   "id": "a992f84c",
   "metadata": {},
   "source": [
    "The Test set is very similar to the validation set, but it takes things a step further.  It has further restrictions in that is is the final model step before deployment.  The main difference is how often you can use it.  For the validation set, you can test anything on the validation set as many times as you want.  For the test set you only get to look at the test set once for your particular approach.\n",
    "\n",
    "For example, you may try 300 different approaches and parameter changes to your strategy to see what works best.  You can check the profitability on each of them using the validation set.  Then once you have chosen a strategy, you do a final check to ensure it also performs on the test set.  Once you have done that you need a new test set or your project is over.\n",
    "\n",
    "The reason this is important is that you want to ensure that you didn't get lucky and find a configuration out of your 300 attempts that just happens to work on the validation set but doesn't work elsewhere.  If you try enough combinations eventually you will find something that works, but the test set gives you confidence that your model works because it's a good strategy and not that you just tried enough things to find something that works on coincidence.\n",
    "\n",
    "\n",
    ":::{note} Many people re-use or have more lax rules on the test set.  Many people do not use one at all.  In this text I am laying out the ideal state I believe we should strive for.  If you choose to loosen these restrictions on the test set or do without one, I would strongly encourage you to think hard about it.\n"
   ]
  },
  {
   "cell_type": "markdown",
   "id": "cc2d1980",
   "metadata": {},
   "source": [
    "To get our test set, we could have split our initial data into 3.  Because we are a bit concerned about survivorship bias, let's pull a new test set that uses recent data to and test how these strategies would perform over the last year and a half."
   ]
  },
  {
   "cell_type": "markdown",
   "id": "c10d5755",
   "metadata": {},
   "source": [
    "We need to get adjusted close price.  There are a variety of services that have APIs to pull from, I have picked polgygon to use here because it's free for what we need.\n",
    "\n",
    ":::{note} We are using a free api key and putting the key in this notebook in an effort to show everthing to the reader, but best practice would be to read the api key from an environment variable.  From the polygon docs it will by default pull the api key from the `POLYGON_API_KEY` environment variable, then you would initiate the client with so that no credentials are exposed.\n",
    "`client = RESTClient()`"
   ]
  },
  {
   "cell_type": "code",
   "execution_count": 5,
   "id": "656d894d",
   "metadata": {},
   "outputs": [],
   "source": [
    "polygon_free_api_key = 'wUv2tpS05klv9ebAQKyLD610FBWllpan'\n",
    "client = RESTClient(polygon_free_api_key)"
   ]
  },
  {
   "cell_type": "code",
   "execution_count": 6,
   "id": "bbeedcba",
   "metadata": {},
   "outputs": [],
   "source": [
    "if not (path/'polytest_eod-quotemedia.csv').exists():\n",
    "    dfs = L()\n",
    "    errors = L()\n",
    "    for ticker in valid:\n",
    "        try:\n",
    "            aggs = client.get_aggs(ticker, 1, \"day\", \"2021-01-01\", \"2022-05-31\",adjusted=True)\n",
    "            close = {ticker:[o.close for o in aggs]}\n",
    "            \n",
    "            # Convert millisecond time stamp to date\n",
    "            date = L(o.timestamp/1e3 for o in aggs).map(datetime.fromtimestamp)\n",
    "            dfs.append(pd.DataFrame(close,index=date))\n",
    "        except:\n",
    "            errors.append(aggs)\n",
    "            print(f\"FAILURE: {ticker}\")\n",
    "        \n",
    "        # Free api gives 5 API calls / minute - so we need to pace our api calls!\n",
    "        time.sleep(60/5)\n",
    "    df_test = pd.concat(dfs,axis=1)\n",
    "    df_test.to_csv(path/'polytest_eod-quotemedia.csv')\n",
    "\n",
    "df_test = pd.read_csv(path/'polytest_eod-quotemedia.csv',index_col=0,parse_dates=True)"
   ]
  },
  {
   "cell_type": "code",
   "execution_count": 7,
   "id": "ab7f0d89",
   "metadata": {},
   "outputs": [
    {
     "data": {
      "text/html": [
       "<div>\n",
       "<style scoped>\n",
       "    .dataframe tbody tr th:only-of-type {\n",
       "        vertical-align: middle;\n",
       "    }\n",
       "\n",
       "    .dataframe tbody tr th {\n",
       "        vertical-align: top;\n",
       "    }\n",
       "\n",
       "    .dataframe thead th {\n",
       "        text-align: right;\n",
       "    }\n",
       "</style>\n",
       "<table border=\"1\" class=\"dataframe\">\n",
       "  <thead>\n",
       "    <tr style=\"text-align: right;\">\n",
       "      <th></th>\n",
       "      <th>A</th>\n",
       "      <th>AAL</th>\n",
       "      <th>AAP</th>\n",
       "      <th>AAPL</th>\n",
       "      <th>ABBV</th>\n",
       "    </tr>\n",
       "  </thead>\n",
       "  <tbody>\n",
       "    <tr>\n",
       "      <th>2021-01-04</th>\n",
       "      <td>118.64</td>\n",
       "      <td>15.13</td>\n",
       "      <td>157.34</td>\n",
       "      <td>129.41</td>\n",
       "      <td>105.41</td>\n",
       "    </tr>\n",
       "    <tr>\n",
       "      <th>2021-01-05</th>\n",
       "      <td>119.61</td>\n",
       "      <td>15.43</td>\n",
       "      <td>157.17</td>\n",
       "      <td>131.01</td>\n",
       "      <td>106.50</td>\n",
       "    </tr>\n",
       "    <tr>\n",
       "      <th>2021-01-06</th>\n",
       "      <td>122.89</td>\n",
       "      <td>15.52</td>\n",
       "      <td>166.25</td>\n",
       "      <td>126.60</td>\n",
       "      <td>105.58</td>\n",
       "    </tr>\n",
       "    <tr>\n",
       "      <th>2021-01-07</th>\n",
       "      <td>126.16</td>\n",
       "      <td>15.38</td>\n",
       "      <td>167.67</td>\n",
       "      <td>130.92</td>\n",
       "      <td>106.71</td>\n",
       "    </tr>\n",
       "    <tr>\n",
       "      <th>2021-01-08</th>\n",
       "      <td>127.06</td>\n",
       "      <td>15.13</td>\n",
       "      <td>170.06</td>\n",
       "      <td>132.05</td>\n",
       "      <td>107.27</td>\n",
       "    </tr>\n",
       "  </tbody>\n",
       "</table>\n",
       "</div>"
      ],
      "text/plain": [
       "                 A    AAL     AAP    AAPL    ABBV\n",
       "2021-01-04  118.64  15.13  157.34  129.41  105.41\n",
       "2021-01-05  119.61  15.43  157.17  131.01  106.50\n",
       "2021-01-06  122.89  15.52  166.25  126.60  105.58\n",
       "2021-01-07  126.16  15.38  167.67  130.92  106.71\n",
       "2021-01-08  127.06  15.13  170.06  132.05  107.27"
      ]
     },
     "execution_count": 7,
     "metadata": {},
     "output_type": "execute_result"
    }
   ],
   "source": [
    "df_test.iloc[:5,:5]"
   ]
  },
  {
   "cell_type": "code",
   "execution_count": null,
   "id": "a03a7343",
   "metadata": {},
   "outputs": [],
   "source": []
  },
  {
   "cell_type": "markdown",
   "id": "a14bc8d4",
   "metadata": {},
   "source": [
    "## What metric should you use for testing?\n",
    "\n",
    "Now that we understand what data we will use for testing, let's start figuring out how well our first model from chapter 1 performs.\n",
    "\n",
    "The next step is to figure out an appropriate metric.  There are a variety of ways to measure this and we will walk through a few first steps in this section"
   ]
  },
  {
   "cell_type": "markdown",
   "id": "dfc3f38d",
   "metadata": {},
   "source": [
    "### Dollars"
   ]
  },
  {
   "cell_type": "markdown",
   "id": "d63b8202",
   "metadata": {},
   "source": [
    "Let's take our first model from chapter 1 and measure how well it does in terms of dollars.  After all dollars is what we want to make, so it seems like a reasonable starting point."
   ]
  },
  {
   "cell_type": "code",
   "execution_count": 8,
   "id": "93e3c15e",
   "metadata": {},
   "outputs": [],
   "source": [
    "from SimpleTimeSeries import get_momentum_actions"
   ]
  },
  {
   "cell_type": "code",
   "execution_count": 9,
   "id": "e1d94dc2",
   "metadata": {},
   "outputs": [],
   "source": [
    "transactions = pd.DataFrame(columns=['open_date','ticker','action','close_date'])\n",
    "\n",
    "valid_mom = get_momentum_actions(valid,28,0.08)\n",
    "for dte,vals in valid_mom.iloc[:,:5].iterrows():    \n",
    "    for val in vals[vals.values != ''].items():\n",
    "        row = {'open_date':dte.date(),'ticker':val[0],'action':val[1]}\n",
    "        transactions = pd.concat([transactions,pd.DataFrame(row,index=[0])])\n"
   ]
  },
  {
   "cell_type": "markdown",
   "id": "f7eb51e3",
   "metadata": {},
   "source": [
    "No we have a dataframe with all the positions we are going to take and when to take them.  But we are missing one crucial piece!  When should we close those positions.  We cannot make money by simplying buying a stock (ignoring dividends for now) - the profit comes when we actually close the position and sell the stock.  Let's close the position 28 days after opening."
   ]
  },
  {
   "cell_type": "code",
   "execution_count": 10,
   "id": "19588cdf",
   "metadata": {},
   "outputs": [],
   "source": [
    "transactions['close_date'] = transactions.open_date + timedelta(28)\n",
    "transactions = transactions.loc[transactions.open_date < (transactions.open_date.max() - timedelta(28))]\n"
   ]
  },
  {
   "cell_type": "markdown",
   "id": "7172309c",
   "metadata": {},
   "source": [
    "Next we need to get the stock price on the date of our initial action when we open to position, as well as when we close our position.  Let's start with the price on the day we open."
   ]
  },
  {
   "cell_type": "code",
   "execution_count": 11,
   "id": "446930bf",
   "metadata": {},
   "outputs": [],
   "source": [
    "df_valid_long = valid.melt(var_name='ticker',value_name='adj_close',ignore_index=False).reset_index()\n",
    "df_valid_long.columns = ['dte','ticker','adj_close']"
   ]
  },
  {
   "cell_type": "code",
   "execution_count": 12,
   "id": "4f6a916c",
   "metadata": {
    "scrolled": true
   },
   "outputs": [
    {
     "data": {
      "text/html": [
       "<div>\n",
       "<style scoped>\n",
       "    .dataframe tbody tr th:only-of-type {\n",
       "        vertical-align: middle;\n",
       "    }\n",
       "\n",
       "    .dataframe tbody tr th {\n",
       "        vertical-align: top;\n",
       "    }\n",
       "\n",
       "    .dataframe thead th {\n",
       "        text-align: right;\n",
       "    }\n",
       "</style>\n",
       "<table border=\"1\" class=\"dataframe\">\n",
       "  <thead>\n",
       "    <tr style=\"text-align: right;\">\n",
       "      <th></th>\n",
       "      <th>open_date</th>\n",
       "      <th>ticker</th>\n",
       "      <th>action</th>\n",
       "      <th>close_date</th>\n",
       "      <th>dte</th>\n",
       "      <th>adj_close</th>\n",
       "    </tr>\n",
       "  </thead>\n",
       "  <tbody>\n",
       "    <tr>\n",
       "      <th>0</th>\n",
       "      <td>2017-02-14</td>\n",
       "      <td>A</td>\n",
       "      <td>Buy</td>\n",
       "      <td>2017-03-14</td>\n",
       "      <td>2017-02-14</td>\n",
       "      <td>49.703267</td>\n",
       "    </tr>\n",
       "    <tr>\n",
       "      <th>1</th>\n",
       "      <td>2017-02-14</td>\n",
       "      <td>AAPL</td>\n",
       "      <td>Buy</td>\n",
       "      <td>2017-03-14</td>\n",
       "      <td>2017-02-14</td>\n",
       "      <td>132.397351</td>\n",
       "    </tr>\n",
       "    <tr>\n",
       "      <th>2</th>\n",
       "      <td>2017-02-15</td>\n",
       "      <td>AAPL</td>\n",
       "      <td>Buy</td>\n",
       "      <td>2017-03-15</td>\n",
       "      <td>2017-02-15</td>\n",
       "      <td>132.877833</td>\n",
       "    </tr>\n",
       "    <tr>\n",
       "      <th>3</th>\n",
       "      <td>2017-02-16</td>\n",
       "      <td>A</td>\n",
       "      <td>Buy</td>\n",
       "      <td>2017-03-16</td>\n",
       "      <td>2017-02-16</td>\n",
       "      <td>50.147135</td>\n",
       "    </tr>\n",
       "    <tr>\n",
       "      <th>4</th>\n",
       "      <td>2017-02-16</td>\n",
       "      <td>AAPL</td>\n",
       "      <td>Buy</td>\n",
       "      <td>2017-03-16</td>\n",
       "      <td>2017-02-16</td>\n",
       "      <td>132.716038</td>\n",
       "    </tr>\n",
       "    <tr>\n",
       "      <th>5</th>\n",
       "      <td>2017-02-17</td>\n",
       "      <td>AAPL</td>\n",
       "      <td>Buy</td>\n",
       "      <td>2017-03-17</td>\n",
       "      <td>2017-02-17</td>\n",
       "      <td>133.083754</td>\n",
       "    </tr>\n",
       "    <tr>\n",
       "      <th>6</th>\n",
       "      <td>2017-02-18</td>\n",
       "      <td>AAPL</td>\n",
       "      <td>Buy</td>\n",
       "      <td>2017-03-18</td>\n",
       "      <td>NaT</td>\n",
       "      <td>NaN</td>\n",
       "    </tr>\n",
       "    <tr>\n",
       "      <th>7</th>\n",
       "      <td>2017-02-22</td>\n",
       "      <td>AAPL</td>\n",
       "      <td>Buy</td>\n",
       "      <td>2017-03-22</td>\n",
       "      <td>2017-02-22</td>\n",
       "      <td>134.446754</td>\n",
       "    </tr>\n",
       "    <tr>\n",
       "      <th>8</th>\n",
       "      <td>2017-02-23</td>\n",
       "      <td>AAPL</td>\n",
       "      <td>Buy</td>\n",
       "      <td>2017-03-23</td>\n",
       "      <td>2017-02-23</td>\n",
       "      <td>133.878020</td>\n",
       "    </tr>\n",
       "    <tr>\n",
       "      <th>9</th>\n",
       "      <td>2017-02-24</td>\n",
       "      <td>AAP</td>\n",
       "      <td>Short</td>\n",
       "      <td>2017-03-24</td>\n",
       "      <td>2017-02-24</td>\n",
       "      <td>156.842676</td>\n",
       "    </tr>\n",
       "  </tbody>\n",
       "</table>\n",
       "</div>"
      ],
      "text/plain": [
       "   open_date ticker action  close_date        dte   adj_close\n",
       "0 2017-02-14      A    Buy  2017-03-14 2017-02-14   49.703267\n",
       "1 2017-02-14   AAPL    Buy  2017-03-14 2017-02-14  132.397351\n",
       "2 2017-02-15   AAPL    Buy  2017-03-15 2017-02-15  132.877833\n",
       "3 2017-02-16      A    Buy  2017-03-16 2017-02-16   50.147135\n",
       "4 2017-02-16   AAPL    Buy  2017-03-16 2017-02-16  132.716038\n",
       "5 2017-02-17   AAPL    Buy  2017-03-17 2017-02-17  133.083754\n",
       "6 2017-02-18   AAPL    Buy  2017-03-18        NaT         NaN\n",
       "7 2017-02-22   AAPL    Buy  2017-03-22 2017-02-22  134.446754\n",
       "8 2017-02-23   AAPL    Buy  2017-03-23 2017-02-23  133.878020\n",
       "9 2017-02-24    AAP  Short  2017-03-24 2017-02-24  156.842676"
      ]
     },
     "execution_count": 12,
     "metadata": {},
     "output_type": "execute_result"
    }
   ],
   "source": [
    "transactions['open_date'] = pd.to_datetime(transactions.open_date)\n",
    "df_valid_long['dte'] = pd.to_datetime(df_valid_long.dte)\n",
    "pd.merge(left=transactions,left_on=['open_date','ticker'],\n",
    "         right=df_valid_long,right_on=['dte','ticker'],\n",
    "         how='left').head(10)"
   ]
  },
  {
   "cell_type": "markdown",
   "id": "cea0ea42",
   "metadata": {},
   "source": [
    "Uh oh - We have a join that isn't working correctly and get `NaT` and `NaN`!  We created our model assuming that we could make transactions any day we want, but the stock market is not open every day.  There are limitations to when we can trade openly in the stock market we need to start accounting for.  \n",
    "\n",
    "When we trade using the adjusted close price we added a day because we wouldn't be able to actually place the trade until the following day.  If that day ended up being a Saturday in reality we would have to wait until Monday to place that trade (assuming that monday isn't a holiday).  \n",
    "\n",
    "Let's fix that by getting the next available trading day for each date.  Because we know this same thing applies to our `close_date`, we will fix it there as well."
   ]
  },
  {
   "cell_type": "code",
   "execution_count": 13,
   "id": "c0c1a656",
   "metadata": {},
   "outputs": [],
   "source": [
    "unique_dates = L(o.date() for o in valid.index)\n",
    "unique_dates.sort()"
   ]
  },
  {
   "cell_type": "code",
   "execution_count": 14,
   "id": "14a4b0d3",
   "metadata": {},
   "outputs": [],
   "source": [
    "def get_next_trading_day(dte,unique_dates):\n",
    "    return unique_dates.filter(lambda x: pd.Timestamp(x) >= pd.Timestamp(dte))[0]"
   ]
  },
  {
   "cell_type": "code",
   "execution_count": 15,
   "id": "c6db36bc",
   "metadata": {},
   "outputs": [],
   "source": [
    "f = bind(get_next_trading_day,unique_dates=unique_dates)\n",
    "transactions['open_date'] = transactions.open_date.apply(f)\n",
    "transactions['close_date'] = transactions.close_date.apply(f)"
   ]
  },
  {
   "cell_type": "code",
   "execution_count": 16,
   "id": "490f21c9",
   "metadata": {},
   "outputs": [],
   "source": [
    "transactions['open_date'] = pd.to_datetime(transactions.open_date)\n",
    "transactions['close_date'] = pd.to_datetime(transactions.close_date)\n"
   ]
  },
  {
   "cell_type": "markdown",
   "id": "396321ed",
   "metadata": {},
   "source": [
    "Now we can merge in the price correctly!"
   ]
  },
  {
   "cell_type": "code",
   "execution_count": 17,
   "id": "f70a6faf",
   "metadata": {},
   "outputs": [],
   "source": [
    "transactions = pd.merge(left=transactions,left_on=['open_date','ticker'],\n",
    "                         right=df_valid_long,right_on=['dte','ticker'],\n",
    "                          how='left')\n",
    "transactions = pd.merge(left=transactions,left_on=['close_date','ticker'],\n",
    "                         right=df_valid_long,right_on=['dte','ticker'],\n",
    "                          how='left',\n",
    "                          suffixes=('_atOpen','_atClose'))"
   ]
  },
  {
   "cell_type": "code",
   "execution_count": 18,
   "id": "afdb5109",
   "metadata": {},
   "outputs": [
    {
     "data": {
      "text/html": [
       "<div>\n",
       "<style scoped>\n",
       "    .dataframe tbody tr th:only-of-type {\n",
       "        vertical-align: middle;\n",
       "    }\n",
       "\n",
       "    .dataframe tbody tr th {\n",
       "        vertical-align: top;\n",
       "    }\n",
       "\n",
       "    .dataframe thead th {\n",
       "        text-align: right;\n",
       "    }\n",
       "</style>\n",
       "<table border=\"1\" class=\"dataframe\">\n",
       "  <thead>\n",
       "    <tr style=\"text-align: right;\">\n",
       "      <th></th>\n",
       "      <th>open_date</th>\n",
       "      <th>ticker</th>\n",
       "      <th>action</th>\n",
       "      <th>close_date</th>\n",
       "      <th>dte_atOpen</th>\n",
       "      <th>adj_close_atOpen</th>\n",
       "      <th>dte_atClose</th>\n",
       "      <th>adj_close_atClose</th>\n",
       "    </tr>\n",
       "  </thead>\n",
       "  <tbody>\n",
       "    <tr>\n",
       "      <th>0</th>\n",
       "      <td>2017-02-14</td>\n",
       "      <td>A</td>\n",
       "      <td>Buy</td>\n",
       "      <td>2017-03-14</td>\n",
       "      <td>2017-02-14</td>\n",
       "      <td>49.703267</td>\n",
       "      <td>2017-03-14</td>\n",
       "      <td>51.498464</td>\n",
       "    </tr>\n",
       "    <tr>\n",
       "      <th>1</th>\n",
       "      <td>2017-02-14</td>\n",
       "      <td>AAPL</td>\n",
       "      <td>Buy</td>\n",
       "      <td>2017-03-14</td>\n",
       "      <td>2017-02-14</td>\n",
       "      <td>132.397351</td>\n",
       "      <td>2017-03-14</td>\n",
       "      <td>136.290237</td>\n",
       "    </tr>\n",
       "    <tr>\n",
       "      <th>2</th>\n",
       "      <td>2017-02-15</td>\n",
       "      <td>AAPL</td>\n",
       "      <td>Buy</td>\n",
       "      <td>2017-03-15</td>\n",
       "      <td>2017-02-15</td>\n",
       "      <td>132.877833</td>\n",
       "      <td>2017-03-15</td>\n",
       "      <td>137.731683</td>\n",
       "    </tr>\n",
       "  </tbody>\n",
       "</table>\n",
       "</div>"
      ],
      "text/plain": [
       "   open_date ticker action close_date dte_atOpen  adj_close_atOpen  \\\n",
       "0 2017-02-14      A    Buy 2017-03-14 2017-02-14         49.703267   \n",
       "1 2017-02-14   AAPL    Buy 2017-03-14 2017-02-14        132.397351   \n",
       "2 2017-02-15   AAPL    Buy 2017-03-15 2017-02-15        132.877833   \n",
       "\n",
       "  dte_atClose  adj_close_atClose  \n",
       "0  2017-03-14          51.498464  \n",
       "1  2017-03-14         136.290237  \n",
       "2  2017-03-15         137.731683  "
      ]
     },
     "execution_count": 18,
     "metadata": {},
     "output_type": "execute_result"
    }
   ],
   "source": [
    "transactions.head(3)"
   ]
  },
  {
   "cell_type": "raw",
   "id": "2e788d02",
   "metadata": {},
   "source": [
    "Ok - now let's figure out out profit.  I am going to create various columns"
   ]
  },
  {
   "cell_type": "code",
   "execution_count": 19,
   "id": "e7f38869",
   "metadata": {},
   "outputs": [],
   "source": [
    "def f_committed(x):\n",
    "    if x.action in ('Buy','Short'): return x.adj_close_atOpen  \n",
    "    else: return 0\n",
    "transactions['committed'] = transactions.apply(f_committed,axis=1)\n",
    "\n",
    "def f_revenue(x):\n",
    "    if x.action==\"Buy\": return x.adj_close_atClose\n",
    "    else:               return x.adj_close_atOpen\n",
    "transactions['revenue'] = transactions.apply(f_revenue,axis=1)\n",
    "\n",
    "def f_cost(x):\n",
    "    if x.action == 'Buy': return x.adj_close_atOpen  \n",
    "    else:                 return x.adj_close_atClose\n",
    "transactions['cost'] = transactions.apply(f_cost,axis=1)\n",
    "\n",
    "transactions['profit'] = transactions.revenue - transactions.cost\n"
   ]
  },
  {
   "cell_type": "code",
   "execution_count": 20,
   "id": "064e78ff",
   "metadata": {},
   "outputs": [
    {
     "data": {
      "text/plain": [
       "('$56.40', '$33.86', '$90.26')"
      ]
     },
     "execution_count": 20,
     "metadata": {},
     "output_type": "execute_result"
    }
   ],
   "source": [
    "get_dollars(transactions[transactions.action=='Buy'].profit.sum()), \\\n",
    "get_dollars(transactions[transactions.action=='Short'].profit.sum()), \\\n",
    "get_dollars(transactions.profit.sum())"
   ]
  },
  {
   "cell_type": "markdown",
   "id": "2ce4e9f8",
   "metadata": {},
   "source": [
    "Great!  So according to our validation set we made $90 profit (pre-tax).  We could buy/short in higher volumes (ie Buy = 10x buys, Short = 10x shorts) to make this profit larger.\n",
    "\n",
    "However this really isn't enough information to determine whether that is a good idea of feasible.  I would love to loan someone \\\\$100 if they would give me \\\\$190 dollars back a week later for \\\\$90 profit.  I would hate to loan someone \\\\$100,000 on the promise that they would pay me \\\\$100,090 back in 20 years.  The reward just wouldn't be worth the risk, and I can use that money better in a 20 year span than that..\n",
    "\n",
    "Let's see if we can come up with a better metric that accounts for this."
   ]
  },
  {
   "cell_type": "markdown",
   "id": "c7b6661f",
   "metadata": {},
   "source": [
    "### Percent Return"
   ]
  },
  {
   "cell_type": "markdown",
   "id": "ad0fe29c",
   "metadata": {},
   "source": [
    "Instead of measuring raw dollars, lets consider how much money (capital) we needed in order to make that $90 profit.  To do this we need to keep track of our money more carefully than just looking at how much we made at the end.  Let's track out financials by day instead of by transaction o calculate this.\n",
    "\n",
    ":::{note} I am using \"committed\" to be the amount we have invested + the amount leveraged.  For now, let's assume that we won't take out debt and borrow stocks (shorting) if we do not have the capital to cover the initial price we borrowed at"
   ]
  },
  {
   "cell_type": "code",
   "execution_count": 21,
   "id": "4e135ac2",
   "metadata": {},
   "outputs": [
    {
     "data": {
      "text/html": [
       "<div>\n",
       "<style scoped>\n",
       "    .dataframe tbody tr th:only-of-type {\n",
       "        vertical-align: middle;\n",
       "    }\n",
       "\n",
       "    .dataframe tbody tr th {\n",
       "        vertical-align: top;\n",
       "    }\n",
       "\n",
       "    .dataframe thead th {\n",
       "        text-align: right;\n",
       "    }\n",
       "</style>\n",
       "<table border=\"1\" class=\"dataframe\">\n",
       "  <thead>\n",
       "    <tr style=\"text-align: right;\">\n",
       "      <th></th>\n",
       "      <th>committed</th>\n",
       "      <th>profit</th>\n",
       "      <th>revenue</th>\n",
       "      <th>cost</th>\n",
       "    </tr>\n",
       "  </thead>\n",
       "  <tbody>\n",
       "    <tr>\n",
       "      <th>2017-02-14</th>\n",
       "      <td>182.100618</td>\n",
       "      <td>0.000000</td>\n",
       "      <td>0.000000</td>\n",
       "      <td>182.100618</td>\n",
       "    </tr>\n",
       "    <tr>\n",
       "      <th>2017-02-15</th>\n",
       "      <td>132.877833</td>\n",
       "      <td>0.000000</td>\n",
       "      <td>0.000000</td>\n",
       "      <td>132.877833</td>\n",
       "    </tr>\n",
       "    <tr>\n",
       "      <th>2017-02-16</th>\n",
       "      <td>182.863173</td>\n",
       "      <td>0.000000</td>\n",
       "      <td>0.000000</td>\n",
       "      <td>182.863173</td>\n",
       "    </tr>\n",
       "    <tr>\n",
       "      <th>2017-02-17</th>\n",
       "      <td>133.083754</td>\n",
       "      <td>0.000000</td>\n",
       "      <td>0.000000</td>\n",
       "      <td>133.083754</td>\n",
       "    </tr>\n",
       "    <tr>\n",
       "      <th>2017-02-21</th>\n",
       "      <td>134.044718</td>\n",
       "      <td>0.000000</td>\n",
       "      <td>0.000000</td>\n",
       "      <td>134.044718</td>\n",
       "    </tr>\n",
       "    <tr>\n",
       "      <th>...</th>\n",
       "      <td>...</td>\n",
       "      <td>...</td>\n",
       "      <td>...</td>\n",
       "      <td>...</td>\n",
       "    </tr>\n",
       "    <tr>\n",
       "      <th>2017-06-23</th>\n",
       "      <td>0.000000</td>\n",
       "      <td>-7.068996</td>\n",
       "      <td>251.341879</td>\n",
       "      <td>0.000000</td>\n",
       "    </tr>\n",
       "    <tr>\n",
       "      <th>2017-06-26</th>\n",
       "      <td>0.000000</td>\n",
       "      <td>-8.033424</td>\n",
       "      <td>250.513602</td>\n",
       "      <td>0.000000</td>\n",
       "    </tr>\n",
       "    <tr>\n",
       "      <th>2017-06-28</th>\n",
       "      <td>0.000000</td>\n",
       "      <td>-6.919895</td>\n",
       "      <td>251.147637</td>\n",
       "      <td>0.000000</td>\n",
       "    </tr>\n",
       "    <tr>\n",
       "      <th>2017-06-29</th>\n",
       "      <td>0.000000</td>\n",
       "      <td>19.157383</td>\n",
       "      <td>195.003533</td>\n",
       "      <td>0.000000</td>\n",
       "    </tr>\n",
       "    <tr>\n",
       "      <th>2017-06-30</th>\n",
       "      <td>0.000000</td>\n",
       "      <td>-11.812290</td>\n",
       "      <td>250.469034</td>\n",
       "      <td>0.000000</td>\n",
       "    </tr>\n",
       "  </tbody>\n",
       "</table>\n",
       "<p>88 rows × 4 columns</p>\n",
       "</div>"
      ],
      "text/plain": [
       "             committed     profit     revenue        cost\n",
       "2017-02-14  182.100618   0.000000    0.000000  182.100618\n",
       "2017-02-15  132.877833   0.000000    0.000000  132.877833\n",
       "2017-02-16  182.863173   0.000000    0.000000  182.863173\n",
       "2017-02-17  133.083754   0.000000    0.000000  133.083754\n",
       "2017-02-21  134.044718   0.000000    0.000000  134.044718\n",
       "...                ...        ...         ...         ...\n",
       "2017-06-23    0.000000  -7.068996  251.341879    0.000000\n",
       "2017-06-26    0.000000  -8.033424  250.513602    0.000000\n",
       "2017-06-28    0.000000  -6.919895  251.147637    0.000000\n",
       "2017-06-29    0.000000  19.157383  195.003533    0.000000\n",
       "2017-06-30    0.000000 -11.812290  250.469034    0.000000\n",
       "\n",
       "[88 rows x 4 columns]"
      ]
     },
     "execution_count": 21,
     "metadata": {},
     "output_type": "execute_result"
    }
   ],
   "source": [
    "df = pd.DataFrame()\n",
    "for cols in [['open_date','committed'],['close_date','profit'],['close_date','revenue'],['open_date','cost']]:\n",
    "    _tmp = transactions[cols].groupby(cols[0]).sum()\n",
    "    df = pd.merge(df,_tmp,how='outer',left_index=True,right_index=True)\n",
    "df.fillna(0,inplace=True)\n",
    "df.sort_index(inplace=True)\n",
    "df"
   ]
  },
  {
   "cell_type": "markdown",
   "id": "5859efb1",
   "metadata": {},
   "source": [
    "Now we can easily look at when we had the most committed.  We are subtracting revenue because once we get money back we can reinvest rather than using new money."
   ]
  },
  {
   "cell_type": "code",
   "execution_count": 22,
   "id": "6fa1b04c",
   "metadata": {},
   "outputs": [
    {
     "data": {
      "text/plain": [
       "4468.9311894957"
      ]
     },
     "execution_count": 22,
     "metadata": {},
     "output_type": "execute_result"
    }
   ],
   "source": [
    "capital_needed = (df.committed.cumsum()-df.revenue.cumsum()).max()\n",
    "capital_needed"
   ]
  },
  {
   "cell_type": "markdown",
   "id": "b5952fb7",
   "metadata": {},
   "source": [
    "And of course our profit is still the same as we had before because we are just aggregating the data differently.\n",
    "\n",
    ":::{note} This is the first time we are using the [fastcore's testing framework](https://fastcore.fast.ai/test.html).  It has several handy and easy to use testing functions, such as testing if 2 numbers are arbitrarily close (useful for floats)."
   ]
  },
  {
   "cell_type": "code",
   "execution_count": 23,
   "id": "5f41b8aa",
   "metadata": {},
   "outputs": [
    {
     "data": {
      "text/plain": [
       "'$90.26'"
      ]
     },
     "execution_count": 23,
     "metadata": {},
     "output_type": "execute_result"
    }
   ],
   "source": [
    "test_close(transactions.profit.sum(),df.profit.sum())\n",
    "get_dollars(df.profit.sum())"
   ]
  },
  {
   "cell_type": "markdown",
   "id": "5f3e4c2f",
   "metadata": {},
   "source": [
    "Now we see that we needed \\\\$4468 for earn the \\$90 profit.  Let's use this to figure out the percent return."
   ]
  },
  {
   "cell_type": "code",
   "execution_count": 24,
   "id": "b36d0e71",
   "metadata": {},
   "outputs": [
    {
     "data": {
      "text/plain": [
       "'Percent Return: 2.02%'"
      ]
     },
     "execution_count": 24,
     "metadata": {},
     "output_type": "execute_result"
    }
   ],
   "source": [
    "f\"Percent Return: {(df.profit.sum() / capital_needed) * 100:.2f}%\""
   ]
  },
  {
   "cell_type": "markdown",
   "id": "21e92b0e",
   "metadata": {},
   "source": [
    "Now that we have our percent return, we need to account for the time range in some way.  2% return per week would be **AMAZING**, 2% per year would be underwhelming.  "
   ]
  },
  {
   "cell_type": "code",
   "execution_count": 25,
   "id": "a15366eb",
   "metadata": {},
   "outputs": [
    {
     "data": {
      "text/plain": [
       "'2017-02-14 - 2017-06-30'"
      ]
     },
     "execution_count": 25,
     "metadata": {},
     "output_type": "execute_result"
    }
   ],
   "source": [
    "f\"{df.index.min().date()} - {df.index.max().date()}\""
   ]
  },
  {
   "cell_type": "markdown",
   "id": "e1a157e0",
   "metadata": {},
   "source": [
    "For now let's compare to the percent return of the S&P 500 in that time range.  "
   ]
  },
  {
   "cell_type": "markdown",
   "id": "7dd77c07",
   "metadata": {},
   "source": [
    "+ On 2/14 the S&P 500 had an ajusted close price of 2,337.58\n",
    "+ On 6/30 the S&P 500 had an ajdusted close price of 2,423.41\n",
    "\n",
    "If we use that to calculate percent return between our start date we get:\n",
    "\n",
    "$$\\frac{(2423.41 - 2337.58)}{2337.58} = 3.7\\%$$\n",
    "\n",
    "So if we had just invested in the S&P 500 we would have made more money!  We may have made a profit, but we could have saved time and taken on less risk while making more money by simply investing the S&P 500.  Our investment strategy isn't looking so good after all!"
   ]
  },
  {
   "cell_type": "code",
   "execution_count": null,
   "id": "ee524ae6",
   "metadata": {},
   "outputs": [],
   "source": []
  },
  {
   "cell_type": "markdown",
   "id": "b64e3a61",
   "metadata": {},
   "source": [
    "### Log Return"
   ]
  },
  {
   "cell_type": "markdown",
   "id": "136442a7",
   "metadata": {},
   "source": [
    "More commonly rather than using the percent return we want to use the log return.  There are a lot of reasons they are advantageous to use that will be covered throughout the book as they are significant to what we are doing.  For now we will cover one that is immediately useful to us.\n",
    "\n",
    "**Symmetry / Additive**\n",
    "+ Percent Return\n",
    "    - Invest \\\\$100\n",
    "    - Get 50% Return on investment 1 and reinvest\n",
    "    - Get -50% Return on investment 2\n",
    "    - End with **\\\\$75** dollars\n",
    "+ Log Return\n",
    "    - Invest \\\\$100\n",
    "    - Get 50% Return on investment 1 and reinvest\n",
    "    - Get -50% Return on investment 2\n",
    "    - End with **\\\\$100** dollars        \n",
    "\n",
    "This property where a positive return + a equal-sized negative return = no return makes it much easier to look at returns and figure out if you are winning or losing.  Just add up all your log returns and you have your overall log return.  You have to be much more careful with percent returns.\n"
   ]
  },
  {
   "cell_type": "code",
   "execution_count": 26,
   "id": "e3449d71",
   "metadata": {},
   "outputs": [
    {
     "data": {
      "text/plain": [
       "'2.00%'"
      ]
     },
     "execution_count": 26,
     "metadata": {},
     "output_type": "execute_result"
    }
   ],
   "source": [
    "pt = capital_needed + df.profit.sum()\n",
    "pt_1 = capital_needed\n",
    "log_return = math.log(pt/pt_1)\n",
    "f\"{math.log(pt/pt_1)*100:.2f}%\""
   ]
  },
  {
   "cell_type": "markdown",
   "id": "5f206477",
   "metadata": {},
   "source": [
    "As we calculate the log return we see we get a very similar value to our percent return, but it's not exactly the same.  The advantage of using the log return however is we can accurate get an estimated annualized return.\n",
    "\n",
    "This is great because we can easily have everything thought of as an annualized return so that we have a common time frame to compare investment strategies more easily."
   ]
  },
  {
   "cell_type": "code",
   "execution_count": 27,
   "id": "64dd1ac3",
   "metadata": {},
   "outputs": [],
   "source": [
    "time_period = (df.index.max().date() - df.index.min().date()).days"
   ]
  },
  {
   "cell_type": "code",
   "execution_count": 28,
   "id": "3a2a2b05",
   "metadata": {},
   "outputs": [
    {
     "data": {
      "text/plain": [
       "'5.37%'"
      ]
     },
     "execution_count": 28,
     "metadata": {},
     "output_type": "execute_result"
    }
   ],
   "source": [
    "f\"{(log_return/time_period * 365)*100:.2f}%\""
   ]
  },
  {
   "cell_type": "markdown",
   "id": "0e04873d",
   "metadata": {},
   "source": [
    "Now we can just convert to normal return to compare very simply to S&P 500 annual return"
   ]
  },
  {
   "cell_type": "code",
   "execution_count": 29,
   "id": "87254bb4",
   "metadata": {},
   "outputs": [
    {
     "data": {
      "text/plain": [
       "'5.51%'"
      ]
     },
     "execution_count": 29,
     "metadata": {},
     "output_type": "execute_result"
    }
   ],
   "source": [
    "f\"{(np.exp(log_return/time_period * 365)-1)*100:.2f}%\""
   ]
  },
  {
   "cell_type": "markdown",
   "id": "960dcb57",
   "metadata": {},
   "source": [
    "Go ahead an look up S&P 500 annual returns for each year online and compare.  How does this fare?"
   ]
  },
  {
   "cell_type": "markdown",
   "id": "468fb835",
   "metadata": {},
   "source": [
    "## Statistical Tests"
   ]
  },
  {
   "cell_type": "markdown",
   "id": "59610344",
   "metadata": {},
   "source": [
    "### Motivation"
   ]
  },
  {
   "cell_type": "markdown",
   "id": "9c971742",
   "metadata": {},
   "source": [
    "If you bought 2 \\\\$1.50 lottery tickets and won 10 million dollars in the lottery, what could you say about your chances to win?  Well let's calculate our rate of return.\n",
    "\n",
    "$$\\frac{10,000,000 - 3}{3} = 3,333,332.33$$\n",
    "\n",
    "So based on our calculations, the rate of return for playing the lottery is fantastic.  But we know that this doesn't really reflect reality or mean that it's a good safe investment strategy.  We know that you would've just gotten lucky.\n",
    "\n",
    "So how do we determine if our trading strategy is a good strategy, or if it just got lucky on that dataset?  This is where statistical testing comes in."
   ]
  },
  {
   "cell_type": "markdown",
   "id": "ae88e4f4",
   "metadata": {},
   "source": [
    "### Statistical Test"
   ]
  },
  {
   "cell_type": "code",
   "execution_count": 30,
   "id": "e4cecd2f",
   "metadata": {},
   "outputs": [
    {
     "data": {
      "text/html": [
       "<div>\n",
       "<style scoped>\n",
       "    .dataframe tbody tr th:only-of-type {\n",
       "        vertical-align: middle;\n",
       "    }\n",
       "\n",
       "    .dataframe tbody tr th {\n",
       "        vertical-align: top;\n",
       "    }\n",
       "\n",
       "    .dataframe thead th {\n",
       "        text-align: right;\n",
       "    }\n",
       "</style>\n",
       "<table border=\"1\" class=\"dataframe\">\n",
       "  <thead>\n",
       "    <tr style=\"text-align: right;\">\n",
       "      <th>ticker</th>\n",
       "      <th>A</th>\n",
       "      <th>AAL</th>\n",
       "      <th>AAP</th>\n",
       "      <th>AAPL</th>\n",
       "      <th>ABBV</th>\n",
       "      <th>ABC</th>\n",
       "      <th>ABT</th>\n",
       "      <th>ACN</th>\n",
       "      <th>ADBE</th>\n",
       "      <th>ADI</th>\n",
       "      <th>...</th>\n",
       "      <th>XL</th>\n",
       "      <th>XLNX</th>\n",
       "      <th>XOM</th>\n",
       "      <th>XRAY</th>\n",
       "      <th>XRX</th>\n",
       "      <th>XYL</th>\n",
       "      <th>YUM</th>\n",
       "      <th>ZBH</th>\n",
       "      <th>ZION</th>\n",
       "      <th>ZTS</th>\n",
       "    </tr>\n",
       "    <tr>\n",
       "      <th>date</th>\n",
       "      <th></th>\n",
       "      <th></th>\n",
       "      <th></th>\n",
       "      <th></th>\n",
       "      <th></th>\n",
       "      <th></th>\n",
       "      <th></th>\n",
       "      <th></th>\n",
       "      <th></th>\n",
       "      <th></th>\n",
       "      <th></th>\n",
       "      <th></th>\n",
       "      <th></th>\n",
       "      <th></th>\n",
       "      <th></th>\n",
       "      <th></th>\n",
       "      <th></th>\n",
       "      <th></th>\n",
       "      <th></th>\n",
       "      <th></th>\n",
       "      <th></th>\n",
       "    </tr>\n",
       "  </thead>\n",
       "  <tbody>\n",
       "    <tr>\n",
       "      <th>2017-01-03</th>\n",
       "      <td>45.856418</td>\n",
       "      <td>45.704924</td>\n",
       "      <td>170.071573</td>\n",
       "      <td>113.405731</td>\n",
       "      <td>59.148722</td>\n",
       "      <td>80.498934</td>\n",
       "      <td>37.810043</td>\n",
       "      <td>113.139753</td>\n",
       "      <td>103.48</td>\n",
       "      <td>70.247806</td>\n",
       "      <td>...</td>\n",
       "      <td>36.600691</td>\n",
       "      <td>57.236079</td>\n",
       "      <td>85.801688</td>\n",
       "      <td>58.078807</td>\n",
       "      <td>26.168629</td>\n",
       "      <td>48.733902</td>\n",
       "      <td>61.584910</td>\n",
       "      <td>102.066617</td>\n",
       "      <td>42.425041</td>\n",
       "      <td>53.041571</td>\n",
       "    </tr>\n",
       "    <tr>\n",
       "      <th>2017-01-04</th>\n",
       "      <td>46.458105</td>\n",
       "      <td>46.099783</td>\n",
       "      <td>171.467236</td>\n",
       "      <td>113.278803</td>\n",
       "      <td>59.982737</td>\n",
       "      <td>82.496547</td>\n",
       "      <td>38.110199</td>\n",
       "      <td>113.411771</td>\n",
       "      <td>104.14</td>\n",
       "      <td>70.107320</td>\n",
       "      <td>...</td>\n",
       "      <td>36.726800</td>\n",
       "      <td>56.819429</td>\n",
       "      <td>84.857671</td>\n",
       "      <td>58.554375</td>\n",
       "      <td>27.156124</td>\n",
       "      <td>49.460248</td>\n",
       "      <td>61.808997</td>\n",
       "      <td>103.005002</td>\n",
       "      <td>43.034201</td>\n",
       "      <td>53.556250</td>\n",
       "    </tr>\n",
       "    <tr>\n",
       "      <th>2017-01-05</th>\n",
       "      <td>45.905737</td>\n",
       "      <td>45.300194</td>\n",
       "      <td>171.347608</td>\n",
       "      <td>113.854863</td>\n",
       "      <td>60.437654</td>\n",
       "      <td>81.541590</td>\n",
       "      <td>38.439403</td>\n",
       "      <td>111.711663</td>\n",
       "      <td>105.91</td>\n",
       "      <td>69.099697</td>\n",
       "      <td>...</td>\n",
       "      <td>36.309670</td>\n",
       "      <td>56.131472</td>\n",
       "      <td>83.592688</td>\n",
       "      <td>57.791484</td>\n",
       "      <td>27.042182</td>\n",
       "      <td>49.008736</td>\n",
       "      <td>62.013598</td>\n",
       "      <td>103.666810</td>\n",
       "      <td>42.336614</td>\n",
       "      <td>53.378092</td>\n",
       "    </tr>\n",
       "    <tr>\n",
       "      <th>2017-01-06</th>\n",
       "      <td>47.335975</td>\n",
       "      <td>45.616081</td>\n",
       "      <td>169.104577</td>\n",
       "      <td>115.124148</td>\n",
       "      <td>60.456609</td>\n",
       "      <td>82.632969</td>\n",
       "      <td>39.485110</td>\n",
       "      <td>112.984315</td>\n",
       "      <td>108.30</td>\n",
       "      <td>69.370980</td>\n",
       "      <td>...</td>\n",
       "      <td>36.270868</td>\n",
       "      <td>57.216700</td>\n",
       "      <td>83.545488</td>\n",
       "      <td>57.751853</td>\n",
       "      <td>26.624396</td>\n",
       "      <td>48.665194</td>\n",
       "      <td>62.763801</td>\n",
       "      <td>103.676687</td>\n",
       "      <td>42.611719</td>\n",
       "      <td>53.546352</td>\n",
       "    </tr>\n",
       "    <tr>\n",
       "      <th>2017-01-09</th>\n",
       "      <td>47.483931</td>\n",
       "      <td>46.474899</td>\n",
       "      <td>169.004887</td>\n",
       "      <td>116.178631</td>\n",
       "      <td>60.854661</td>\n",
       "      <td>83.295592</td>\n",
       "      <td>39.446380</td>\n",
       "      <td>111.721378</td>\n",
       "      <td>108.57</td>\n",
       "      <td>69.700395</td>\n",
       "      <td>...</td>\n",
       "      <td>35.659724</td>\n",
       "      <td>57.226389</td>\n",
       "      <td>82.167223</td>\n",
       "      <td>57.930192</td>\n",
       "      <td>26.472474</td>\n",
       "      <td>48.459069</td>\n",
       "      <td>62.939174</td>\n",
       "      <td>105.691745</td>\n",
       "      <td>42.149936</td>\n",
       "      <td>53.397887</td>\n",
       "    </tr>\n",
       "  </tbody>\n",
       "</table>\n",
       "<p>5 rows × 495 columns</p>\n",
       "</div>"
      ],
      "text/plain": [
       "ticker              A        AAL         AAP        AAPL       ABBV  \\\n",
       "date                                                                  \n",
       "2017-01-03  45.856418  45.704924  170.071573  113.405731  59.148722   \n",
       "2017-01-04  46.458105  46.099783  171.467236  113.278803  59.982737   \n",
       "2017-01-05  45.905737  45.300194  171.347608  113.854863  60.437654   \n",
       "2017-01-06  47.335975  45.616081  169.104577  115.124148  60.456609   \n",
       "2017-01-09  47.483931  46.474899  169.004887  116.178631  60.854661   \n",
       "\n",
       "ticker            ABC        ABT         ACN    ADBE        ADI  ...  \\\n",
       "date                                                             ...   \n",
       "2017-01-03  80.498934  37.810043  113.139753  103.48  70.247806  ...   \n",
       "2017-01-04  82.496547  38.110199  113.411771  104.14  70.107320  ...   \n",
       "2017-01-05  81.541590  38.439403  111.711663  105.91  69.099697  ...   \n",
       "2017-01-06  82.632969  39.485110  112.984315  108.30  69.370980  ...   \n",
       "2017-01-09  83.295592  39.446380  111.721378  108.57  69.700395  ...   \n",
       "\n",
       "ticker             XL       XLNX        XOM       XRAY        XRX        XYL  \\\n",
       "date                                                                           \n",
       "2017-01-03  36.600691  57.236079  85.801688  58.078807  26.168629  48.733902   \n",
       "2017-01-04  36.726800  56.819429  84.857671  58.554375  27.156124  49.460248   \n",
       "2017-01-05  36.309670  56.131472  83.592688  57.791484  27.042182  49.008736   \n",
       "2017-01-06  36.270868  57.216700  83.545488  57.751853  26.624396  48.665194   \n",
       "2017-01-09  35.659724  57.226389  82.167223  57.930192  26.472474  48.459069   \n",
       "\n",
       "ticker            YUM         ZBH       ZION        ZTS  \n",
       "date                                                     \n",
       "2017-01-03  61.584910  102.066617  42.425041  53.041571  \n",
       "2017-01-04  61.808997  103.005002  43.034201  53.556250  \n",
       "2017-01-05  62.013598  103.666810  42.336614  53.378092  \n",
       "2017-01-06  62.763801  103.676687  42.611719  53.546352  \n",
       "2017-01-09  62.939174  105.691745  42.149936  53.397887  \n",
       "\n",
       "[5 rows x 495 columns]"
      ]
     },
     "execution_count": 30,
     "metadata": {},
     "output_type": "execute_result"
    }
   ],
   "source": [
    "valid.head()"
   ]
  },
  {
   "cell_type": "code",
   "execution_count": null,
   "id": "2cf82759",
   "metadata": {},
   "outputs": [],
   "source": []
  },
  {
   "cell_type": "code",
   "execution_count": 31,
   "id": "463f180d",
   "metadata": {},
   "outputs": [
    {
     "data": {
      "text/html": [
       "<div>\n",
       "<style scoped>\n",
       "    .dataframe tbody tr th:only-of-type {\n",
       "        vertical-align: middle;\n",
       "    }\n",
       "\n",
       "    .dataframe tbody tr th {\n",
       "        vertical-align: top;\n",
       "    }\n",
       "\n",
       "    .dataframe thead th {\n",
       "        text-align: right;\n",
       "    }\n",
       "</style>\n",
       "<table border=\"1\" class=\"dataframe\">\n",
       "  <thead>\n",
       "    <tr style=\"text-align: right;\">\n",
       "      <th></th>\n",
       "      <th>open_date</th>\n",
       "      <th>ticker</th>\n",
       "      <th>action</th>\n",
       "      <th>close_date</th>\n",
       "      <th>dte_atOpen</th>\n",
       "      <th>adj_close_atOpen</th>\n",
       "      <th>dte_atClose</th>\n",
       "      <th>adj_close_atClose</th>\n",
       "      <th>committed</th>\n",
       "      <th>revenue</th>\n",
       "      <th>cost</th>\n",
       "      <th>profit</th>\n",
       "    </tr>\n",
       "  </thead>\n",
       "  <tbody>\n",
       "    <tr>\n",
       "      <th>0</th>\n",
       "      <td>2017-02-14</td>\n",
       "      <td>A</td>\n",
       "      <td>Buy</td>\n",
       "      <td>2017-03-14</td>\n",
       "      <td>2017-02-14</td>\n",
       "      <td>49.703267</td>\n",
       "      <td>2017-03-14</td>\n",
       "      <td>51.498464</td>\n",
       "      <td>49.703267</td>\n",
       "      <td>51.498464</td>\n",
       "      <td>49.703267</td>\n",
       "      <td>1.795196</td>\n",
       "    </tr>\n",
       "    <tr>\n",
       "      <th>1</th>\n",
       "      <td>2017-02-14</td>\n",
       "      <td>AAPL</td>\n",
       "      <td>Buy</td>\n",
       "      <td>2017-03-14</td>\n",
       "      <td>2017-02-14</td>\n",
       "      <td>132.397351</td>\n",
       "      <td>2017-03-14</td>\n",
       "      <td>136.290237</td>\n",
       "      <td>132.397351</td>\n",
       "      <td>136.290237</td>\n",
       "      <td>132.397351</td>\n",
       "      <td>3.892886</td>\n",
       "    </tr>\n",
       "    <tr>\n",
       "      <th>2</th>\n",
       "      <td>2017-02-15</td>\n",
       "      <td>AAPL</td>\n",
       "      <td>Buy</td>\n",
       "      <td>2017-03-15</td>\n",
       "      <td>2017-02-15</td>\n",
       "      <td>132.877833</td>\n",
       "      <td>2017-03-15</td>\n",
       "      <td>137.731683</td>\n",
       "      <td>132.877833</td>\n",
       "      <td>137.731683</td>\n",
       "      <td>132.877833</td>\n",
       "      <td>4.853850</td>\n",
       "    </tr>\n",
       "    <tr>\n",
       "      <th>3</th>\n",
       "      <td>2017-02-16</td>\n",
       "      <td>A</td>\n",
       "      <td>Buy</td>\n",
       "      <td>2017-03-16</td>\n",
       "      <td>2017-02-16</td>\n",
       "      <td>50.147135</td>\n",
       "      <td>2017-03-16</td>\n",
       "      <td>52.327016</td>\n",
       "      <td>50.147135</td>\n",
       "      <td>52.327016</td>\n",
       "      <td>50.147135</td>\n",
       "      <td>2.179881</td>\n",
       "    </tr>\n",
       "    <tr>\n",
       "      <th>4</th>\n",
       "      <td>2017-02-16</td>\n",
       "      <td>AAPL</td>\n",
       "      <td>Buy</td>\n",
       "      <td>2017-03-16</td>\n",
       "      <td>2017-02-16</td>\n",
       "      <td>132.716038</td>\n",
       "      <td>2017-03-16</td>\n",
       "      <td>137.957216</td>\n",
       "      <td>132.716038</td>\n",
       "      <td>137.957216</td>\n",
       "      <td>132.716038</td>\n",
       "      <td>5.241178</td>\n",
       "    </tr>\n",
       "  </tbody>\n",
       "</table>\n",
       "</div>"
      ],
      "text/plain": [
       "   open_date ticker action close_date dte_atOpen  adj_close_atOpen  \\\n",
       "0 2017-02-14      A    Buy 2017-03-14 2017-02-14         49.703267   \n",
       "1 2017-02-14   AAPL    Buy 2017-03-14 2017-02-14        132.397351   \n",
       "2 2017-02-15   AAPL    Buy 2017-03-15 2017-02-15        132.877833   \n",
       "3 2017-02-16      A    Buy 2017-03-16 2017-02-16         50.147135   \n",
       "4 2017-02-16   AAPL    Buy 2017-03-16 2017-02-16        132.716038   \n",
       "\n",
       "  dte_atClose  adj_close_atClose   committed     revenue        cost    profit  \n",
       "0  2017-03-14          51.498464   49.703267   51.498464   49.703267  1.795196  \n",
       "1  2017-03-14         136.290237  132.397351  136.290237  132.397351  3.892886  \n",
       "2  2017-03-15         137.731683  132.877833  137.731683  132.877833  4.853850  \n",
       "3  2017-03-16          52.327016   50.147135   52.327016   50.147135  2.179881  \n",
       "4  2017-03-16         137.957216  132.716038  137.957216  132.716038  5.241178  "
      ]
     },
     "execution_count": 31,
     "metadata": {},
     "output_type": "execute_result"
    }
   ],
   "source": [
    "transactions.head()"
   ]
  },
  {
   "cell_type": "code",
   "execution_count": 32,
   "id": "f0413e13",
   "metadata": {},
   "outputs": [],
   "source": [
    "# from scipy import stats\n",
    "\n",
    "# t_stastic, p_value = stats.ttest_1samp(expected_portfolio_returns, 0)\n",
    "# t_stastic, p_value / 2 # one tailed"
   ]
  },
  {
   "cell_type": "markdown",
   "id": "69745106",
   "metadata": {},
   "source": [
    "## Below this is just jibberish testing code"
   ]
  },
  {
   "cell_type": "code",
   "execution_count": 33,
   "id": "433682e8",
   "metadata": {},
   "outputs": [],
   "source": [
    "# np.log(valid/valid.shift(28)).iloc[28:]"
   ]
  },
  {
   "cell_type": "code",
   "execution_count": null,
   "id": "85c4e209",
   "metadata": {},
   "outputs": [],
   "source": []
  },
  {
   "cell_type": "code",
   "execution_count": null,
   "id": "07606e3a",
   "metadata": {},
   "outputs": [],
   "source": []
  },
  {
   "cell_type": "code",
   "execution_count": 34,
   "id": "7a2b818f",
   "metadata": {},
   "outputs": [],
   "source": [
    "# df = raw.pivot(index='date', columns='ticker',values='adj_close')\n",
    "# valid = df.loc[pd.Timestamp('2017-1-1'):]"
   ]
  },
  {
   "cell_type": "code",
   "execution_count": null,
   "id": "5ead1f3d",
   "metadata": {},
   "outputs": [],
   "source": []
  },
  {
   "cell_type": "code",
   "execution_count": 35,
   "id": "0963ff9f",
   "metadata": {},
   "outputs": [],
   "source": [
    "# exp_daily_return.sum(axis=1)/len(valid.columns)"
   ]
  },
  {
   "cell_type": "code",
   "execution_count": 36,
   "id": "75a2be32",
   "metadata": {},
   "outputs": [],
   "source": [
    "# .sum(axis=1)/len(valid.columns)"
   ]
  },
  {
   "cell_type": "code",
   "execution_count": 37,
   "id": "81ea058a",
   "metadata": {},
   "outputs": [],
   "source": [
    "# (np.log(valid/valid.shift(1)).dropna().sum(axis=1)/len(valid.columns)).sum()"
   ]
  },
  {
   "cell_type": "code",
   "execution_count": 38,
   "id": "ef99799a",
   "metadata": {},
   "outputs": [],
   "source": [
    "# portfolio_ret_mean"
   ]
  },
  {
   "cell_type": "code",
   "execution_count": 39,
   "id": "76517172",
   "metadata": {},
   "outputs": [],
   "source": [
    "# portfolio_ret_mean = exp_daily_return.mean()\n",
    "# portfolio_ret_ste = exp_daily_return.sem()\n",
    "# portfolio_ret_annual_rate = (np.exp(portfolio_ret_mean * 365)-1)*100"
   ]
  },
  {
   "cell_type": "code",
   "execution_count": 40,
   "id": "8df42b9b",
   "metadata": {},
   "outputs": [],
   "source": [
    "# from scipy import stats\n",
    "\n",
    "# t_stastic, p_value = stats.ttest_1samp(expected_portfolio_returns, 0)\n",
    "# t_stastic, p_value / 2 # one tailed"
   ]
  },
  {
   "cell_type": "code",
   "execution_count": null,
   "id": "c30b4b10",
   "metadata": {},
   "outputs": [],
   "source": []
  },
  {
   "cell_type": "code",
   "execution_count": 41,
   "id": "4016a795",
   "metadata": {},
   "outputs": [],
   "source": [
    "# t_value, p_value = analyze_alpha(exp_daily_return.values)\n",
    "# print(\"\"\"\n",
    "# Alpha analysis:\n",
    "#  t-value:        {:.3f}\n",
    "#  p-value:        {:.6f}\n",
    "# \"\"\".format(t_value, p_value))"
   ]
  },
  {
   "cell_type": "code",
   "execution_count": 42,
   "id": "1625e631",
   "metadata": {},
   "outputs": [],
   "source": [
    "# exp_daily_return.sum()"
   ]
  },
  {
   "cell_type": "code",
   "execution_count": 45,
   "id": "c307bd8b",
   "metadata": {},
   "outputs": [],
   "source": [
    "# df = None\n",
    "# for cols in [['open_date','ticker','committed'],\n",
    "#              ['close_date','ticker','profit'],\n",
    "#              ['close_date','ticker','revenue'],\n",
    "#              ['open_date','ticker','cost']]:\n",
    "#     _tmp = transactions[cols]\n",
    "#     _tmp.columns = ['dte',cols[1],cols[2]]\n",
    "#     _tmp.set_index(['dte','ticker'],inplace=True)\n",
    "#     if df is None: df = _tmp\n",
    "#     else:\n",
    "#         df = pd.merge(df,_tmp,how='outer',left_index=True,right_index=True)\n",
    "# df.fillna(0,inplace=True)\n",
    "# df.sort_index(inplace=True)\n",
    "# df"
   ]
  },
  {
   "cell_type": "code",
   "execution_count": 46,
   "id": "85e62e8a",
   "metadata": {},
   "outputs": [],
   "source": [
    "# (df.committed.cumsum()-df.revenue.cumsum()"
   ]
  },
  {
   "cell_type": "code",
   "execution_count": null,
   "id": "7d5d72bd",
   "metadata": {},
   "outputs": [],
   "source": []
  }
 ],
 "metadata": {
  "interpreter": {
   "hash": "ae5eb9e86421a898aa80b8b95d8d1755e5e5e15b61c607b39ba0c26ee3dd8ef6"
  },
  "kernelspec": {
   "display_name": "Python 3 (ipykernel)",
   "language": "python",
   "name": "python3"
  },
  "language_info": {
   "codemirror_mode": {
    "name": "ipython",
    "version": 3
   },
   "file_extension": ".py",
   "mimetype": "text/x-python",
   "name": "python",
   "nbconvert_exporter": "python",
   "pygments_lexer": "ipython3",
   "version": "3.9.7"
  },
  "toc": {
   "base_numbering": 1,
   "nav_menu": {},
   "number_sections": true,
   "sideBar": true,
   "skip_h1_title": false,
   "title_cell": "Table of Contents",
   "title_sidebar": "Contents",
   "toc_cell": false,
   "toc_position": {},
   "toc_section_display": true,
   "toc_window_display": false
  }
 },
 "nbformat": 4,
 "nbformat_minor": 5
}
