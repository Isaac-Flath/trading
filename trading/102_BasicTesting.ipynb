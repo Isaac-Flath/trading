{
 "cells": [
  {
   "cell_type": "markdown",
   "id": "7f845662",
   "metadata": {},
   "source": [
    "# Introduction to Testing"
   ]
  },
  {
   "cell_type": "markdown",
   "id": "113fb05b",
   "metadata": {},
   "source": [
    "We've created models and created actions we want to take for multiple approaches.  The question now is, how do we know if they are useful?  This is where it is important to test properly before we put money behind them.\n",
    "\n",
    "\n",
    "This will be a short introduction to testing to introduce some groundwork, but testing and validation is the most important and most difficult thing to do.  There are a lot of nuances and details to consider that we will discuss throughought the book - and we also have an entire chapter dedicated to it to cover testing in more detail."
   ]
  },
  {
   "cell_type": "markdown",
   "id": "c79f7ff3",
   "metadata": {},
   "source": [
    "## Train vs Valid vs Test"
   ]
  },
  {
   "cell_type": "markdown",
   "id": "0abc4e8f",
   "metadata": {},
   "source": [
    "The first concept is training, validation, and test sets - and understanding what they are for.  \n",
    "\n",
    "We created out model on our training set.  But how do we know it will work on unseen data?  To put simply, we test it on the validation set.  This is why we set aside our most recent data so that we had a holdout set to test on.\n",
    "\n",
    "Now ideally we have yet another set, called the test set.  This set it even more removed from the process.  While we can keep iterating and testing lots of things on the validation set, we restrict testing on our test set.  This is to add an additional layer of safety.\n",
    "\n",
    "This is very important to protect against overfitting.  We will discuss this in greater detail throughout the book.\n",
    "\n",
    ":::{note} Overfitting is when your approach works extremely well on your training set, but not on unseen data. "
   ]
  },
  {
   "cell_type": "markdown",
   "id": "dfc76b39",
   "metadata": {},
   "source": [
    "We already created our validation set, but where do we get our test set?\n",
    "\n",
    "We could have split our data into three groups Train, Valid, and Test initially and we would have them all.  But instead I would like to look at the most recent data available to me.  For this I am going to pull the last 6 months (as of writing this chapter) of data from yahoo finance for all the tickers in this universe."
   ]
  },
  {
   "cell_type": "markdown",
   "id": "8c8ad267",
   "metadata": {},
   "source": [
    "## Returns"
   ]
  },
  {
   "cell_type": "markdown",
   "id": "925a564d",
   "metadata": {},
   "source": [
    "## Statistical Tests"
   ]
  },
  {
   "cell_type": "code",
   "execution_count": null,
   "id": "52e6a772",
   "metadata": {},
   "outputs": [],
   "source": []
  }
 ],
 "metadata": {
  "kernelspec": {
   "display_name": "Python 3 (ipykernel)",
   "language": "python",
   "name": "python3"
  },
  "language_info": {
   "codemirror_mode": {
    "name": "ipython",
    "version": 3
   },
   "file_extension": ".py",
   "mimetype": "text/x-python",
   "name": "python",
   "nbconvert_exporter": "python",
   "pygments_lexer": "ipython3",
   "version": "3.8.9"
  },
  "toc": {
   "base_numbering": 1,
   "nav_menu": {},
   "number_sections": true,
   "sideBar": true,
   "skip_h1_title": false,
   "title_cell": "Table of Contents",
   "title_sidebar": "Contents",
   "toc_cell": false,
   "toc_position": {},
   "toc_section_display": true,
   "toc_window_display": false
  }
 },
 "nbformat": 4,
 "nbformat_minor": 5
}
