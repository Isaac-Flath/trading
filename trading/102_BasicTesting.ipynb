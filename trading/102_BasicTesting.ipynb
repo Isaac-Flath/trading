{
 "cells": [
  {
   "cell_type": "markdown",
   "id": "b78482bf",
   "metadata": {},
   "source": [
    "# Introduction to Testing"
   ]
  },
  {
   "cell_type": "code",
   "execution_count": 1,
   "id": "54d6eb11",
   "metadata": {},
   "outputs": [],
   "source": [
    "from fastcore.all import *\n",
    "import pandas as pd\n",
    "import numpy as np\n",
    "import matplotlib.pyplot as plt\n",
    "from polygon import RESTClient\n",
    "from utils import view_source_code\n",
    "from datetime import datetime, timedelta, date\n",
    "import time"
   ]
  },
  {
   "cell_type": "code",
   "execution_count": 2,
   "id": "8354ae65",
   "metadata": {},
   "outputs": [],
   "source": [
    "path = Path('../data')"
   ]
  },
  {
   "cell_type": "markdown",
   "id": "30d48c10",
   "metadata": {},
   "source": [
    "## Background\n",
    "\n",
    "In Chapter 1 we created models and created actions we want to take for multiple approaches.  The question now is, how do we know if they are profitable?  How should we measure them?  How do we know if we simply got lucky, or if they are reliable?\n",
    "\n",
    "As we mentioned in chapter 2, testing is the most important part of the process.  If done well you have a good way to determine what strategies should be implemented, and if done poorly you run the risk of implementing non-profitable strategies.  I believe you should strive to never sacrifice testing principles because effective testing is your **only** objective indication to whether you are doing something useful or not.  Without effective testing you are \"flying blind\".\n",
    "\n",
    "This chapter will lay the groundwork and cover the basics of testing.  The goal of this chapter is to introduce concept and the three core things that need to be carefully considered for effective testing.\n",
    "\n",
    "1. What data should you use for testing?\n",
    "1. What metric should you use for testing?\n",
    "1. What test should you use?\n",
    "\n",
    "In this chapter we are going to walk through the concepts to see each step and understand the importance.  In the next chapter we are going apply our knowledge to build a better structured solution and framework that we can use through the remainder of the book."
   ]
  },
  {
   "cell_type": "markdown",
   "id": "a813dd5a",
   "metadata": {},
   "source": [
    "## What data should you use for testing?"
   ]
  },
  {
   "cell_type": "markdown",
   "id": "077f4b8a",
   "metadata": {},
   "source": [
    "The first question we have to ask is what data to we use for testing?  Ideally we have 3 subsets of our data (training, validation, and test).  Let's go through what they are used for and why they are important."
   ]
  },
  {
   "cell_type": "markdown",
   "id": "39b062db",
   "metadata": {},
   "source": [
    "### Training Set"
   ]
  },
  {
   "cell_type": "markdown",
   "id": "957a18b2",
   "metadata": {},
   "source": [
    "The training set is unique because it has no restrictions on what we can do with it.  We can look at any piece of data in it.  We can normalize data using values in the training set.  We can train machine learning models on the training set.  This is often the largest subset of our data.\n",
    "\n",
    "This training set is pretty explanatory - we use this for understanding our data and developing our model.  \n",
    "\n",
    "We can load it in using the same method as we did in chapter 1."
   ]
  },
  {
   "cell_type": "code",
   "execution_count": 3,
   "id": "81377a44",
   "metadata": {},
   "outputs": [],
   "source": [
    "raw = pd.read_csv(path/'eod-quotemedia.csv',parse_dates=['date'])\n",
    "df = raw.pivot(index='date', columns='ticker',values='adj_close')\n",
    "train = df.loc[:pd.Timestamp('2017-1-1')]"
   ]
  },
  {
   "cell_type": "markdown",
   "id": "1d6a1355",
   "metadata": {},
   "source": [
    "### Validation Set"
   ]
  },
  {
   "cell_type": "markdown",
   "id": "d100eb23",
   "metadata": {},
   "source": [
    "The goal of creating a trading strategy is to have it perform well on data that it was not developed using.  We may use data from 2015 - 2020 to create a trading strategy, but the goal is to apply it to 2021 and 2022 to make a profit.\n",
    "\n",
    "Because we want our model to perform on *unseen* data, we create some restriction to how we use the validation set.  We do not train any models on it, and we do not use statistics or data from the validation set when creating our model.  It's data our model has never seen.  The validation set is something we can only use to see how well our strategy or model performs.  \n",
    "\n",
    "The entire purpose of the validation set is to give us unseen data to evaluate our approaches on.  By having this separate validation set we can more accurately determine what works and what doesn't.\n",
    "\n",
    "We can get our validation set using the same method as we did in chapter 1."
   ]
  },
  {
   "cell_type": "code",
   "execution_count": 4,
   "id": "e03373cb",
   "metadata": {},
   "outputs": [],
   "source": [
    "valid = df.loc[pd.Timestamp('2017-1-1'):]"
   ]
  },
  {
   "cell_type": "markdown",
   "id": "d8d18010",
   "metadata": {},
   "source": [
    "### Test Set\n"
   ]
  },
  {
   "cell_type": "markdown",
   "id": "a992f84c",
   "metadata": {},
   "source": [
    "The Test set is very similar to the validation set, but it takes things a step further.  It has further restrictions in that is is the final model step before deployment.  The main difference is how often you can use it.  For the validation set, you can test anything on the validation set as many times as you want.  For the test set you only get to look at the test set once for your particular approach.\n",
    "\n",
    "For example, you may try 300 different approaches and parameter changes to your strategy to see what works best.  You can check the profitability on each of them using the validation set.  Then once you have chosen a strategy, you do a final check to ensure it also performs on the test set.  Once you have done that you need a new test set or your project is over.\n",
    "\n",
    "The reason this is important is that you want to ensure that you didn't get lucky and find a configuration out of your 300 attempts that just happens to work on the validation set but doesn't work elsewhere.  If you try enough combinations eventually you will find something that works, but the test set gives you confidence that your model works because it's a good strategy and not that you just tried enough things to find something that works on coincidence.\n",
    "\n",
    "\n",
    ":::{note} Many people re-use or have more lax rules on the test set.  Many people do not use one at all.  In this text I am laying out the ideal state I believe we should strive for.  If you choose to loosen these restrictions on the test set or do without one, I would strongly encourage you to think hard about it.\n"
   ]
  },
  {
   "cell_type": "markdown",
   "id": "cc2d1980",
   "metadata": {},
   "source": [
    "To get our test set, we could have split our initial data into 3.  Because we are a bit concerned about survivorship bias, let's pull a new test set that uses recent data to and test how these strategies would perform over the last year and a half."
   ]
  },
  {
   "cell_type": "markdown",
   "id": "c10d5755",
   "metadata": {},
   "source": [
    "We need to get adjusted close price.  There are a variety of services that have APIs to pull from, I have picked polgygon to use here because it's free for what we need.\n",
    "\n",
    ":::{note} We are using a free api key and putting the key in this notebook in an effort to show everthing to the reader, but best practice would be to read the api key from an environment variable.  From the polygon docs it will by default pull the api key from the `POLYGON_API_KEY` environment variable, then you would initiate the client with so that no credentials are exposed.\n",
    "`client = RESTClient()`"
   ]
  },
  {
   "cell_type": "code",
   "execution_count": 5,
   "id": "656d894d",
   "metadata": {},
   "outputs": [],
   "source": [
    "polygon_free_api_key = 'wUv2tpS05klv9ebAQKyLD610FBWllpan'\n",
    "client = RESTClient(polygon_free_api_key)"
   ]
  },
  {
   "cell_type": "code",
   "execution_count": 6,
   "id": "bbeedcba",
   "metadata": {},
   "outputs": [],
   "source": [
    "if not (path/'polytest_eod-quotemedia.csv').exists():\n",
    "    dfs = L()\n",
    "    errors = L()\n",
    "    for ticker in valid:\n",
    "        try:\n",
    "            aggs = client.get_aggs(ticker, 1, \"day\", \"2021-01-01\", \"2022-05-31\",adjusted=True)\n",
    "            close = {ticker:[o.close for o in aggs]}\n",
    "            \n",
    "            # Convert millisecond time stamp to date\n",
    "            date = L(o.timestamp/1e3 for o in aggs).map(datetime.fromtimestamp)\n",
    "            dfs.append(pd.DataFrame(close,index=date))\n",
    "        except:\n",
    "            errors.append(aggs)\n",
    "            print(f\"FAILURE: {ticker}\")\n",
    "        \n",
    "        # Free api gives 5 API calls / minute - so we need to pace our api calls!\n",
    "        time.sleep(60/5)\n",
    "    df_test = pd.concat(dfs,axis=1)\n",
    "    df_test.to_csv(path/'polytest_eod-quotemedia.csv')\n",
    "\n",
    "df_test = pd.read_csv(path/'polytest_eod-quotemedia.csv',index_col=0,parse_dates=True)"
   ]
  },
  {
   "cell_type": "code",
   "execution_count": 7,
   "id": "ab7f0d89",
   "metadata": {},
   "outputs": [
    {
     "data": {
      "text/html": [
       "<div>\n",
       "<style scoped>\n",
       "    .dataframe tbody tr th:only-of-type {\n",
       "        vertical-align: middle;\n",
       "    }\n",
       "\n",
       "    .dataframe tbody tr th {\n",
       "        vertical-align: top;\n",
       "    }\n",
       "\n",
       "    .dataframe thead th {\n",
       "        text-align: right;\n",
       "    }\n",
       "</style>\n",
       "<table border=\"1\" class=\"dataframe\">\n",
       "  <thead>\n",
       "    <tr style=\"text-align: right;\">\n",
       "      <th></th>\n",
       "      <th>A</th>\n",
       "      <th>AAL</th>\n",
       "      <th>AAP</th>\n",
       "      <th>AAPL</th>\n",
       "      <th>ABBV</th>\n",
       "    </tr>\n",
       "  </thead>\n",
       "  <tbody>\n",
       "    <tr>\n",
       "      <th>2021-01-04</th>\n",
       "      <td>118.64</td>\n",
       "      <td>15.13</td>\n",
       "      <td>157.34</td>\n",
       "      <td>129.41</td>\n",
       "      <td>105.41</td>\n",
       "    </tr>\n",
       "    <tr>\n",
       "      <th>2021-01-05</th>\n",
       "      <td>119.61</td>\n",
       "      <td>15.43</td>\n",
       "      <td>157.17</td>\n",
       "      <td>131.01</td>\n",
       "      <td>106.50</td>\n",
       "    </tr>\n",
       "    <tr>\n",
       "      <th>2021-01-06</th>\n",
       "      <td>122.89</td>\n",
       "      <td>15.52</td>\n",
       "      <td>166.25</td>\n",
       "      <td>126.60</td>\n",
       "      <td>105.58</td>\n",
       "    </tr>\n",
       "    <tr>\n",
       "      <th>2021-01-07</th>\n",
       "      <td>126.16</td>\n",
       "      <td>15.38</td>\n",
       "      <td>167.67</td>\n",
       "      <td>130.92</td>\n",
       "      <td>106.71</td>\n",
       "    </tr>\n",
       "    <tr>\n",
       "      <th>2021-01-08</th>\n",
       "      <td>127.06</td>\n",
       "      <td>15.13</td>\n",
       "      <td>170.06</td>\n",
       "      <td>132.05</td>\n",
       "      <td>107.27</td>\n",
       "    </tr>\n",
       "  </tbody>\n",
       "</table>\n",
       "</div>"
      ],
      "text/plain": [
       "                 A    AAL     AAP    AAPL    ABBV\n",
       "2021-01-04  118.64  15.13  157.34  129.41  105.41\n",
       "2021-01-05  119.61  15.43  157.17  131.01  106.50\n",
       "2021-01-06  122.89  15.52  166.25  126.60  105.58\n",
       "2021-01-07  126.16  15.38  167.67  130.92  106.71\n",
       "2021-01-08  127.06  15.13  170.06  132.05  107.27"
      ]
     },
     "execution_count": 7,
     "metadata": {},
     "output_type": "execute_result"
    }
   ],
   "source": [
    "df_test.iloc[:5,:5]"
   ]
  },
  {
   "cell_type": "code",
   "execution_count": null,
   "id": "a03a7343",
   "metadata": {},
   "outputs": [],
   "source": []
  },
  {
   "cell_type": "markdown",
   "id": "a14bc8d4",
   "metadata": {},
   "source": [
    "## What metric should you use for testing?\n",
    "\n",
    "Now that we understand what data we will use for testing, let's start figuring out how well our first model from chapter 1 performs.\n",
    "\n",
    "The next step is to figure out an appropriate metric.  There are a variety of ways to measure this and we will walk through a few first steps in this section"
   ]
  },
  {
   "cell_type": "markdown",
   "id": "dfc3f38d",
   "metadata": {},
   "source": [
    "### Dollars"
   ]
  },
  {
   "cell_type": "markdown",
   "id": "d63b8202",
   "metadata": {},
   "source": [
    "Let's take our first model from chapter 1 and measure how well it does in terms of dollars.  After all dollars is what we want to make, so it seems like a reasonable starting point."
   ]
  },
  {
   "cell_type": "code",
   "execution_count": 8,
   "id": "93e3c15e",
   "metadata": {},
   "outputs": [],
   "source": [
    "from SimpleTimeSeries import get_momentum_actions"
   ]
  },
  {
   "cell_type": "code",
   "execution_count": 9,
   "id": "e1d94dc2",
   "metadata": {},
   "outputs": [],
   "source": [
    "transactions = pd.DataFrame(columns=['open_date','ticker','action','close_date'])\n",
    "\n",
    "valid_mom = get_momentum_actions(valid,28,0.08)\n",
    "for dte,vals in valid_mom.iloc[:,:5].iterrows():    \n",
    "    for val in vals[vals.values != ''].items():\n",
    "        row = {'open_date':dte.date(),'ticker':val[0],'action':val[1]}\n",
    "        transactions = pd.concat([transactions,pd.DataFrame(row,index=[0])])\n"
   ]
  },
  {
   "cell_type": "markdown",
   "id": "f7eb51e3",
   "metadata": {},
   "source": [
    "No we have a dataframe with all the positions we are going to take and when to take them.  But we are missing one crucial piece!  When should we close those positions.  We cannot make money by simplying buying a stock (ignoring dividends for now) - the profit comes when we actually close the position and sell the stock.  Let's close the position 28 days after opening."
   ]
  },
  {
   "cell_type": "code",
   "execution_count": 10,
   "id": "19588cdf",
   "metadata": {},
   "outputs": [],
   "source": [
    "transactions['close_date'] = transactions.open_date + timedelta(28)\n",
    "transactions = transactions.loc[transactions.open_date < (transactions.open_date.max() - timedelta(28))]\n"
   ]
  },
  {
   "cell_type": "markdown",
   "id": "7172309c",
   "metadata": {},
   "source": [
    "Next we need to get the stock price on the date of our initial action when we open to position, as well as when we close our position.  Let's start with the price on the day we open."
   ]
  },
  {
   "cell_type": "code",
   "execution_count": 11,
   "id": "446930bf",
   "metadata": {},
   "outputs": [],
   "source": [
    "df_valid_long = valid.melt(var_name='ticker',value_name='adj_close',ignore_index=False).reset_index()\n",
    "df_valid_long.columns = ['dte','ticker','adj_close']"
   ]
  },
  {
   "cell_type": "code",
   "execution_count": 12,
   "id": "4f6a916c",
   "metadata": {
    "scrolled": true
   },
   "outputs": [
    {
     "data": {
      "text/html": [
       "<div>\n",
       "<style scoped>\n",
       "    .dataframe tbody tr th:only-of-type {\n",
       "        vertical-align: middle;\n",
       "    }\n",
       "\n",
       "    .dataframe tbody tr th {\n",
       "        vertical-align: top;\n",
       "    }\n",
       "\n",
       "    .dataframe thead th {\n",
       "        text-align: right;\n",
       "    }\n",
       "</style>\n",
       "<table border=\"1\" class=\"dataframe\">\n",
       "  <thead>\n",
       "    <tr style=\"text-align: right;\">\n",
       "      <th></th>\n",
       "      <th>open_date</th>\n",
       "      <th>ticker</th>\n",
       "      <th>action</th>\n",
       "      <th>close_date</th>\n",
       "      <th>dte</th>\n",
       "      <th>adj_close</th>\n",
       "    </tr>\n",
       "  </thead>\n",
       "  <tbody>\n",
       "    <tr>\n",
       "      <th>0</th>\n",
       "      <td>2017-02-14</td>\n",
       "      <td>A</td>\n",
       "      <td>Buy</td>\n",
       "      <td>2017-03-14</td>\n",
       "      <td>2017-02-14</td>\n",
       "      <td>49.703267</td>\n",
       "    </tr>\n",
       "    <tr>\n",
       "      <th>1</th>\n",
       "      <td>2017-02-14</td>\n",
       "      <td>AAPL</td>\n",
       "      <td>Buy</td>\n",
       "      <td>2017-03-14</td>\n",
       "      <td>2017-02-14</td>\n",
       "      <td>132.397351</td>\n",
       "    </tr>\n",
       "    <tr>\n",
       "      <th>2</th>\n",
       "      <td>2017-02-15</td>\n",
       "      <td>AAPL</td>\n",
       "      <td>Buy</td>\n",
       "      <td>2017-03-15</td>\n",
       "      <td>2017-02-15</td>\n",
       "      <td>132.877833</td>\n",
       "    </tr>\n",
       "    <tr>\n",
       "      <th>3</th>\n",
       "      <td>2017-02-16</td>\n",
       "      <td>A</td>\n",
       "      <td>Buy</td>\n",
       "      <td>2017-03-16</td>\n",
       "      <td>2017-02-16</td>\n",
       "      <td>50.147135</td>\n",
       "    </tr>\n",
       "    <tr>\n",
       "      <th>4</th>\n",
       "      <td>2017-02-16</td>\n",
       "      <td>AAPL</td>\n",
       "      <td>Buy</td>\n",
       "      <td>2017-03-16</td>\n",
       "      <td>2017-02-16</td>\n",
       "      <td>132.716038</td>\n",
       "    </tr>\n",
       "    <tr>\n",
       "      <th>5</th>\n",
       "      <td>2017-02-17</td>\n",
       "      <td>AAPL</td>\n",
       "      <td>Buy</td>\n",
       "      <td>2017-03-17</td>\n",
       "      <td>2017-02-17</td>\n",
       "      <td>133.083754</td>\n",
       "    </tr>\n",
       "    <tr>\n",
       "      <th>6</th>\n",
       "      <td>2017-02-18</td>\n",
       "      <td>AAPL</td>\n",
       "      <td>Buy</td>\n",
       "      <td>2017-03-18</td>\n",
       "      <td>NaT</td>\n",
       "      <td>NaN</td>\n",
       "    </tr>\n",
       "    <tr>\n",
       "      <th>7</th>\n",
       "      <td>2017-02-22</td>\n",
       "      <td>AAPL</td>\n",
       "      <td>Buy</td>\n",
       "      <td>2017-03-22</td>\n",
       "      <td>2017-02-22</td>\n",
       "      <td>134.446754</td>\n",
       "    </tr>\n",
       "    <tr>\n",
       "      <th>8</th>\n",
       "      <td>2017-02-23</td>\n",
       "      <td>AAPL</td>\n",
       "      <td>Buy</td>\n",
       "      <td>2017-03-23</td>\n",
       "      <td>2017-02-23</td>\n",
       "      <td>133.878020</td>\n",
       "    </tr>\n",
       "    <tr>\n",
       "      <th>9</th>\n",
       "      <td>2017-02-24</td>\n",
       "      <td>AAP</td>\n",
       "      <td>Short</td>\n",
       "      <td>2017-03-24</td>\n",
       "      <td>2017-02-24</td>\n",
       "      <td>156.842676</td>\n",
       "    </tr>\n",
       "  </tbody>\n",
       "</table>\n",
       "</div>"
      ],
      "text/plain": [
       "   open_date ticker action  close_date        dte   adj_close\n",
       "0 2017-02-14      A    Buy  2017-03-14 2017-02-14   49.703267\n",
       "1 2017-02-14   AAPL    Buy  2017-03-14 2017-02-14  132.397351\n",
       "2 2017-02-15   AAPL    Buy  2017-03-15 2017-02-15  132.877833\n",
       "3 2017-02-16      A    Buy  2017-03-16 2017-02-16   50.147135\n",
       "4 2017-02-16   AAPL    Buy  2017-03-16 2017-02-16  132.716038\n",
       "5 2017-02-17   AAPL    Buy  2017-03-17 2017-02-17  133.083754\n",
       "6 2017-02-18   AAPL    Buy  2017-03-18        NaT         NaN\n",
       "7 2017-02-22   AAPL    Buy  2017-03-22 2017-02-22  134.446754\n",
       "8 2017-02-23   AAPL    Buy  2017-03-23 2017-02-23  133.878020\n",
       "9 2017-02-24    AAP  Short  2017-03-24 2017-02-24  156.842676"
      ]
     },
     "execution_count": 12,
     "metadata": {},
     "output_type": "execute_result"
    }
   ],
   "source": [
    "transactions['open_date'] = pd.to_datetime(transactions.open_date)\n",
    "df_valid_long['dte'] = pd.to_datetime(df_valid_long.dte)\n",
    "pd.merge(left=transactions,left_on=['open_date','ticker'],\n",
    "         right=df_valid_long,right_on=['dte','ticker'],\n",
    "         how='left').head(10)"
   ]
  },
  {
   "cell_type": "markdown",
   "id": "cea0ea42",
   "metadata": {},
   "source": [
    "Uh oh - We have a join that isn't working correctly and get `NaT` and `NaN`!  We created our model assuming that we could make transactions any day we want, but the stock market is not open every day.  There are limitations to when we can trade openly in the stock market we need to start accounting for.  \n",
    "\n",
    "When we trade using the adjusted close price we added a day because we wouldn't be able to actually place the trade until the following day.  If that day ended up being a Saturday in reality we would have to wait until Monday to place that trade (assuming that monday isn't a holiday).  \n",
    "\n",
    "Let's fix that by getting the next available trading day for each date.  Because we know this same thing applies to our `close_date`, we will fix it there as well."
   ]
  },
  {
   "cell_type": "code",
   "execution_count": 13,
   "id": "c0c1a656",
   "metadata": {},
   "outputs": [],
   "source": [
    "unique_dates = L(o.date() for o in valid.index)\n",
    "unique_dates.sort()"
   ]
  },
  {
   "cell_type": "code",
   "execution_count": 14,
   "id": "14a4b0d3",
   "metadata": {},
   "outputs": [],
   "source": [
    "def get_next_trading_day(dte,unique_dates):\n",
    "    return unique_dates.filter(lambda x: pd.Timestamp(x) >= pd.Timestamp(dte))[0]"
   ]
  },
  {
   "cell_type": "code",
   "execution_count": 15,
   "id": "c6db36bc",
   "metadata": {},
   "outputs": [],
   "source": [
    "f = bind(get_next_trading_day,unique_dates=unique_dates)\n",
    "transactions['open_date'] = transactions.open_date.apply(f)\n",
    "transactions['close_date'] = transactions.close_date.apply(f)"
   ]
  },
  {
   "cell_type": "code",
   "execution_count": 16,
   "id": "490f21c9",
   "metadata": {},
   "outputs": [],
   "source": [
    "transactions['open_date'] = pd.to_datetime(transactions.open_date)\n",
    "transactions['close_date'] = pd.to_datetime(transactions.close_date)\n"
   ]
  },
  {
   "cell_type": "markdown",
   "id": "396321ed",
   "metadata": {},
   "source": [
    "Now we can merge in the price correctly!"
   ]
  },
  {
   "cell_type": "code",
   "execution_count": 17,
   "id": "f70a6faf",
   "metadata": {},
   "outputs": [],
   "source": [
    "transactions = pd.merge(left=transactions,left_on=['open_date','ticker'],\n",
    "                         right=df_valid_long,right_on=['dte','ticker'],\n",
    "                          how='left')\n",
    "transactions = pd.merge(left=transactions,left_on=['close_date','ticker'],\n",
    "                         right=df_valid_long,right_on=['dte','ticker'],\n",
    "                          how='left',\n",
    "                          suffixes=('_atOpen','_atClose'))"
   ]
  },
  {
   "cell_type": "code",
   "execution_count": 18,
   "id": "afdb5109",
   "metadata": {},
   "outputs": [
    {
     "data": {
      "text/html": [
       "<div>\n",
       "<style scoped>\n",
       "    .dataframe tbody tr th:only-of-type {\n",
       "        vertical-align: middle;\n",
       "    }\n",
       "\n",
       "    .dataframe tbody tr th {\n",
       "        vertical-align: top;\n",
       "    }\n",
       "\n",
       "    .dataframe thead th {\n",
       "        text-align: right;\n",
       "    }\n",
       "</style>\n",
       "<table border=\"1\" class=\"dataframe\">\n",
       "  <thead>\n",
       "    <tr style=\"text-align: right;\">\n",
       "      <th></th>\n",
       "      <th>open_date</th>\n",
       "      <th>ticker</th>\n",
       "      <th>action</th>\n",
       "      <th>close_date</th>\n",
       "      <th>dte_atOpen</th>\n",
       "      <th>adj_close_atOpen</th>\n",
       "      <th>dte_atClose</th>\n",
       "      <th>adj_close_atClose</th>\n",
       "    </tr>\n",
       "  </thead>\n",
       "  <tbody>\n",
       "    <tr>\n",
       "      <th>0</th>\n",
       "      <td>2017-02-14</td>\n",
       "      <td>A</td>\n",
       "      <td>Buy</td>\n",
       "      <td>2017-03-14</td>\n",
       "      <td>2017-02-14</td>\n",
       "      <td>49.703267</td>\n",
       "      <td>2017-03-14</td>\n",
       "      <td>51.498464</td>\n",
       "    </tr>\n",
       "    <tr>\n",
       "      <th>1</th>\n",
       "      <td>2017-02-14</td>\n",
       "      <td>AAPL</td>\n",
       "      <td>Buy</td>\n",
       "      <td>2017-03-14</td>\n",
       "      <td>2017-02-14</td>\n",
       "      <td>132.397351</td>\n",
       "      <td>2017-03-14</td>\n",
       "      <td>136.290237</td>\n",
       "    </tr>\n",
       "    <tr>\n",
       "      <th>2</th>\n",
       "      <td>2017-02-15</td>\n",
       "      <td>AAPL</td>\n",
       "      <td>Buy</td>\n",
       "      <td>2017-03-15</td>\n",
       "      <td>2017-02-15</td>\n",
       "      <td>132.877833</td>\n",
       "      <td>2017-03-15</td>\n",
       "      <td>137.731683</td>\n",
       "    </tr>\n",
       "    <tr>\n",
       "      <th>3</th>\n",
       "      <td>2017-02-16</td>\n",
       "      <td>A</td>\n",
       "      <td>Buy</td>\n",
       "      <td>2017-03-16</td>\n",
       "      <td>2017-02-16</td>\n",
       "      <td>50.147135</td>\n",
       "      <td>2017-03-16</td>\n",
       "      <td>52.327016</td>\n",
       "    </tr>\n",
       "    <tr>\n",
       "      <th>4</th>\n",
       "      <td>2017-02-16</td>\n",
       "      <td>AAPL</td>\n",
       "      <td>Buy</td>\n",
       "      <td>2017-03-16</td>\n",
       "      <td>2017-02-16</td>\n",
       "      <td>132.716038</td>\n",
       "      <td>2017-03-16</td>\n",
       "      <td>137.957216</td>\n",
       "    </tr>\n",
       "    <tr>\n",
       "      <th>5</th>\n",
       "      <td>2017-02-17</td>\n",
       "      <td>AAPL</td>\n",
       "      <td>Buy</td>\n",
       "      <td>2017-03-17</td>\n",
       "      <td>2017-02-17</td>\n",
       "      <td>133.083754</td>\n",
       "      <td>2017-03-17</td>\n",
       "      <td>137.270813</td>\n",
       "    </tr>\n",
       "    <tr>\n",
       "      <th>6</th>\n",
       "      <td>2017-02-21</td>\n",
       "      <td>AAPL</td>\n",
       "      <td>Buy</td>\n",
       "      <td>2017-03-20</td>\n",
       "      <td>2017-02-21</td>\n",
       "      <td>134.044718</td>\n",
       "      <td>2017-03-20</td>\n",
       "      <td>138.712259</td>\n",
       "    </tr>\n",
       "    <tr>\n",
       "      <th>7</th>\n",
       "      <td>2017-02-22</td>\n",
       "      <td>AAPL</td>\n",
       "      <td>Buy</td>\n",
       "      <td>2017-03-22</td>\n",
       "      <td>2017-02-22</td>\n",
       "      <td>134.446754</td>\n",
       "      <td>2017-03-22</td>\n",
       "      <td>138.673036</td>\n",
       "    </tr>\n",
       "    <tr>\n",
       "      <th>8</th>\n",
       "      <td>2017-02-23</td>\n",
       "      <td>AAPL</td>\n",
       "      <td>Buy</td>\n",
       "      <td>2017-03-23</td>\n",
       "      <td>2017-02-23</td>\n",
       "      <td>133.878020</td>\n",
       "      <td>2017-03-23</td>\n",
       "      <td>138.182748</td>\n",
       "    </tr>\n",
       "    <tr>\n",
       "      <th>9</th>\n",
       "      <td>2017-02-24</td>\n",
       "      <td>AAP</td>\n",
       "      <td>Short</td>\n",
       "      <td>2017-03-24</td>\n",
       "      <td>2017-02-24</td>\n",
       "      <td>156.842676</td>\n",
       "      <td>2017-03-24</td>\n",
       "      <td>149.325422</td>\n",
       "    </tr>\n",
       "  </tbody>\n",
       "</table>\n",
       "</div>"
      ],
      "text/plain": [
       "   open_date ticker action close_date dte_atOpen  adj_close_atOpen  \\\n",
       "0 2017-02-14      A    Buy 2017-03-14 2017-02-14         49.703267   \n",
       "1 2017-02-14   AAPL    Buy 2017-03-14 2017-02-14        132.397351   \n",
       "2 2017-02-15   AAPL    Buy 2017-03-15 2017-02-15        132.877833   \n",
       "3 2017-02-16      A    Buy 2017-03-16 2017-02-16         50.147135   \n",
       "4 2017-02-16   AAPL    Buy 2017-03-16 2017-02-16        132.716038   \n",
       "5 2017-02-17   AAPL    Buy 2017-03-17 2017-02-17        133.083754   \n",
       "6 2017-02-21   AAPL    Buy 2017-03-20 2017-02-21        134.044718   \n",
       "7 2017-02-22   AAPL    Buy 2017-03-22 2017-02-22        134.446754   \n",
       "8 2017-02-23   AAPL    Buy 2017-03-23 2017-02-23        133.878020   \n",
       "9 2017-02-24    AAP  Short 2017-03-24 2017-02-24        156.842676   \n",
       "\n",
       "  dte_atClose  adj_close_atClose  \n",
       "0  2017-03-14          51.498464  \n",
       "1  2017-03-14         136.290237  \n",
       "2  2017-03-15         137.731683  \n",
       "3  2017-03-16          52.327016  \n",
       "4  2017-03-16         137.957216  \n",
       "5  2017-03-17         137.270813  \n",
       "6  2017-03-20         138.712259  \n",
       "7  2017-03-22         138.673036  \n",
       "8  2017-03-23         138.182748  \n",
       "9  2017-03-24         149.325422  "
      ]
     },
     "execution_count": 18,
     "metadata": {},
     "output_type": "execute_result"
    }
   ],
   "source": [
    "transactions.head(10)"
   ]
  },
  {
   "cell_type": "raw",
   "id": "2e788d02",
   "metadata": {},
   "source": [
    "Ok - now let's try a simple difference to figure out how many dollars we made (or lost) per trade and sum that up to determine total profit!"
   ]
  },
  {
   "cell_type": "code",
   "execution_count": 19,
   "id": "81b8520e",
   "metadata": {},
   "outputs": [
    {
     "data": {
      "text/plain": [
       "(56.40339746321577, 33.86091030275433, 90.2643077659701)"
      ]
     },
     "execution_count": 19,
     "metadata": {},
     "output_type": "execute_result"
    }
   ],
   "source": [
    "buy_transactions = transactions.loc[transactions.action == 'Buy']\n",
    "short_transactions = transactions.loc[transactions.action == 'Short']\n",
    "\n",
    "buy_profit = (buy_transactions.adj_close_atClose - buy_transactions.adj_close_atOpen).sum()\n",
    "short_profit= -(short_transactions.adj_close_atClose - short_transactions.adj_close_atOpen).sum()\n",
    "\n",
    "buy_profit,short_profit,buy_profit+short_profit"
   ]
  },
  {
   "cell_type": "markdown",
   "id": "2ce4e9f8",
   "metadata": {},
   "source": [
    "Great!  So according to our validation set we made $90 profit (pre-tax).  We could buy/short in higher volumes (ie Buy = 10x buys, Short = 10x shorts) to make this profit larger.\n",
    "\n",
    "However this really isn't enough information to determine whether that is a good idea of feasible.  I would love to loan someone \\\\$100 if they would give me \\\\$190 dollars back.  I would hate to loan someone \\\\$10,000 on the promise that they would pay me \\\\$10,090 back.  The reward just wouldn't be worth the risk.\n",
    "\n",
    "Let's see if we can come up with a better metric."
   ]
  },
  {
   "cell_type": "markdown",
   "id": "c7b6661f",
   "metadata": {},
   "source": [
    "### Percent Return"
   ]
  },
  {
   "cell_type": "markdown",
   "id": "2f3dc2f5",
   "metadata": {},
   "source": [
    "Instead of measuring raw dollars, lets consider how much money (capital) we needed in order to make that $90 profit.  To do this we need to keep track of our money more carefully than just looking at how much we made at the end.  Let's track how much we have invested after each transaction."
   ]
  },
  {
   "cell_type": "code",
   "execution_count": 20,
   "id": "e063c60a",
   "metadata": {},
   "outputs": [
    {
     "data": {
      "text/html": [
       "<div>\n",
       "<style scoped>\n",
       "    .dataframe tbody tr th:only-of-type {\n",
       "        vertical-align: middle;\n",
       "    }\n",
       "\n",
       "    .dataframe tbody tr th {\n",
       "        vertical-align: top;\n",
       "    }\n",
       "\n",
       "    .dataframe thead th {\n",
       "        text-align: right;\n",
       "    }\n",
       "</style>\n",
       "<table border=\"1\" class=\"dataframe\">\n",
       "  <thead>\n",
       "    <tr style=\"text-align: right;\">\n",
       "      <th></th>\n",
       "      <th>open_date</th>\n",
       "      <th>ticker</th>\n",
       "      <th>action</th>\n",
       "      <th>close_date</th>\n",
       "      <th>dte_atOpen</th>\n",
       "      <th>adj_close_atOpen</th>\n",
       "      <th>dte_atClose</th>\n",
       "      <th>adj_close_atClose</th>\n",
       "    </tr>\n",
       "  </thead>\n",
       "  <tbody>\n",
       "    <tr>\n",
       "      <th>0</th>\n",
       "      <td>2017-02-14</td>\n",
       "      <td>A</td>\n",
       "      <td>Buy</td>\n",
       "      <td>2017-03-14</td>\n",
       "      <td>2017-02-14</td>\n",
       "      <td>49.703267</td>\n",
       "      <td>2017-03-14</td>\n",
       "      <td>51.498464</td>\n",
       "    </tr>\n",
       "    <tr>\n",
       "      <th>1</th>\n",
       "      <td>2017-02-14</td>\n",
       "      <td>AAPL</td>\n",
       "      <td>Buy</td>\n",
       "      <td>2017-03-14</td>\n",
       "      <td>2017-02-14</td>\n",
       "      <td>132.397351</td>\n",
       "      <td>2017-03-14</td>\n",
       "      <td>136.290237</td>\n",
       "    </tr>\n",
       "    <tr>\n",
       "      <th>2</th>\n",
       "      <td>2017-02-15</td>\n",
       "      <td>AAPL</td>\n",
       "      <td>Buy</td>\n",
       "      <td>2017-03-15</td>\n",
       "      <td>2017-02-15</td>\n",
       "      <td>132.877833</td>\n",
       "      <td>2017-03-15</td>\n",
       "      <td>137.731683</td>\n",
       "    </tr>\n",
       "    <tr>\n",
       "      <th>3</th>\n",
       "      <td>2017-02-16</td>\n",
       "      <td>A</td>\n",
       "      <td>Buy</td>\n",
       "      <td>2017-03-16</td>\n",
       "      <td>2017-02-16</td>\n",
       "      <td>50.147135</td>\n",
       "      <td>2017-03-16</td>\n",
       "      <td>52.327016</td>\n",
       "    </tr>\n",
       "    <tr>\n",
       "      <th>4</th>\n",
       "      <td>2017-02-16</td>\n",
       "      <td>AAPL</td>\n",
       "      <td>Buy</td>\n",
       "      <td>2017-03-16</td>\n",
       "      <td>2017-02-16</td>\n",
       "      <td>132.716038</td>\n",
       "      <td>2017-03-16</td>\n",
       "      <td>137.957216</td>\n",
       "    </tr>\n",
       "  </tbody>\n",
       "</table>\n",
       "</div>"
      ],
      "text/plain": [
       "   open_date ticker action close_date dte_atOpen  adj_close_atOpen  \\\n",
       "0 2017-02-14      A    Buy 2017-03-14 2017-02-14         49.703267   \n",
       "1 2017-02-14   AAPL    Buy 2017-03-14 2017-02-14        132.397351   \n",
       "2 2017-02-15   AAPL    Buy 2017-03-15 2017-02-15        132.877833   \n",
       "3 2017-02-16      A    Buy 2017-03-16 2017-02-16         50.147135   \n",
       "4 2017-02-16   AAPL    Buy 2017-03-16 2017-02-16        132.716038   \n",
       "\n",
       "  dte_atClose  adj_close_atClose  \n",
       "0  2017-03-14          51.498464  \n",
       "1  2017-03-14         136.290237  \n",
       "2  2017-03-15         137.731683  \n",
       "3  2017-03-16          52.327016  \n",
       "4  2017-03-16         137.957216  "
      ]
     },
     "execution_count": 20,
     "metadata": {},
     "output_type": "execute_result"
    }
   ],
   "source": [
    "transactions.head()"
   ]
  },
  {
   "cell_type": "markdown",
   "id": "a0b14b96",
   "metadata": {},
   "source": [
    "Each row of our transaction table is actually 2 actions.\n",
    "1. Action we take to open a position\n",
    "1. Action we take to close the position\n",
    "\n",
    "Let's change this to be 1 action per row so we can more easily look at things sequentially."
   ]
  },
  {
   "cell_type": "code",
   "execution_count": 21,
   "id": "4fc3ec85",
   "metadata": {},
   "outputs": [],
   "source": [
    "open_trans = transactions[['open_date','ticker','action','adj_close_atOpen']].copy()\n",
    "open_trans['type'] = \"Open\"\n",
    "\n",
    "close_trans = transactions[['close_date','ticker','action','adj_close_atClose']].copy()\n",
    "close_trans['action'] = close_trans['action'].apply(lambda x: \"Sell\" if x==\"Buy\" else \"Return\")\n",
    "close_trans['type'] = \"Close\"\n"
   ]
  },
  {
   "cell_type": "code",
   "execution_count": 22,
   "id": "1cc174e8",
   "metadata": {},
   "outputs": [
    {
     "data": {
      "text/html": [
       "<div>\n",
       "<style scoped>\n",
       "    .dataframe tbody tr th:only-of-type {\n",
       "        vertical-align: middle;\n",
       "    }\n",
       "\n",
       "    .dataframe tbody tr th {\n",
       "        vertical-align: top;\n",
       "    }\n",
       "\n",
       "    .dataframe thead th {\n",
       "        text-align: right;\n",
       "    }\n",
       "</style>\n",
       "<table border=\"1\" class=\"dataframe\">\n",
       "  <thead>\n",
       "    <tr style=\"text-align: right;\">\n",
       "      <th></th>\n",
       "      <th>trans_date</th>\n",
       "      <th>ticker</th>\n",
       "      <th>action</th>\n",
       "      <th>price</th>\n",
       "      <th>type</th>\n",
       "    </tr>\n",
       "  </thead>\n",
       "  <tbody>\n",
       "    <tr>\n",
       "      <th>0</th>\n",
       "      <td>2017-02-14</td>\n",
       "      <td>A</td>\n",
       "      <td>Buy</td>\n",
       "      <td>49.703267</td>\n",
       "      <td>Open</td>\n",
       "    </tr>\n",
       "    <tr>\n",
       "      <th>1</th>\n",
       "      <td>2017-02-14</td>\n",
       "      <td>AAPL</td>\n",
       "      <td>Buy</td>\n",
       "      <td>132.397351</td>\n",
       "      <td>Open</td>\n",
       "    </tr>\n",
       "    <tr>\n",
       "      <th>2</th>\n",
       "      <td>2017-02-15</td>\n",
       "      <td>AAPL</td>\n",
       "      <td>Buy</td>\n",
       "      <td>132.877833</td>\n",
       "      <td>Open</td>\n",
       "    </tr>\n",
       "    <tr>\n",
       "      <th>3</th>\n",
       "      <td>2017-02-16</td>\n",
       "      <td>A</td>\n",
       "      <td>Buy</td>\n",
       "      <td>50.147135</td>\n",
       "      <td>Open</td>\n",
       "    </tr>\n",
       "    <tr>\n",
       "      <th>4</th>\n",
       "      <td>2017-02-16</td>\n",
       "      <td>AAPL</td>\n",
       "      <td>Buy</td>\n",
       "      <td>132.716038</td>\n",
       "      <td>Open</td>\n",
       "    </tr>\n",
       "  </tbody>\n",
       "</table>\n",
       "</div>"
      ],
      "text/plain": [
       "  trans_date ticker action       price  type\n",
       "0 2017-02-14      A    Buy   49.703267  Open\n",
       "1 2017-02-14   AAPL    Buy  132.397351  Open\n",
       "2 2017-02-15   AAPL    Buy  132.877833  Open\n",
       "3 2017-02-16      A    Buy   50.147135  Open\n",
       "4 2017-02-16   AAPL    Buy  132.716038  Open"
      ]
     },
     "execution_count": 22,
     "metadata": {},
     "output_type": "execute_result"
    }
   ],
   "source": [
    "transactions = pd.DataFrame(np.concatenate([open_trans.values,close_trans.values]),\n",
    "                        columns=['trans_date','ticker','action','price','type'])\n",
    "transactions.sort_values('trans_date',inplace=True)\n",
    "transactions.head()"
   ]
  },
  {
   "cell_type": "markdown",
   "id": "25663a85",
   "metadata": {},
   "source": [
    "Great!  So now we can go row by row by execute each action sequentially.  If `type==Open` we are opening a position (spending money), if `type==Close` we are closing the position (making or losing money)."
   ]
  },
  {
   "cell_type": "code",
   "execution_count": 23,
   "id": "78ad9283",
   "metadata": {},
   "outputs": [
    {
     "data": {
      "text/plain": [
       "array(['Buy', 'Short', 'Sell', 'Return'], dtype=object)"
      ]
     },
     "execution_count": 23,
     "metadata": {},
     "output_type": "execute_result"
    }
   ],
   "source": [
    "transactions.action.unique()"
   ]
  },
  {
   "cell_type": "markdown",
   "id": "b91e0bbd",
   "metadata": {},
   "source": [
    "+ I spend $100 to buy a stock.\n",
    "+ I sell that stock for $110\n",
    "\n",
    "I have invested 100, and have revenue of 110, for 10 dollar profit\n",
    "\n",
    "\n",
    "+ I spend 100 to sell a stock\n",
    "+ I reuturn that stock for 110\n",
    "\n",
    "I invested 110, and have revenue of 100 for a net loss of 10\n",
    "\n",
    "+ I spend 100 to sell a stock\n",
    "+ I reuturn that stock for 90\n",
    "\n",
    "I invested 90, and have revenue of 100 for a net profit of 10"
   ]
  },
  {
   "cell_type": "code",
   "execution_count": 24,
   "id": "f1e80443",
   "metadata": {},
   "outputs": [],
   "source": [
    "invested_buy = L(0)\n",
    "revenue_buy = L(0)\n",
    "invested_short = L(0)\n",
    "revenue_short = L(0)\n",
    "\n",
    "for idx,vals in transactions.iterrows():\n",
    "    if (vals.type==\"Open\") and (vals.action==\"Buy\"):\n",
    "        invested_buy.append(invested_buy[-1]+vals.price)\n",
    "        revenue_buy.append(revenue_buy[-1])\n",
    "        invested_short.append(invested_short[-1])\n",
    "        revenue_short.append(revenue_short[-1])\n",
    "\n",
    "    if (vals.type==\"Close\") and (vals.action==\"Sell\"):\n",
    "        revenue_buy.append(revenue_buy[-1]+vals.price)\n",
    "        invested_buy.append(invested_buy[-1])\n",
    "        invested_short.append(invested_short[-1])\n",
    "        revenue_short.append(revenue_short[-1])\n",
    "\n",
    "    if (vals.type==\"Open\") and (vals.action==\"Short\"):\n",
    "        revenue_short.append(revenue_short[-1]+vals.price)\n",
    "        invested_buy.append(invested_buy[-1])\n",
    "        revenue_buy.append(revenue_buy[-1])\n",
    "        invested_short.append(invested_short[-1])\n",
    "\n",
    "    if (vals.type==\"Close\") and (vals.action==\"Return\"):\n",
    "        invested_short.append(invested_short[-1]+vals.price)\n",
    "        invested_buy.append(invested_buy[-1])\n",
    "        revenue_buy.append(revenue_buy[-1])\n",
    "        revenue_short.append(revenue_short[-1])"
   ]
  },
  {
   "cell_type": "code",
   "execution_count": 25,
   "id": "9bf29970",
   "metadata": {},
   "outputs": [],
   "source": [
    "transactions['invested_buy'] = invested_buy[1:]\n",
    "transactions['revenue_buy'] = revenue_buy[1:]\n",
    "transactions['invested_short'] = invested_short[1:]\n",
    "transactions['revenue_short'] = revenue_short[1:]\n",
    "\n",
    "transactions['profit_buy'] = transactions.revenue_buy - transactions.invested_buy\n",
    "transactions['profit_short'] = transactions.revenue_short - transactions.invested_short\n",
    "\n",
    "transactions['ttl_invested'] = transactions.invested_buy + transactions.invested_short\n",
    "transactions['ttl_revenue'] = transactions.revenue_buy + transactions.revenue_short\n",
    "transactions['ttl_profit'] = transactions.profit_buy + transactions.profit_short"
   ]
  },
  {
   "cell_type": "code",
   "execution_count": 26,
   "id": "5f5b3567",
   "metadata": {
    "scrolled": true
   },
   "outputs": [
    {
     "data": {
      "text/plain": [
       "ttl_invested    10808.976839\n",
       "ttl_revenue     10899.241147\n",
       "ttl_profit         90.264308\n",
       "Name: 221, dtype: object"
      ]
     },
     "execution_count": 26,
     "metadata": {},
     "output_type": "execute_result"
    }
   ],
   "source": [
    "transactions.iloc[-1,-3:]"
   ]
  },
  {
   "cell_type": "markdown",
   "id": "c06d2275",
   "metadata": {},
   "source": [
    "So now we can see several interesting things.  First, we can validate that we get the same amount of profit for buy, short, and overall (~\\\\$90) so we know our math did the same thing.\n",
    "\n",
    "Next we can see that in order to make that \\\\$90 of profit we had to invest \\\\$10,808 dollars!  Let's calculate what our `percent return` is."
   ]
  },
  {
   "cell_type": "code",
   "execution_count": 27,
   "id": "3edba52c",
   "metadata": {},
   "outputs": [
    {
     "data": {
      "text/plain": [
       "10899.241146966167"
      ]
     },
     "execution_count": 27,
     "metadata": {},
     "output_type": "execute_result"
    }
   ],
   "source": [
    "transactions.ttl_revenue.iloc[-1]"
   ]
  },
  {
   "cell_type": "code",
   "execution_count": 28,
   "id": "3279a308",
   "metadata": {},
   "outputs": [
    {
     "data": {
      "text/plain": [
       "0.00835086512893754"
      ]
     },
     "execution_count": 28,
     "metadata": {},
     "output_type": "execute_result"
    }
   ],
   "source": [
    "end_values = transactions.iloc[-1,:]\n",
    "(end_values.ttl_revenue - end_values.ttl_invested) / end_values.ttl_invested"
   ]
  },
  {
   "cell_type": "markdown",
   "id": "c349f2ed",
   "metadata": {},
   "source": [
    "Ok, so we see we got 0.8\\% return on our investment.  That's definitely better than 0, but how do we know if that's good enough to use?\n",
    "\n",
    "A good first step is for us to compare to an index.  Let's see how the S&P 500 did in that time to determine if we beat the market."
   ]
  },
  {
   "cell_type": "code",
   "execution_count": 29,
   "id": "a2989a6a",
   "metadata": {},
   "outputs": [
    {
     "name": "stdout",
     "output_type": "stream",
     "text": [
      "Time Range: 2017-02-14 - 2017-06-30\n"
     ]
    }
   ],
   "source": [
    "print(f\"Time Range: {transactions.trans_date.min().date()} - {transactions.trans_date.max().date()}\")"
   ]
  },
  {
   "cell_type": "markdown",
   "id": "133bdb5c",
   "metadata": {},
   "source": [
    "+ On 2/14 the S&P 500 had an ajusted close price of 2,337.58\n",
    "+ On 6/30 the S&P 500 had an ajdusted close price of 2,423.41\n",
    "\n",
    "If we use that to caculate percent return we get:\n",
    "\n",
    "$$\\frac{(2423.41 - 2337.58)}{2337.58} = 3.7\\%$$\n",
    "\n",
    "And compare that to out previous return \n",
    "\n",
    "$$\\frac{3.7}{0.8} = 4.625$$\n",
    "\n",
    "So if we had just invested in the S&P 500 we would have done over 4.5x better!  We may have made a profit, but we could have saved time and taken on less risk while making more money by simply investing the S&P 500.  Our investment strategy isn't looking so good after all!"
   ]
  },
  {
   "cell_type": "markdown",
   "id": "27d4c47b",
   "metadata": {},
   "source": [
    "### Log Return"
   ]
  },
  {
   "cell_type": "markdown",
   "id": "468fb835",
   "metadata": {},
   "source": [
    "## Statistical Tests"
   ]
  },
  {
   "cell_type": "code",
   "execution_count": null,
   "id": "0bf9c3cf",
   "metadata": {},
   "outputs": [],
   "source": []
  }
 ],
 "metadata": {
  "interpreter": {
   "hash": "ae5eb9e86421a898aa80b8b95d8d1755e5e5e15b61c607b39ba0c26ee3dd8ef6"
  },
  "kernelspec": {
   "display_name": "Python 3 (ipykernel)",
   "language": "python",
   "name": "python3"
  },
  "language_info": {
   "codemirror_mode": {
    "name": "ipython",
    "version": 3
   },
   "file_extension": ".py",
   "mimetype": "text/x-python",
   "name": "python",
   "nbconvert_exporter": "python",
   "pygments_lexer": "ipython3",
   "version": "3.9.7"
  },
  "toc": {
   "base_numbering": 1,
   "nav_menu": {},
   "number_sections": true,
   "sideBar": true,
   "skip_h1_title": false,
   "title_cell": "Table of Contents",
   "title_sidebar": "Contents",
   "toc_cell": false,
   "toc_position": {},
   "toc_section_display": true,
   "toc_window_display": false
  }
 },
 "nbformat": 4,
 "nbformat_minor": 5
}
