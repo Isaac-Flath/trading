{
 "cells": [
  {
   "cell_type": "markdown",
   "id": "b78482bf",
   "metadata": {
    "pycharm": {
     "name": "#%% md\n"
    }
   },
   "source": [
    "# Introduction to Testing"
   ]
  },
  {
   "cell_type": "code",
   "execution_count": 1,
   "id": "49aa25b4",
   "metadata": {},
   "outputs": [
    {
     "name": "stdout",
     "output_type": "stream",
     "text": [
      "Note: you may need to restart the kernel to use updated packages.\n"
     ]
    }
   ],
   "source": [
    "pip install -qqr requirements.txt"
   ]
  },
  {
   "cell_type": "code",
   "execution_count": 2,
   "id": "54d6eb11",
   "metadata": {
    "pycharm": {
     "name": "#%%\n"
    }
   },
   "outputs": [],
   "source": [
    "from fastcore.all import *\n",
    "from IPython.display import clear_output\n",
    "import pandas as pd\n",
    "import numpy as np\n",
    "import matplotlib.pyplot as plt\n",
    "from polygon import RESTClient\n",
    "from utils import view_source_code, get_dollars\n",
    "from datetime import datetime, timedelta, date\n",
    "import math, time"
   ]
  },
  {
   "cell_type": "code",
   "execution_count": 3,
   "id": "8354ae65",
   "metadata": {
    "pycharm": {
     "name": "#%%\n"
    }
   },
   "outputs": [],
   "source": [
    "path = Path('../data')"
   ]
  },
  {
   "cell_type": "markdown",
   "id": "30d48c10",
   "metadata": {
    "pycharm": {
     "name": "#%% md\n"
    }
   },
   "source": [
    "## Background\n",
    "\n",
    "In Chapter 1 we created models and created actions we want to take for multiple approaches.  The question now is, how do we know if they are profitable?  How should we measure them?  How do we know if we simply got lucky, or if they are reliable?\n",
    "\n",
    "As we mentioned in chapter 2, testing is the most important part of the process.  If done well you have a good way to determine what strategies should be implemented, and if done poorly you run the risk of implementing non-profitable strategies.  I believe you should strive to never sacrifice testing principles because effective testing is your **only** objective indication to whether you are doing something useful or not.  Without effective testing you are \"flying blind\".\n",
    "\n",
    "This chapter will lay the groundwork and cover the basics of testing.  The goal of this chapter is to introduce concept and the three core things that need to be carefully considered for effective testing.\n",
    "\n",
    "1. What data should you use for testing?\n",
    "1. What metric should you use for testing?\n",
    "1. What test should you use?\n",
    "\n",
    "In this chapter we are going to walk through the concepts to see each step and understand the importance.  In the next chapter we are going apply our knowledge to build a better structured solution and framework that we can use through the remainder of the book."
   ]
  },
  {
   "cell_type": "markdown",
   "id": "a813dd5a",
   "metadata": {
    "pycharm": {
     "name": "#%% md\n"
    }
   },
   "source": [
    "## What data should you use for testing?"
   ]
  },
  {
   "cell_type": "markdown",
   "id": "077f4b8a",
   "metadata": {
    "pycharm": {
     "name": "#%% md\n"
    }
   },
   "source": [
    "The first question we have to ask is what data to we use for testing?  Ideally we have 3 subsets of our data (training, validation, and test).  Let's go through what they are used for and why they are important."
   ]
  },
  {
   "cell_type": "markdown",
   "id": "39b062db",
   "metadata": {
    "pycharm": {
     "name": "#%% md\n"
    }
   },
   "source": [
    "### Training Set"
   ]
  },
  {
   "cell_type": "markdown",
   "id": "957a18b2",
   "metadata": {
    "pycharm": {
     "name": "#%% md\n"
    }
   },
   "source": [
    "The training set is unique because it has no restrictions on what we can do with it.  We can look at any piece of data in it.  We can normalize data using values in the training set.  We can train machine learning models on the training set.  This is often the largest subset of our data.\n",
    "\n",
    "This training set is pretty explanatory - we use this for understanding our data and developing our model.  \n",
    "\n",
    "We can load it in using the same method as we did in chapter 1."
   ]
  },
  {
   "cell_type": "code",
   "execution_count": 4,
   "id": "81377a44",
   "metadata": {
    "pycharm": {
     "name": "#%%\n"
    }
   },
   "outputs": [],
   "source": [
    "raw = pd.read_csv(path/'eod-quotemedia.csv',parse_dates=['date'])\n",
    "df = raw.pivot(index='date', columns='ticker',values='adj_close')\n",
    "train = df.loc[:pd.Timestamp('2017-1-1')]"
   ]
  },
  {
   "cell_type": "markdown",
   "id": "1d6a1355",
   "metadata": {
    "pycharm": {
     "name": "#%% md\n"
    }
   },
   "source": [
    "### Validation Set"
   ]
  },
  {
   "cell_type": "markdown",
   "id": "d100eb23",
   "metadata": {
    "pycharm": {
     "name": "#%% md\n"
    }
   },
   "source": [
    "The goal of creating a trading strategy is to have it perform well on data that it was not developed using.  We may use data from 2015 - 2020 to create a trading strategy, but the goal is to apply it to 2021 and 2022 to make a profit.\n",
    "\n",
    "Because we want our model to perform on *unseen* data, we create some restriction to how we use the validation set.  We do not train any models on it, and we do not use statistics or data from the validation set when creating our model.  It's data our model has never seen.  The validation set is something we can only use to see how well our strategy or model performs.  \n",
    "\n",
    "The entire purpose of the validation set is to give us unseen data to evaluate our approaches on.  By having this separate validation set we can more accurately determine what works and what doesn't.\n",
    "\n",
    "We can get our validation set using the same method as we did in chapter 1."
   ]
  },
  {
   "cell_type": "code",
   "execution_count": 5,
   "id": "e03373cb",
   "metadata": {
    "pycharm": {
     "name": "#%%\n"
    }
   },
   "outputs": [],
   "source": [
    "valid = df.loc[pd.Timestamp('2017-1-1'):]"
   ]
  },
  {
   "cell_type": "markdown",
   "id": "d8d18010",
   "metadata": {
    "pycharm": {
     "name": "#%% md\n"
    }
   },
   "source": [
    "### Test Set\n"
   ]
  },
  {
   "cell_type": "markdown",
   "id": "a992f84c",
   "metadata": {
    "pycharm": {
     "name": "#%% md\n"
    }
   },
   "source": [
    "The Test set is very similar to the validation set, but it takes things a step further.  It has further restrictions in that is is the final model step before deployment.  The main difference is how often you can use it.  For the validation set, you can test anything on the validation set as many times as you want.  For the test set you only get to look at the test set once for your particular approach.\n",
    "\n",
    "For example, you may try 300 different approaches and parameter changes to your strategy to see what works best.  You can check the profitability on each of them using the validation set.  Then once you have chosen a strategy, you do a final check to ensure it also performs on the test set.  Once you have done that you need a new test set or your project is over.\n",
    "\n",
    "The reason this is important is that you want to ensure that you didn't get lucky and find a configuration out of your 300 attempts that just happens to work on the validation set but doesn't work elsewhere.  If you try enough combinations eventually you will find something that works, but the test set gives you confidence that your model works because it's a good strategy and not that you just tried enough things to find something that works on coincidence.\n",
    "\n",
    "\n",
    ":::{note} Many people re-use or have more lax rules on the test set.  Many people do not use one at all.  In this text I am laying out the ideal state I believe we should strive for.  If you choose to loosen these restrictions on the test set or do without one, I would strongly encourage you to think hard about it.\n"
   ]
  },
  {
   "cell_type": "markdown",
   "id": "cc2d1980",
   "metadata": {
    "pycharm": {
     "name": "#%% md\n"
    }
   },
   "source": [
    "To get our test set, we could have split our initial data into 3.  Because we are a bit concerned about survivorship bias, let's pull a new test set that uses recent data to and test how these strategies would perform over the last year and a half."
   ]
  },
  {
   "cell_type": "markdown",
   "id": "c10d5755",
   "metadata": {
    "pycharm": {
     "name": "#%% md\n"
    }
   },
   "source": [
    "We need to get adjusted close price.  There are a variety of services that have APIs to pull from, I have picked polgygon to use here because it's free for what we need.\n",
    "\n",
    ":::{note} We are using a free api key and putting the key in this notebook in an effort to show everthing to the reader, but best practice would be to read the api key from an environment variable.  From the polygon docs it will by default pull the api key from the `POLYGON_API_KEY` environment variable, then you would initiate the client with so that no credentials are exposed.\n",
    "`client = RESTClient()`"
   ]
  },
  {
   "cell_type": "code",
   "execution_count": 6,
   "id": "656d894d",
   "metadata": {
    "pycharm": {
     "name": "#%%\n"
    }
   },
   "outputs": [],
   "source": [
    "polygon_free_api_key = 'wUv2tpS05klv9ebAQKyLD610FBWllpan'\n",
    "client = RESTClient(polygon_free_api_key)"
   ]
  },
  {
   "cell_type": "code",
   "execution_count": 7,
   "id": "bbeedcba",
   "metadata": {
    "pycharm": {
     "name": "#%%\n"
    }
   },
   "outputs": [],
   "source": [
    "if not (path/'polytest_eod-quotemedia.csv').exists():\n",
    "    dfs = L()\n",
    "    errors = L()\n",
    "    for ticker in valid:\n",
    "        try:\n",
    "            aggs = client.get_aggs(ticker, 1, \"day\", \"2021-01-01\", \"2022-05-31\",adjusted=True)\n",
    "            close = {ticker:[o.close for o in aggs]}\n",
    "            \n",
    "            # Convert millisecond time stamp to date\n",
    "            date = L(o.timestamp/1e3 for o in aggs).map(datetime.fromtimestamp)\n",
    "            dfs.append(pd.DataFrame(close,index=date))\n",
    "        except:\n",
    "            errors.append(aggs)\n",
    "            print(f\"FAILURE: {ticker}\")\n",
    "        \n",
    "        # Free api gives 5 API calls / minute - so we need to pace our api calls!\n",
    "        time.sleep(60/5)\n",
    "    df_test = pd.concat(dfs,axis=1)\n",
    "    df_test.to_csv(path/'polytest_eod-quotemedia.csv')\n",
    "\n",
    "df_test = pd.read_csv(path/'polytest_eod-quotemedia.csv',index_col=0,parse_dates=True)"
   ]
  },
  {
   "cell_type": "code",
   "execution_count": 8,
   "id": "ab7f0d89",
   "metadata": {
    "pycharm": {
     "name": "#%%\n"
    }
   },
   "outputs": [
    {
     "data": {
      "text/html": [
       "<div>\n",
       "<style scoped>\n",
       "    .dataframe tbody tr th:only-of-type {\n",
       "        vertical-align: middle;\n",
       "    }\n",
       "\n",
       "    .dataframe tbody tr th {\n",
       "        vertical-align: top;\n",
       "    }\n",
       "\n",
       "    .dataframe thead th {\n",
       "        text-align: right;\n",
       "    }\n",
       "</style>\n",
       "<table border=\"1\" class=\"dataframe\">\n",
       "  <thead>\n",
       "    <tr style=\"text-align: right;\">\n",
       "      <th></th>\n",
       "      <th>A</th>\n",
       "      <th>AAL</th>\n",
       "      <th>AAP</th>\n",
       "      <th>AAPL</th>\n",
       "      <th>ABBV</th>\n",
       "    </tr>\n",
       "  </thead>\n",
       "  <tbody>\n",
       "    <tr>\n",
       "      <th>2021-01-04</th>\n",
       "      <td>118.64</td>\n",
       "      <td>15.13</td>\n",
       "      <td>157.34</td>\n",
       "      <td>129.41</td>\n",
       "      <td>105.41</td>\n",
       "    </tr>\n",
       "    <tr>\n",
       "      <th>2021-01-05</th>\n",
       "      <td>119.61</td>\n",
       "      <td>15.43</td>\n",
       "      <td>157.17</td>\n",
       "      <td>131.01</td>\n",
       "      <td>106.50</td>\n",
       "    </tr>\n",
       "    <tr>\n",
       "      <th>2021-01-06</th>\n",
       "      <td>122.89</td>\n",
       "      <td>15.52</td>\n",
       "      <td>166.25</td>\n",
       "      <td>126.60</td>\n",
       "      <td>105.58</td>\n",
       "    </tr>\n",
       "    <tr>\n",
       "      <th>2021-01-07</th>\n",
       "      <td>126.16</td>\n",
       "      <td>15.38</td>\n",
       "      <td>167.67</td>\n",
       "      <td>130.92</td>\n",
       "      <td>106.71</td>\n",
       "    </tr>\n",
       "    <tr>\n",
       "      <th>2021-01-08</th>\n",
       "      <td>127.06</td>\n",
       "      <td>15.13</td>\n",
       "      <td>170.06</td>\n",
       "      <td>132.05</td>\n",
       "      <td>107.27</td>\n",
       "    </tr>\n",
       "  </tbody>\n",
       "</table>\n",
       "</div>"
      ],
      "text/plain": [
       "                 A    AAL     AAP    AAPL    ABBV\n",
       "2021-01-04  118.64  15.13  157.34  129.41  105.41\n",
       "2021-01-05  119.61  15.43  157.17  131.01  106.50\n",
       "2021-01-06  122.89  15.52  166.25  126.60  105.58\n",
       "2021-01-07  126.16  15.38  167.67  130.92  106.71\n",
       "2021-01-08  127.06  15.13  170.06  132.05  107.27"
      ]
     },
     "execution_count": 8,
     "metadata": {},
     "output_type": "execute_result"
    }
   ],
   "source": [
    "df_test.iloc[:5,:5]"
   ]
  },
  {
   "cell_type": "code",
   "execution_count": null,
   "id": "a03a7343",
   "metadata": {
    "pycharm": {
     "name": "#%%\n"
    }
   },
   "outputs": [],
   "source": []
  },
  {
   "cell_type": "markdown",
   "id": "a14bc8d4",
   "metadata": {
    "pycharm": {
     "name": "#%% md\n"
    }
   },
   "source": [
    "## What metric should you use for testing?\n",
    "\n",
    "Now that we understand what data we will use for testing, let's start figuring out how well our first model from chapter 1 performs.\n",
    "\n",
    "The next step is to figure out an appropriate metric.  There are a variety of ways to measure this and we will walk through a few first steps in this section"
   ]
  },
  {
   "cell_type": "markdown",
   "id": "dfc3f38d",
   "metadata": {
    "pycharm": {
     "name": "#%% md\n"
    }
   },
   "source": [
    "### Dollars"
   ]
  },
  {
   "cell_type": "markdown",
   "id": "d63b8202",
   "metadata": {
    "pycharm": {
     "name": "#%% md\n"
    }
   },
   "source": [
    "Let's take our first model from chapter 1 and measure how well it does in terms of dollars.  After all dollars is what we want to make, so it seems like a reasonable starting point."
   ]
  },
  {
   "cell_type": "code",
   "execution_count": 9,
   "id": "93e3c15e",
   "metadata": {
    "pycharm": {
     "name": "#%%\n"
    }
   },
   "outputs": [],
   "source": [
    "from SimpleTimeSeries import get_momentum_actions"
   ]
  },
  {
   "cell_type": "code",
   "execution_count": 10,
   "id": "a461fbb8",
   "metadata": {},
   "outputs": [
    {
     "data": {
      "text/html": [
       "<!DOCTYPE html PUBLIC \"-//W3C//DTD HTML 4.01//EN\"\n",
       "   \"http://www.w3.org/TR/html4/strict.dtd\">\n",
       "<!--\n",
       "generated by Pygments <https://pygments.org/>\n",
       "Copyright 2006-2022 by the Pygments team.\n",
       "Licensed under the BSD license, see LICENSE for details.\n",
       "-->\n",
       "<html>\n",
       "<head>\n",
       "  <title></title>\n",
       "  <meta http-equiv=\"content-type\" content=\"text/html; charset=utf-8\">\n",
       "  <style type=\"text/css\">\n",
       "/*\n",
       "generated by Pygments <https://pygments.org/>\n",
       "Copyright 2006-2022 by the Pygments team.\n",
       "Licensed under the BSD license, see LICENSE for details.\n",
       "*/\n",
       "pre { line-height: 125%; }\n",
       "td.linenos .normal { color: inherit; background-color: transparent; padding-left: 5px; padding-right: 5px; }\n",
       "span.linenos { color: inherit; background-color: transparent; padding-left: 5px; padding-right: 5px; }\n",
       "td.linenos .special { color: #000000; background-color: #ffffc0; padding-left: 5px; padding-right: 5px; }\n",
       "span.linenos.special { color: #000000; background-color: #ffffc0; padding-left: 5px; padding-right: 5px; }\n",
       "body .hll { background-color: #ffffcc }\n",
       "body { background: #f8f8f8; }\n",
       "body .c { color: #008800; font-style: italic } /* Comment */\n",
       "body .err { border: 1px solid #FF0000 } /* Error */\n",
       "body .k { color: #AA22FF; font-weight: bold } /* Keyword */\n",
       "body .o { color: #666666 } /* Operator */\n",
       "body .ch { color: #008800; font-style: italic } /* Comment.Hashbang */\n",
       "body .cm { color: #008800; font-style: italic } /* Comment.Multiline */\n",
       "body .cp { color: #008800 } /* Comment.Preproc */\n",
       "body .cpf { color: #008800; font-style: italic } /* Comment.PreprocFile */\n",
       "body .c1 { color: #008800; font-style: italic } /* Comment.Single */\n",
       "body .cs { color: #008800; font-weight: bold } /* Comment.Special */\n",
       "body .gd { color: #A00000 } /* Generic.Deleted */\n",
       "body .ge { font-style: italic } /* Generic.Emph */\n",
       "body .gr { color: #FF0000 } /* Generic.Error */\n",
       "body .gh { color: #000080; font-weight: bold } /* Generic.Heading */\n",
       "body .gi { color: #00A000 } /* Generic.Inserted */\n",
       "body .go { color: #888888 } /* Generic.Output */\n",
       "body .gp { color: #000080; font-weight: bold } /* Generic.Prompt */\n",
       "body .gs { font-weight: bold } /* Generic.Strong */\n",
       "body .gu { color: #800080; font-weight: bold } /* Generic.Subheading */\n",
       "body .gt { color: #0044DD } /* Generic.Traceback */\n",
       "body .kc { color: #AA22FF; font-weight: bold } /* Keyword.Constant */\n",
       "body .kd { color: #AA22FF; font-weight: bold } /* Keyword.Declaration */\n",
       "body .kn { color: #AA22FF; font-weight: bold } /* Keyword.Namespace */\n",
       "body .kp { color: #AA22FF } /* Keyword.Pseudo */\n",
       "body .kr { color: #AA22FF; font-weight: bold } /* Keyword.Reserved */\n",
       "body .kt { color: #00BB00; font-weight: bold } /* Keyword.Type */\n",
       "body .m { color: #666666 } /* Literal.Number */\n",
       "body .s { color: #BB4444 } /* Literal.String */\n",
       "body .na { color: #BB4444 } /* Name.Attribute */\n",
       "body .nb { color: #AA22FF } /* Name.Builtin */\n",
       "body .nc { color: #0000FF } /* Name.Class */\n",
       "body .no { color: #880000 } /* Name.Constant */\n",
       "body .nd { color: #AA22FF } /* Name.Decorator */\n",
       "body .ni { color: #999999; font-weight: bold } /* Name.Entity */\n",
       "body .ne { color: #D2413A; font-weight: bold } /* Name.Exception */\n",
       "body .nf { color: #00A000 } /* Name.Function */\n",
       "body .nl { color: #A0A000 } /* Name.Label */\n",
       "body .nn { color: #0000FF; font-weight: bold } /* Name.Namespace */\n",
       "body .nt { color: #008000; font-weight: bold } /* Name.Tag */\n",
       "body .nv { color: #B8860B } /* Name.Variable */\n",
       "body .ow { color: #AA22FF; font-weight: bold } /* Operator.Word */\n",
       "body .w { color: #bbbbbb } /* Text.Whitespace */\n",
       "body .mb { color: #666666 } /* Literal.Number.Bin */\n",
       "body .mf { color: #666666 } /* Literal.Number.Float */\n",
       "body .mh { color: #666666 } /* Literal.Number.Hex */\n",
       "body .mi { color: #666666 } /* Literal.Number.Integer */\n",
       "body .mo { color: #666666 } /* Literal.Number.Oct */\n",
       "body .sa { color: #BB4444 } /* Literal.String.Affix */\n",
       "body .sb { color: #BB4444 } /* Literal.String.Backtick */\n",
       "body .sc { color: #BB4444 } /* Literal.String.Char */\n",
       "body .dl { color: #BB4444 } /* Literal.String.Delimiter */\n",
       "body .sd { color: #BB4444; font-style: italic } /* Literal.String.Doc */\n",
       "body .s2 { color: #BB4444 } /* Literal.String.Double */\n",
       "body .se { color: #BB6622; font-weight: bold } /* Literal.String.Escape */\n",
       "body .sh { color: #BB4444 } /* Literal.String.Heredoc */\n",
       "body .si { color: #BB6688; font-weight: bold } /* Literal.String.Interpol */\n",
       "body .sx { color: #008000 } /* Literal.String.Other */\n",
       "body .sr { color: #BB6688 } /* Literal.String.Regex */\n",
       "body .s1 { color: #BB4444 } /* Literal.String.Single */\n",
       "body .ss { color: #B8860B } /* Literal.String.Symbol */\n",
       "body .bp { color: #AA22FF } /* Name.Builtin.Pseudo */\n",
       "body .fm { color: #00A000 } /* Name.Function.Magic */\n",
       "body .vc { color: #B8860B } /* Name.Variable.Class */\n",
       "body .vg { color: #B8860B } /* Name.Variable.Global */\n",
       "body .vi { color: #B8860B } /* Name.Variable.Instance */\n",
       "body .vm { color: #B8860B } /* Name.Variable.Magic */\n",
       "body .il { color: #666666 } /* Literal.Number.Integer.Long */\n",
       "\n",
       "  </style>\n",
       "</head>\n",
       "<body>\n",
       "<h2></h2>\n",
       "\n",
       "<div class=\"highlight\"><pre><span></span><span class=\"k\">def</span> <span class=\"nf\">get_momentum_actions</span><span class=\"p\">(</span><span class=\"n\">df</span><span class=\"p\">,</span> <span class=\"n\">n_periods</span><span class=\"p\">,</span><span class=\"n\">threshold</span><span class=\"p\">):</span>\n",
       "    <span class=\"n\">_x</span> <span class=\"o\">=</span> <span class=\"n\">df</span><span class=\"o\">.</span><span class=\"n\">shift</span><span class=\"p\">(</span><span class=\"n\">n_periods</span><span class=\"p\">)</span>\n",
       "    \n",
       "    <span class=\"c1\"># Calculate percent change</span>\n",
       "    <span class=\"n\">momentum_rate</span> <span class=\"o\">=</span> <span class=\"n\">df</span><span class=\"o\">.</span><span class=\"n\">apply</span><span class=\"p\">(</span><span class=\"k\">lambda</span> <span class=\"n\">x</span><span class=\"p\">:</span> <span class=\"p\">(</span><span class=\"n\">x</span><span class=\"o\">-</span><span class=\"n\">x</span><span class=\"o\">.</span><span class=\"n\">shift</span><span class=\"p\">(</span><span class=\"n\">n_periods</span><span class=\"p\">))</span><span class=\"o\">/</span><span class=\"n\">x</span><span class=\"o\">.</span><span class=\"n\">shift</span><span class=\"p\">(</span><span class=\"n\">n_periods</span><span class=\"p\">))[</span><span class=\"n\">n_periods</span><span class=\"p\">:]</span>\n",
       "\n",
       "    <span class=\"c1\"># Select Action Based on Threshold</span>\n",
       "    <span class=\"n\">actions</span> <span class=\"o\">=</span> <span class=\"n\">pd</span><span class=\"o\">.</span><span class=\"n\">DataFrame</span><span class=\"p\">(</span><span class=\"n\">np</span><span class=\"o\">.</span><span class=\"n\">where</span><span class=\"p\">(</span><span class=\"n\">momentum_rate</span> <span class=\"o\">&lt;</span> <span class=\"o\">-</span><span class=\"n\">threshold</span><span class=\"p\">,</span> <span class=\"s1\">&#39;Short&#39;</span><span class=\"p\">,</span>\n",
       "                           <span class=\"n\">np</span><span class=\"o\">.</span><span class=\"n\">where</span><span class=\"p\">(</span><span class=\"n\">momentum_rate</span> <span class=\"o\">&gt;</span> <span class=\"n\">threshold</span><span class=\"p\">,</span>  <span class=\"s1\">&#39;Buy&#39;</span><span class=\"p\">,</span>\n",
       "                                                                 <span class=\"s1\">&#39;&#39;</span><span class=\"p\">)),</span>\n",
       "                   <span class=\"n\">columns</span><span class=\"o\">=</span><span class=\"n\">momentum_rate</span><span class=\"o\">.</span><span class=\"n\">columns</span><span class=\"p\">,</span><span class=\"n\">index</span><span class=\"o\">=</span><span class=\"n\">momentum_rate</span><span class=\"o\">.</span><span class=\"n\">index</span><span class=\"p\">)</span>\n",
       "    \n",
       "    <span class=\"c1\"># Because we use close price, we can&#39;t make the trade action until the following day</span>\n",
       "    <span class=\"n\">actions</span><span class=\"o\">.</span><span class=\"n\">index</span> <span class=\"o\">=</span> <span class=\"n\">actions</span><span class=\"o\">.</span><span class=\"n\">index</span> <span class=\"o\">+</span> <span class=\"n\">timedelta</span><span class=\"p\">(</span><span class=\"mi\">1</span><span class=\"p\">)</span>\n",
       "    \n",
       "    <span class=\"k\">return</span> <span class=\"n\">actions</span>\n",
       "</pre></div>\n",
       "</body>\n",
       "</html>\n"
      ],
      "text/plain": [
       "<IPython.core.display.HTML object>"
      ]
     },
     "metadata": {},
     "output_type": "display_data"
    }
   ],
   "source": [
    "view_source_code(get_momentum_actions)"
   ]
  },
  {
   "cell_type": "code",
   "execution_count": 11,
   "id": "011300ec",
   "metadata": {},
   "outputs": [],
   "source": [
    "valid_mom = get_momentum_actions(valid,28,0.08).reset_index()"
   ]
  },
  {
   "cell_type": "code",
   "execution_count": 12,
   "id": "6675aea3",
   "metadata": {},
   "outputs": [],
   "source": [
    "transactions = pd.melt(valid_mom,id_vars='date',value_name='action')\n",
    "transactions = transactions.loc[transactions.action != '']\n",
    "transactions.columns = ['open_date'] + L(*transactions.columns[1:])"
   ]
  },
  {
   "cell_type": "code",
   "execution_count": 13,
   "id": "f7dbe4a5",
   "metadata": {},
   "outputs": [
    {
     "data": {
      "text/html": [
       "<div>\n",
       "<style scoped>\n",
       "    .dataframe tbody tr th:only-of-type {\n",
       "        vertical-align: middle;\n",
       "    }\n",
       "\n",
       "    .dataframe tbody tr th {\n",
       "        vertical-align: top;\n",
       "    }\n",
       "\n",
       "    .dataframe thead th {\n",
       "        text-align: right;\n",
       "    }\n",
       "</style>\n",
       "<table border=\"1\" class=\"dataframe\">\n",
       "  <thead>\n",
       "    <tr style=\"text-align: right;\">\n",
       "      <th></th>\n",
       "      <th>open_date</th>\n",
       "      <th>ticker</th>\n",
       "      <th>action</th>\n",
       "    </tr>\n",
       "  </thead>\n",
       "  <tbody>\n",
       "    <tr>\n",
       "      <th>0</th>\n",
       "      <td>2017-02-14</td>\n",
       "      <td>A</td>\n",
       "      <td>Buy</td>\n",
       "    </tr>\n",
       "    <tr>\n",
       "      <th>2</th>\n",
       "      <td>2017-02-16</td>\n",
       "      <td>A</td>\n",
       "      <td>Buy</td>\n",
       "    </tr>\n",
       "    <tr>\n",
       "      <th>11</th>\n",
       "      <td>2017-03-02</td>\n",
       "      <td>A</td>\n",
       "      <td>Buy</td>\n",
       "    </tr>\n",
       "    <tr>\n",
       "      <th>13</th>\n",
       "      <td>2017-03-04</td>\n",
       "      <td>A</td>\n",
       "      <td>Buy</td>\n",
       "    </tr>\n",
       "    <tr>\n",
       "      <th>14</th>\n",
       "      <td>2017-03-07</td>\n",
       "      <td>A</td>\n",
       "      <td>Buy</td>\n",
       "    </tr>\n",
       "  </tbody>\n",
       "</table>\n",
       "</div>"
      ],
      "text/plain": [
       "    open_date ticker action\n",
       "0  2017-02-14      A    Buy\n",
       "2  2017-02-16      A    Buy\n",
       "11 2017-03-02      A    Buy\n",
       "13 2017-03-04      A    Buy\n",
       "14 2017-03-07      A    Buy"
      ]
     },
     "execution_count": 13,
     "metadata": {},
     "output_type": "execute_result"
    }
   ],
   "source": [
    "transactions.head()"
   ]
  },
  {
   "cell_type": "markdown",
   "id": "f7eb51e3",
   "metadata": {
    "pycharm": {
     "name": "#%% md\n"
    }
   },
   "source": [
    "Now we have a dataframe with all the positions we are going to take and when to take them.  But we are missing one crucial piece!  When should we close those positions.  We cannot make money by simplying buying a stock (ignoring dividends for now) - the profit comes when we actually close the position and sell the stock.  Let's close the position 28 days after opening."
   ]
  },
  {
   "cell_type": "code",
   "execution_count": 14,
   "id": "19588cdf",
   "metadata": {
    "pycharm": {
     "name": "#%%\n"
    }
   },
   "outputs": [],
   "source": [
    "transactions['close_date'] = transactions.open_date + timedelta(28)\n",
    "transactions = transactions.loc[transactions.open_date < (transactions.open_date.max() - timedelta(28))]"
   ]
  },
  {
   "cell_type": "code",
   "execution_count": 15,
   "id": "d5f46ab9",
   "metadata": {},
   "outputs": [
    {
     "data": {
      "text/html": [
       "<div>\n",
       "<style scoped>\n",
       "    .dataframe tbody tr th:only-of-type {\n",
       "        vertical-align: middle;\n",
       "    }\n",
       "\n",
       "    .dataframe tbody tr th {\n",
       "        vertical-align: top;\n",
       "    }\n",
       "\n",
       "    .dataframe thead th {\n",
       "        text-align: right;\n",
       "    }\n",
       "</style>\n",
       "<table border=\"1\" class=\"dataframe\">\n",
       "  <thead>\n",
       "    <tr style=\"text-align: right;\">\n",
       "      <th></th>\n",
       "      <th>open_date</th>\n",
       "      <th>ticker</th>\n",
       "      <th>action</th>\n",
       "      <th>close_date</th>\n",
       "    </tr>\n",
       "  </thead>\n",
       "  <tbody>\n",
       "    <tr>\n",
       "      <th>0</th>\n",
       "      <td>2017-02-14</td>\n",
       "      <td>A</td>\n",
       "      <td>Buy</td>\n",
       "      <td>2017-03-14</td>\n",
       "    </tr>\n",
       "    <tr>\n",
       "      <th>2</th>\n",
       "      <td>2017-02-16</td>\n",
       "      <td>A</td>\n",
       "      <td>Buy</td>\n",
       "      <td>2017-03-16</td>\n",
       "    </tr>\n",
       "    <tr>\n",
       "      <th>11</th>\n",
       "      <td>2017-03-02</td>\n",
       "      <td>A</td>\n",
       "      <td>Buy</td>\n",
       "      <td>2017-03-30</td>\n",
       "    </tr>\n",
       "    <tr>\n",
       "      <th>13</th>\n",
       "      <td>2017-03-04</td>\n",
       "      <td>A</td>\n",
       "      <td>Buy</td>\n",
       "      <td>2017-04-01</td>\n",
       "    </tr>\n",
       "    <tr>\n",
       "      <th>14</th>\n",
       "      <td>2017-03-07</td>\n",
       "      <td>A</td>\n",
       "      <td>Buy</td>\n",
       "      <td>2017-04-04</td>\n",
       "    </tr>\n",
       "  </tbody>\n",
       "</table>\n",
       "</div>"
      ],
      "text/plain": [
       "    open_date ticker action close_date\n",
       "0  2017-02-14      A    Buy 2017-03-14\n",
       "2  2017-02-16      A    Buy 2017-03-16\n",
       "11 2017-03-02      A    Buy 2017-03-30\n",
       "13 2017-03-04      A    Buy 2017-04-01\n",
       "14 2017-03-07      A    Buy 2017-04-04"
      ]
     },
     "execution_count": 15,
     "metadata": {},
     "output_type": "execute_result"
    }
   ],
   "source": [
    "transactions.head()"
   ]
  },
  {
   "cell_type": "markdown",
   "id": "7172309c",
   "metadata": {
    "pycharm": {
     "name": "#%% md\n"
    }
   },
   "source": [
    "Next we need to get the stock price on the date of our initial action when we open to position, as well as when we close our position.  Let's start with the price on the day we open."
   ]
  },
  {
   "cell_type": "code",
   "execution_count": 16,
   "id": "446930bf",
   "metadata": {
    "pycharm": {
     "name": "#%%\n"
    }
   },
   "outputs": [],
   "source": [
    "df_valid_long = valid.melt(var_name='ticker',value_name='adj_close',ignore_index=False).reset_index()\n",
    "df_valid_long.columns = ['dte','ticker','adj_close']"
   ]
  },
  {
   "cell_type": "code",
   "execution_count": 17,
   "id": "4f6a916c",
   "metadata": {
    "pycharm": {
     "name": "#%%\n"
    },
    "scrolled": true
   },
   "outputs": [
    {
     "data": {
      "text/html": [
       "<div>\n",
       "<style scoped>\n",
       "    .dataframe tbody tr th:only-of-type {\n",
       "        vertical-align: middle;\n",
       "    }\n",
       "\n",
       "    .dataframe tbody tr th {\n",
       "        vertical-align: top;\n",
       "    }\n",
       "\n",
       "    .dataframe thead th {\n",
       "        text-align: right;\n",
       "    }\n",
       "</style>\n",
       "<table border=\"1\" class=\"dataframe\">\n",
       "  <thead>\n",
       "    <tr style=\"text-align: right;\">\n",
       "      <th></th>\n",
       "      <th>open_date</th>\n",
       "      <th>ticker</th>\n",
       "      <th>action</th>\n",
       "      <th>close_date</th>\n",
       "      <th>dte</th>\n",
       "      <th>adj_close</th>\n",
       "    </tr>\n",
       "  </thead>\n",
       "  <tbody>\n",
       "    <tr>\n",
       "      <th>0</th>\n",
       "      <td>2017-02-14</td>\n",
       "      <td>A</td>\n",
       "      <td>Buy</td>\n",
       "      <td>2017-03-14</td>\n",
       "      <td>2017-02-14</td>\n",
       "      <td>49.703267</td>\n",
       "    </tr>\n",
       "    <tr>\n",
       "      <th>1</th>\n",
       "      <td>2017-02-16</td>\n",
       "      <td>A</td>\n",
       "      <td>Buy</td>\n",
       "      <td>2017-03-16</td>\n",
       "      <td>2017-02-16</td>\n",
       "      <td>50.147135</td>\n",
       "    </tr>\n",
       "    <tr>\n",
       "      <th>2</th>\n",
       "      <td>2017-03-02</td>\n",
       "      <td>A</td>\n",
       "      <td>Buy</td>\n",
       "      <td>2017-03-30</td>\n",
       "      <td>2017-03-02</td>\n",
       "      <td>50.679775</td>\n",
       "    </tr>\n",
       "    <tr>\n",
       "      <th>3</th>\n",
       "      <td>2017-03-04</td>\n",
       "      <td>A</td>\n",
       "      <td>Buy</td>\n",
       "      <td>2017-04-01</td>\n",
       "      <td>NaT</td>\n",
       "      <td>NaN</td>\n",
       "    </tr>\n",
       "    <tr>\n",
       "      <th>4</th>\n",
       "      <td>2017-03-07</td>\n",
       "      <td>A</td>\n",
       "      <td>Buy</td>\n",
       "      <td>2017-04-04</td>\n",
       "      <td>2017-03-07</td>\n",
       "      <td>50.512092</td>\n",
       "    </tr>\n",
       "    <tr>\n",
       "      <th>5</th>\n",
       "      <td>2017-03-11</td>\n",
       "      <td>A</td>\n",
       "      <td>Buy</td>\n",
       "      <td>2017-04-08</td>\n",
       "      <td>NaT</td>\n",
       "      <td>NaN</td>\n",
       "    </tr>\n",
       "    <tr>\n",
       "      <th>6</th>\n",
       "      <td>2017-03-16</td>\n",
       "      <td>A</td>\n",
       "      <td>Buy</td>\n",
       "      <td>2017-04-13</td>\n",
       "      <td>2017-03-16</td>\n",
       "      <td>52.327016</td>\n",
       "    </tr>\n",
       "    <tr>\n",
       "      <th>7</th>\n",
       "      <td>2017-03-18</td>\n",
       "      <td>A</td>\n",
       "      <td>Buy</td>\n",
       "      <td>2017-04-15</td>\n",
       "      <td>NaT</td>\n",
       "      <td>NaN</td>\n",
       "    </tr>\n",
       "    <tr>\n",
       "      <th>8</th>\n",
       "      <td>2017-05-24</td>\n",
       "      <td>A</td>\n",
       "      <td>Buy</td>\n",
       "      <td>2017-06-21</td>\n",
       "      <td>2017-05-24</td>\n",
       "      <td>58.568656</td>\n",
       "    </tr>\n",
       "    <tr>\n",
       "      <th>9</th>\n",
       "      <td>2017-05-25</td>\n",
       "      <td>A</td>\n",
       "      <td>Buy</td>\n",
       "      <td>2017-06-22</td>\n",
       "      <td>2017-05-25</td>\n",
       "      <td>58.637875</td>\n",
       "    </tr>\n",
       "  </tbody>\n",
       "</table>\n",
       "</div>"
      ],
      "text/plain": [
       "   open_date ticker action close_date        dte  adj_close\n",
       "0 2017-02-14      A    Buy 2017-03-14 2017-02-14  49.703267\n",
       "1 2017-02-16      A    Buy 2017-03-16 2017-02-16  50.147135\n",
       "2 2017-03-02      A    Buy 2017-03-30 2017-03-02  50.679775\n",
       "3 2017-03-04      A    Buy 2017-04-01        NaT        NaN\n",
       "4 2017-03-07      A    Buy 2017-04-04 2017-03-07  50.512092\n",
       "5 2017-03-11      A    Buy 2017-04-08        NaT        NaN\n",
       "6 2017-03-16      A    Buy 2017-04-13 2017-03-16  52.327016\n",
       "7 2017-03-18      A    Buy 2017-04-15        NaT        NaN\n",
       "8 2017-05-24      A    Buy 2017-06-21 2017-05-24  58.568656\n",
       "9 2017-05-25      A    Buy 2017-06-22 2017-05-25  58.637875"
      ]
     },
     "execution_count": 17,
     "metadata": {},
     "output_type": "execute_result"
    }
   ],
   "source": [
    "transactions['open_date'] = pd.to_datetime(transactions.open_date)\n",
    "df_valid_long['dte']      = pd.to_datetime(df_valid_long.dte)\n",
    "pd.merge(left=transactions,left_on=['open_date','ticker'],\n",
    "         right=df_valid_long,right_on=['dte','ticker'],\n",
    "         how='left').head(10)"
   ]
  },
  {
   "cell_type": "markdown",
   "id": "cea0ea42",
   "metadata": {
    "pycharm": {
     "name": "#%% md\n"
    }
   },
   "source": [
    "Uh oh - We have a join that isn't working correctly and get `NaT` and `NaN`!  We created our model assuming that we could make transactions any day we want, but the stock market is not open every day.  There are limitations to when we can trade openly in the stock market we need to start accounting for.  \n",
    "\n",
    "When we trade using the adjusted close price we added a day because we wouldn't be able to actually place the trade until the following day.  If that day ended up being a Saturday in reality we would have to wait until Monday to place that trade (assuming that monday isn't a holiday).  \n",
    "\n",
    "Let's fix that by getting the next available trading day for each date.  Because we know this same thing applies to our `close_date`, we will fix it there as well."
   ]
  },
  {
   "cell_type": "code",
   "execution_count": 18,
   "id": "c0c1a656",
   "metadata": {
    "pycharm": {
     "name": "#%%\n"
    }
   },
   "outputs": [],
   "source": [
    "unique_dates = L(o.date() for o in valid.index)\n",
    "unique_dates.sort()"
   ]
  },
  {
   "cell_type": "code",
   "execution_count": 19,
   "id": "14a4b0d3",
   "metadata": {
    "pycharm": {
     "name": "#%%\n"
    }
   },
   "outputs": [],
   "source": [
    "def get_next_trading_day(dte,unique_dates):\n",
    "    return unique_dates.filter(lambda x: pd.Timestamp(x) >= pd.Timestamp(dte))[0]"
   ]
  },
  {
   "cell_type": "code",
   "execution_count": 20,
   "id": "c6db36bc",
   "metadata": {
    "pycharm": {
     "name": "#%%\n"
    }
   },
   "outputs": [],
   "source": [
    "f = bind(get_next_trading_day,unique_dates=unique_dates)\n",
    "transactions['open_date'] = transactions.open_date.apply(f)\n",
    "transactions['close_date'] = transactions.close_date.apply(f)"
   ]
  },
  {
   "cell_type": "code",
   "execution_count": 21,
   "id": "490f21c9",
   "metadata": {
    "pycharm": {
     "name": "#%%\n"
    }
   },
   "outputs": [],
   "source": [
    "transactions['open_date'] = pd.to_datetime(transactions.open_date)\n",
    "transactions['close_date'] = pd.to_datetime(transactions.close_date)\n"
   ]
  },
  {
   "cell_type": "code",
   "execution_count": null,
   "id": "b0578359",
   "metadata": {},
   "outputs": [],
   "source": []
  },
  {
   "cell_type": "markdown",
   "id": "396321ed",
   "metadata": {
    "pycharm": {
     "name": "#%% md\n"
    }
   },
   "source": [
    "Now we can merge in the price correctly!"
   ]
  },
  {
   "cell_type": "code",
   "execution_count": 22,
   "id": "f70a6faf",
   "metadata": {
    "pycharm": {
     "name": "#%%\n"
    }
   },
   "outputs": [],
   "source": [
    "transactions = pd.merge(left=transactions,left_on=['open_date','ticker'],\n",
    "                         right=df_valid_long,right_on=['dte','ticker'],\n",
    "                          how='left')\n",
    "transactions = pd.merge(left=transactions,left_on=['close_date','ticker'],\n",
    "                         right=df_valid_long,right_on=['dte','ticker'],\n",
    "                          how='left',\n",
    "                          suffixes=('_atOpen','_atClose'))"
   ]
  },
  {
   "cell_type": "code",
   "execution_count": 23,
   "id": "afdb5109",
   "metadata": {
    "pycharm": {
     "name": "#%%\n"
    }
   },
   "outputs": [
    {
     "data": {
      "text/html": [
       "<div>\n",
       "<style scoped>\n",
       "    .dataframe tbody tr th:only-of-type {\n",
       "        vertical-align: middle;\n",
       "    }\n",
       "\n",
       "    .dataframe tbody tr th {\n",
       "        vertical-align: top;\n",
       "    }\n",
       "\n",
       "    .dataframe thead th {\n",
       "        text-align: right;\n",
       "    }\n",
       "</style>\n",
       "<table border=\"1\" class=\"dataframe\">\n",
       "  <thead>\n",
       "    <tr style=\"text-align: right;\">\n",
       "      <th></th>\n",
       "      <th>open_date</th>\n",
       "      <th>ticker</th>\n",
       "      <th>action</th>\n",
       "      <th>close_date</th>\n",
       "      <th>dte_atOpen</th>\n",
       "      <th>adj_close_atOpen</th>\n",
       "      <th>dte_atClose</th>\n",
       "      <th>adj_close_atClose</th>\n",
       "    </tr>\n",
       "  </thead>\n",
       "  <tbody>\n",
       "    <tr>\n",
       "      <th>0</th>\n",
       "      <td>2017-02-14</td>\n",
       "      <td>A</td>\n",
       "      <td>Buy</td>\n",
       "      <td>2017-03-14</td>\n",
       "      <td>2017-02-14</td>\n",
       "      <td>49.703267</td>\n",
       "      <td>2017-03-14</td>\n",
       "      <td>51.498464</td>\n",
       "    </tr>\n",
       "    <tr>\n",
       "      <th>1</th>\n",
       "      <td>2017-02-16</td>\n",
       "      <td>A</td>\n",
       "      <td>Buy</td>\n",
       "      <td>2017-03-16</td>\n",
       "      <td>2017-02-16</td>\n",
       "      <td>50.147135</td>\n",
       "      <td>2017-03-16</td>\n",
       "      <td>52.327016</td>\n",
       "    </tr>\n",
       "    <tr>\n",
       "      <th>2</th>\n",
       "      <td>2017-03-02</td>\n",
       "      <td>A</td>\n",
       "      <td>Buy</td>\n",
       "      <td>2017-03-30</td>\n",
       "      <td>2017-03-02</td>\n",
       "      <td>50.679775</td>\n",
       "      <td>2017-03-30</td>\n",
       "      <td>52.593336</td>\n",
       "    </tr>\n",
       "  </tbody>\n",
       "</table>\n",
       "</div>"
      ],
      "text/plain": [
       "   open_date ticker action close_date dte_atOpen  adj_close_atOpen  \\\n",
       "0 2017-02-14      A    Buy 2017-03-14 2017-02-14         49.703267   \n",
       "1 2017-02-16      A    Buy 2017-03-16 2017-02-16         50.147135   \n",
       "2 2017-03-02      A    Buy 2017-03-30 2017-03-02         50.679775   \n",
       "\n",
       "  dte_atClose  adj_close_atClose  \n",
       "0  2017-03-14          51.498464  \n",
       "1  2017-03-16          52.327016  \n",
       "2  2017-03-30          52.593336  "
      ]
     },
     "execution_count": 23,
     "metadata": {},
     "output_type": "execute_result"
    }
   ],
   "source": [
    "transactions.head(3)"
   ]
  },
  {
   "cell_type": "raw",
   "id": "2e788d02",
   "metadata": {
    "pycharm": {
     "name": "#%% raw\n"
    }
   },
   "source": [
    "Ok - now let's figure out out profit.  I am going to create various columns"
   ]
  },
  {
   "cell_type": "code",
   "execution_count": 24,
   "id": "0da1e2a9",
   "metadata": {
    "pycharm": {
     "name": "#%%\n"
    }
   },
   "outputs": [],
   "source": [
    "def f_committed(x):\n",
    "    if x.action in ('Buy','Short'): return x.adj_close_atOpen  \n",
    "    else: return 0\n",
    "transactions['committed'] = transactions.apply(f_committed,axis=1)\n",
    "\n",
    "def f_revenue(x):\n",
    "    if x.action==\"Buy\": return x.adj_close_atClose\n",
    "    else:               return x.adj_close_atOpen\n",
    "transactions['revenue'] = transactions.apply(f_revenue,axis=1)\n",
    "\n",
    "def f_cost(x):\n",
    "    if x.action == 'Buy': return x.adj_close_atOpen  \n",
    "    else:                 return x.adj_close_atClose\n",
    "transactions['cost'] = transactions.apply(f_cost,axis=1)\n",
    "\n",
    "transactions['profit'] = transactions.revenue - transactions.cost\n"
   ]
  },
  {
   "cell_type": "code",
   "execution_count": 25,
   "id": "33a40545",
   "metadata": {},
   "outputs": [],
   "source": [
    "transactions['committed'] = transactions.apply(f_committed,axis=1)\n",
    "transactions['revenue'] = transactions.apply(f_revenue,axis=1)\n",
    "transactions['cost'] = transactions.apply(f_cost,axis=1)\n",
    "transactions['profit'] = transactions.revenue - transactions.cost\n"
   ]
  },
  {
   "cell_type": "code",
   "execution_count": 26,
   "id": "21d3b487",
   "metadata": {
    "pycharm": {
     "name": "#%%\n"
    }
   },
   "outputs": [
    {
     "data": {
      "text/plain": [
       "('$7457.36', '$190.98', '$7648.35')"
      ]
     },
     "execution_count": 26,
     "metadata": {},
     "output_type": "execute_result"
    }
   ],
   "source": [
    "get_dollars(transactions[transactions.action=='Buy'].profit.sum()), \\\n",
    "get_dollars(transactions[transactions.action=='Short'].profit.sum()), \\\n",
    "get_dollars(transactions.profit.sum())"
   ]
  },
  {
   "cell_type": "markdown",
   "id": "2ce4e9f8",
   "metadata": {
    "pycharm": {
     "name": "#%% md\n"
    }
   },
   "source": [
    "Great!  So according to our validation set we made a good chunk of profit (pre-tax).  We could buy/short in higher volumes (ie Buy = 10x buys, Short = 10x shorts) to make this profit larger.\n",
    "\n",
    "However, this really isn't enough information to determine whether that is a good idea of feasible.  I would love to loan someone 100 dollars if they would give me one-thousand dollars back a week later.  I would hate to loan someone 1,000,000 dollars on the promise that they would pay me 1,000,900 dollars back in 20 years.  The reward just wouldn't be worth the risk, and I can use that money better in a 20-year span than that.\n",
    "\n",
    "Let's see if we can come up with a better metric that accounts for this."
   ]
  },
  {
   "cell_type": "markdown",
   "id": "c7b6661f",
   "metadata": {
    "pycharm": {
     "name": "#%% md\n"
    }
   },
   "source": [
    "### Percent Return"
   ]
  },
  {
   "cell_type": "markdown",
   "id": "12e210c9",
   "metadata": {
    "pycharm": {
     "name": "#%% md\n"
    }
   },
   "source": [
    "Instead of measuring raw dollars, lets consider how much money (capital) we needed in order to make that 90 dollars profit.  To do this we need to keep track of our money more carefully than just looking at how much we made at the end.  Let's track out financials by day instead of by transaction o calculate this.\n",
    "\n",
    ":::{note} I am using \"committed\" to be the amount we have invested + the amount leveraged.  For now, let's assume that we won't take out debt and borrow stocks (shorting) if we do not have the capital to cover the initial price we borrowed at"
   ]
  },
  {
   "cell_type": "code",
   "execution_count": 27,
   "id": "12a8adb3",
   "metadata": {
    "pycharm": {
     "name": "#%%\n"
    }
   },
   "outputs": [
    {
     "data": {
      "text/html": [
       "<div>\n",
       "<style scoped>\n",
       "    .dataframe tbody tr th:only-of-type {\n",
       "        vertical-align: middle;\n",
       "    }\n",
       "\n",
       "    .dataframe tbody tr th {\n",
       "        vertical-align: top;\n",
       "    }\n",
       "\n",
       "    .dataframe thead th {\n",
       "        text-align: right;\n",
       "    }\n",
       "</style>\n",
       "<table border=\"1\" class=\"dataframe\">\n",
       "  <thead>\n",
       "    <tr style=\"text-align: right;\">\n",
       "      <th></th>\n",
       "      <th>committed</th>\n",
       "      <th>profit</th>\n",
       "      <th>revenue</th>\n",
       "      <th>cost</th>\n",
       "    </tr>\n",
       "  </thead>\n",
       "  <tbody>\n",
       "    <tr>\n",
       "      <th>2017-06-26</th>\n",
       "      <td>0.000000</td>\n",
       "      <td>138.832474</td>\n",
       "      <td>18019.732453</td>\n",
       "      <td>0.000000</td>\n",
       "    </tr>\n",
       "    <tr>\n",
       "      <th>2017-04-27</th>\n",
       "      <td>5968.479019</td>\n",
       "      <td>46.974470</td>\n",
       "      <td>3877.153527</td>\n",
       "      <td>5961.515502</td>\n",
       "    </tr>\n",
       "    <tr>\n",
       "      <th>2017-06-12</th>\n",
       "      <td>0.000000</td>\n",
       "      <td>131.413261</td>\n",
       "      <td>13512.259743</td>\n",
       "      <td>0.000000</td>\n",
       "    </tr>\n",
       "    <tr>\n",
       "      <th>2017-04-11</th>\n",
       "      <td>5014.274493</td>\n",
       "      <td>-125.564332</td>\n",
       "      <td>10907.909502</td>\n",
       "      <td>5023.897841</td>\n",
       "    </tr>\n",
       "    <tr>\n",
       "      <th>2017-04-04</th>\n",
       "      <td>4267.815952</td>\n",
       "      <td>-15.053707</td>\n",
       "      <td>12248.680733</td>\n",
       "      <td>4286.988686</td>\n",
       "    </tr>\n",
       "    <tr>\n",
       "      <th>2017-06-28</th>\n",
       "      <td>0.000000</td>\n",
       "      <td>27.121677</td>\n",
       "      <td>18392.604923</td>\n",
       "      <td>0.000000</td>\n",
       "    </tr>\n",
       "    <tr>\n",
       "      <th>2017-05-17</th>\n",
       "      <td>13857.934536</td>\n",
       "      <td>147.911722</td>\n",
       "      <td>5492.438827</td>\n",
       "      <td>13896.342477</td>\n",
       "    </tr>\n",
       "    <tr>\n",
       "      <th>2017-05-02</th>\n",
       "      <td>12175.535293</td>\n",
       "      <td>70.927741</td>\n",
       "      <td>4357.916427</td>\n",
       "      <td>12119.244305</td>\n",
       "    </tr>\n",
       "  </tbody>\n",
       "</table>\n",
       "</div>"
      ],
      "text/plain": [
       "               committed      profit       revenue          cost\n",
       "2017-06-26      0.000000  138.832474  18019.732453      0.000000\n",
       "2017-04-27   5968.479019   46.974470   3877.153527   5961.515502\n",
       "2017-06-12      0.000000  131.413261  13512.259743      0.000000\n",
       "2017-04-11   5014.274493 -125.564332  10907.909502   5023.897841\n",
       "2017-04-04   4267.815952  -15.053707  12248.680733   4286.988686\n",
       "2017-06-28      0.000000   27.121677  18392.604923      0.000000\n",
       "2017-05-17  13857.934536  147.911722   5492.438827  13896.342477\n",
       "2017-05-02  12175.535293   70.927741   4357.916427  12119.244305"
      ]
     },
     "execution_count": 27,
     "metadata": {},
     "output_type": "execute_result"
    }
   ],
   "source": [
    "df = pd.DataFrame()\n",
    "for cols in [['open_date','committed'],['close_date','profit'],['close_date','revenue'],['open_date','cost']]:\n",
    "    _tmp = transactions[cols].groupby(cols[0]).sum()\n",
    "    df = pd.merge(df,_tmp,how='outer',left_index=True,right_index=True)\n",
    "df.fillna(0,inplace=True)\n",
    "df.sort_index(inplace=True)\n",
    "df.sample(8)"
   ]
  },
  {
   "cell_type": "markdown",
   "id": "bc1d8bd5",
   "metadata": {
    "pycharm": {
     "name": "#%% md\n"
    }
   },
   "source": [
    "Now we can easily look at when we had the most committed.  We are subtracting revenue because once we get money back we can reinvest rather than using new money."
   ]
  },
  {
   "cell_type": "code",
   "execution_count": 28,
   "id": "e78dc78d",
   "metadata": {
    "pycharm": {
     "name": "#%%\n"
    }
   },
   "outputs": [
    {
     "data": {
      "text/plain": [
       "'$274744.63'"
      ]
     },
     "execution_count": 28,
     "metadata": {},
     "output_type": "execute_result"
    }
   ],
   "source": [
    "capital_needed = (df.committed.cumsum()-df.revenue.cumsum()).max()\n",
    "get_dollars(capital_needed)"
   ]
  },
  {
   "cell_type": "markdown",
   "id": "61e4f554",
   "metadata": {
    "pycharm": {
     "name": "#%% md\n"
    }
   },
   "source": [
    "And of course our profit is still the same as we had before because we are just aggregating the data differently.\n",
    "\n",
    ":::{note} This is the first time we are using the [fastcore's testing framework](https://fastcore.fast.ai/test.html).  It has several handy and easy to use testing functions, such as testing if 2 numbers are arbitrarily close (useful for floats)."
   ]
  },
  {
   "cell_type": "code",
   "execution_count": 29,
   "id": "4321488a",
   "metadata": {
    "pycharm": {
     "name": "#%%\n"
    }
   },
   "outputs": [
    {
     "data": {
      "text/plain": [
       "'$7648.35'"
      ]
     },
     "execution_count": 29,
     "metadata": {},
     "output_type": "execute_result"
    }
   ],
   "source": [
    "test_close(transactions.profit.sum(),df.profit.sum())\n",
    "get_dollars(df.profit.sum())"
   ]
  },
  {
   "cell_type": "markdown",
   "id": "2ca29b1f",
   "metadata": {
    "pycharm": {
     "name": "#%% md\n"
    }
   },
   "source": [
    "Now that we see our capital needed and our profit, let's calculate a percent return"
   ]
  },
  {
   "cell_type": "code",
   "execution_count": 30,
   "id": "3881d4db",
   "metadata": {
    "pycharm": {
     "name": "#%%\n"
    }
   },
   "outputs": [
    {
     "data": {
      "text/plain": [
       "'Percent Return: 2.78%'"
      ]
     },
     "execution_count": 30,
     "metadata": {},
     "output_type": "execute_result"
    }
   ],
   "source": [
    "f\"Percent Return: {(df.profit.sum() / capital_needed) * 100:.2f}%\""
   ]
  },
  {
   "cell_type": "markdown",
   "id": "6add0704",
   "metadata": {
    "pycharm": {
     "name": "#%% md\n"
    }
   },
   "source": [
    "### Log Return"
   ]
  },
  {
   "cell_type": "markdown",
   "id": "243bf281",
   "metadata": {
    "pycharm": {
     "name": "#%% md\n"
    }
   },
   "source": [
    "More commonly rather than using the percent return we want to use the log return.  There are a lot of reasons they are advantageous to use that will be covered throughout the book as they are significant to what we are doing.  For now we will cover one that is immediately useful to us.\n",
    "\n",
    "**Symmetry / Additive**\n",
    "+ Percent Return\n",
    "    - Invest 100 dollars\n",
    "    - Get 50% Return on investment 1 and reinvest\n",
    "    - Get -50% Return on investment 2\n",
    "    - End with **75** dollars\n",
    "+ Log Return\n",
    "    - Invest 100 dollars\n",
    "    - Get 50% Return on investment 1 and reinvest\n",
    "    - Get -50% Return on investment 2\n",
    "    - End with **100** dollars\n",
    "\n",
    "This property where a positive return + an equal-sized negative return = no return makes it much easier to look at returns and figure out if you are winning or losing.  Just add up all your log returns to get your overall log return.  You have to be much more careful with percent returns.\n"
   ]
  },
  {
   "cell_type": "code",
   "execution_count": 48,
   "id": "ca5a26d9",
   "metadata": {
    "pycharm": {
     "name": "#%%\n"
    }
   },
   "outputs": [
    {
     "data": {
      "text/plain": [
       "'2.75%'"
      ]
     },
     "execution_count": 48,
     "metadata": {},
     "output_type": "execute_result"
    }
   ],
   "source": [
    "pt = capital_needed + df.profit.sum()\n",
    "pt_1 = capital_needed\n",
    "log_return = math.log(pt/pt_1)\n",
    "f\"{math.log(pt/pt_1)*100:.2f}%\""
   ]
  },
  {
   "cell_type": "markdown",
   "id": "fc9beae0",
   "metadata": {
    "pycharm": {
     "name": "#%% md\n"
    }
   },
   "source": [
    "As we calculate the log return we see we get a very similar value to our percent return, but it's not exactly the same.  The advantage of using the log return however is we can accurate get an estimated annualized return.\n",
    "\n",
    "This is great because we can easily have everything thought of as an annualized return so that we have a common time frame to compare investment strategies more easily."
   ]
  },
  {
   "cell_type": "code",
   "execution_count": 49,
   "id": "38cc2cbf",
   "metadata": {
    "pycharm": {
     "name": "#%%\n"
    }
   },
   "outputs": [],
   "source": [
    "time_period = (df.index.max().date() - df.index.min().date()).days"
   ]
  },
  {
   "cell_type": "code",
   "execution_count": 50,
   "id": "ca06348b",
   "metadata": {
    "pycharm": {
     "name": "#%%\n"
    }
   },
   "outputs": [
    {
     "data": {
      "text/plain": [
       "'7.37%'"
      ]
     },
     "execution_count": 50,
     "metadata": {},
     "output_type": "execute_result"
    }
   ],
   "source": [
    "f\"{(log_return/time_period * 365)*100:.2f}%\""
   ]
  },
  {
   "cell_type": "markdown",
   "id": "c8f1ad57",
   "metadata": {
    "pycharm": {
     "name": "#%% md\n"
    }
   },
   "source": [
    "Now we can just convert to normal return to compare very simply to S&P 500 annual return"
   ]
  },
  {
   "cell_type": "code",
   "execution_count": 51,
   "id": "3141cd0f",
   "metadata": {
    "pycharm": {
     "name": "#%%\n"
    }
   },
   "outputs": [
    {
     "data": {
      "text/plain": [
       "'7.65%'"
      ]
     },
     "execution_count": 51,
     "metadata": {},
     "output_type": "execute_result"
    }
   ],
   "source": [
    "f\"{(np.exp(log_return/time_period * 365)-1)*100:.2f}%\""
   ]
  },
  {
   "cell_type": "markdown",
   "id": "3a7add65",
   "metadata": {
    "pycharm": {
     "name": "#%% md\n"
    }
   },
   "source": [
    "Go ahead an look up S&P 500 annual returns for each year online and compare.  How does this fare?"
   ]
  },
  {
   "cell_type": "markdown",
   "id": "468fb835",
   "metadata": {
    "pycharm": {
     "name": "#%% md\n"
    }
   },
   "source": [
    "## Statistical Tests"
   ]
  },
  {
   "cell_type": "markdown",
   "id": "ba251f4c",
   "metadata": {
    "pycharm": {
     "name": "#%% md\n"
    }
   },
   "source": [
    "### Motivation"
   ]
  },
  {
   "cell_type": "markdown",
   "id": "6a538871",
   "metadata": {
    "pycharm": {
     "name": "#%% md\n"
    }
   },
   "source": [
    "If you bought fifty 1.50 dollar lottery tickets and won 10 million dollars in the lottery, what could you say about your chances to win?  Well let's calculate our rate of return.\n",
    "\n",
    "$$\\frac{10,000,000 - 75}{75} = 133,332.33$$\n",
    "\n",
    "So based on our calculations, the rate of return for playing the lottery is fantastic.  But we know that this doesn't really reflect reality or mean that it's a good safe investment strategy.  We know that you would've just gotten lucky.\n",
    "\n",
    "So how do we determine if our trading strategy is a good strategy, or we just got lucky this time?  This is where statistical testing comes in.\n",
    "\n",
    "I will cover the basics that I think are key, but if you'd like more detail and practice I reading [Statistics: Unlocking the Power of Data](https://www.lock5stat.com/).  Unlike most statistics book it is extremely applied and focused on data, with lots of real world examples."
   ]
  },
  {
   "cell_type": "markdown",
   "id": "cc1b7c2f",
   "metadata": {},
   "source": [
    "### Bootstrapping"
   ]
  },
  {
   "cell_type": "markdown",
   "id": "a3369658",
   "metadata": {},
   "source": [
    "#### Background"
   ]
  },
  {
   "cell_type": "markdown",
   "id": "34144e32",
   "metadata": {},
   "source": [
    "Statistical testing can be done be done using 2 general approaches.  The first is the classical approach with is the most widely known.  The second is through bootstrapping.  This chapter will focus on bootstrapping because in my opinion it is the first that should be learned. \n",
    "\n",
    "Bootstrapping is less commonly accepted but is the more powerful and flexible of the two.  In bootstrapping you create a sampling distribution by by taking many samples and performing an experiment.  In traditional testing you use clever algebra to approximate a sampling distribution.  With todays computer you can almost always use bootstrapping and I believe it it the more powerful and flexible approach.\n",
    "\n",
    "With Bootstrapping you start with just the data and make no other assumptions about the data.  With classical methods you start with the data and some assumptions about the data in order to arrive at an answer.  If you make incorrect assumptions then you get an incorrect answer - and determining which assumptions are safe to make is not always trivial.\n",
    "\n",
    "The idea of bootstrapping and the power of it has also been spoken of by many of the statistical greats for almost 100 years, much longer than it was feasible to do, [as pointed out in this article](https://www.lock5stat.com/Lock5Overview.pdf).\n",
    "\n",
    "For example, that article points out that in 1936 Sir R.A. Fisher spoke about using this bootstrapping approach:\n",
    "\n",
    "> Actually, the statistician does not carry out this very simple and very tedious process, but his conclusions have no justification beyond the fact that they agree with those which could have been arrived at by this elementary method.\n",
    "\n",
    "However while these methods were tedious in 1936, they are trivial thanks to modern computers.  We no longer have to do clever algebraic tricks to approximate a sampling distribution - we can just create a sampling distribution.\n",
    "\n",
    "That said, I do believe it's good and useful to have the ability to use both approaches.  Luckily, traditional testing is just algebraic tricks to approximate what we will do here and so it will not be too hard to pick that up on top of bootstrapping.  In this section we will focus on Bootstrapping because in my opinion it is the one that should be learned first.\n",
    "\n",
    "Please see our chapter on \"Bootstrapping vs Classical Statistics\" for more detail and understanding on both methods and information on how traditional statistics are really just estimations of a sampling distribution for when you do not have enough compute to actually create the sampling distributions. "
   ]
  },
  {
   "cell_type": "markdown",
   "id": "04dc727e",
   "metadata": {},
   "source": [
    "#### Bootstrap Test"
   ]
  },
  {
   "cell_type": "markdown",
   "id": "3f150998",
   "metadata": {},
   "source": [
    "With any type of testing we need to understand what we are testing.  We are going to have 2 competing hypothesis.  The first in the **null hypothesis**.  The null hypothesis is what we assume to be true, until we have evidence otherwise.  \n",
    "\n",
    "In the context of trading strategies we might make the hypothesis that our strategy will yield returns equal to that of randomly picking stocks.  If we randomly pick stocks we know that it will roughly match the market so that seems like a reasonable thing to want to beat.  The null hypothesis is important because our goal of testing is to determine whether we have sufficient evident to reject that null hypothesis.\n",
    "\n",
    "The alternate hypothesis is what we are testing for.  For example, if the null hypothesis is that our strategy will yield returns equal that that of investing in random stocks the alternate hypothesis could be that our strategy will yield returns greater than if we were to invest in random stocks."
   ]
  },
  {
   "cell_type": "markdown",
   "id": "d7abe96a",
   "metadata": {},
   "source": [
    "First we need a few functions:\n",
    "+ A function to run our null hypothesis model (random)\n",
    "+ A function to run the model we created and have been exploring throughout the chapter\n",
    "+ A function to measure the statistic of each run (log return of the models)\n",
    "\n",
    "We will look in the next chapter on better ways to organize this code, how to speed it up and run in parallel, and the like, but the focus here in general concepts.  We will use our understanding of these concepts in the next chapter to structure this better."
   ]
  },
  {
   "cell_type": "markdown",
   "id": "c62c8a26",
   "metadata": {},
   "source": [
    "##### Null Hypothesis Model\n",
    "\n",
    "Let's design a Null Hypothesis.  There are many Null Hypothesis' you can choose, and one of the beauty of bootstrapping is that you can think about it very intuitively and design the experiment exactly how you want easier."
   ]
  },
  {
   "cell_type": "code",
   "execution_count": 36,
   "id": "a57e0e20",
   "metadata": {},
   "outputs": [],
   "source": [
    "def run_random(input_df,buy_chance,short_chance,hold_time):\n",
    "    input_df_long = input_df.melt(var_name='ticker',value_name='adj_close',ignore_index=False).reset_index()\n",
    "    \n",
    "    # Buy/Short stocks using random chance, probabilities to be passed as arguements\n",
    "    buys = input_df_long.loc[np.random.rand(input_df_long.shape[0])<buy_chance].copy()\n",
    "    shorts = input_df_long.loc[np.random.rand(input_df_long.shape[0])<short_chance].copy()\n",
    "\n",
    "    # Concatenate into 1 dataframe\n",
    "    buys['action'] = 'Buy'\n",
    "    shorts['action'] = 'Short'\n",
    "    transactions = pd.concat([buys[['date','ticker','action']],\n",
    "                            shorts[['date','ticker','action']]])\n",
    "    \n",
    "    # Close the positions\n",
    "    transactions['close_date'] = transactions.date + timedelta(hold_time)\n",
    "    transactions = transactions.loc[transactions.date < (transactions.date.max() - timedelta(hold_time))]\n",
    "    \n",
    "    # Adjust dates for when market is open\n",
    "    f = bind(get_next_trading_day,unique_dates=L(*input_df.index.date))\n",
    "    transactions['date'] = pd.to_datetime(transactions.date.apply(f))\n",
    "    transactions['close_date'] = pd.to_datetime(transactions.close_date.apply(f))\n",
    "    return transactions"
   ]
  },
  {
   "cell_type": "markdown",
   "id": "123968fc",
   "metadata": {},
   "source": [
    "##### Alternate Hypothesis Model\n",
    "\n",
    "We also need a model that we are hoping performs well that we are trying to evaluate whether it is better than our random null hypothesis or not.  For this, we will just use the model we have been working on throughout the chapter."
   ]
  },
  {
   "cell_type": "code",
   "execution_count": 37,
   "id": "2dbcfe06",
   "metadata": {},
   "outputs": [],
   "source": [
    "def run_model(input_df,n_periods,threshold,hold_time):\n",
    "    valid_mom = get_momentum_actions(input_df,n_periods,threshold).reset_index()\n",
    "    transactions = pd.melt(valid_mom,id_vars='date',value_name='action')\n",
    "    transactions = transactions.loc[transactions.action != '']\n",
    "    transactions['close_date'] = transactions.date + timedelta(hold_time)\n",
    "    transactions = transactions.loc[transactions.date < (transactions.date.max() - timedelta(hold_time))]\n",
    "\n",
    "    f = bind(get_next_trading_day,unique_dates=L(*input_df.index.date))\n",
    "    transactions['date'] = pd.to_datetime(transactions.date.apply(f))\n",
    "    transactions['close_date'] = pd.to_datetime(transactions.close_date.apply(f))\n",
    "    return transactions"
   ]
  },
  {
   "cell_type": "markdown",
   "id": "32554c4a",
   "metadata": {},
   "source": [
    "##### Calculate Returns\n",
    "\n",
    "Next, we need a function that can take our 2 different model outputs (for null and alternate hypothesis) and calculate the statistic we care about (log return).  We do this by drawing on our work earlier in the chapter."
   ]
  },
  {
   "cell_type": "code",
   "execution_count": 38,
   "id": "c9e7ae23",
   "metadata": {},
   "outputs": [
    {
     "data": {
      "text/plain": [
       "(0.0274575941649795, 0.031296928347923664)"
      ]
     },
     "execution_count": 38,
     "metadata": {},
     "output_type": "execute_result"
    }
   ],
   "source": [
    "def calculate_returns(transactions_df,input_df):\n",
    "    input_df_long = input_df.melt(var_name='ticker',value_name='adj_close',ignore_index=False).reset_index()\n",
    "    # Merge in stock prices\n",
    "    transactions = pd.merge(left=transactions_df,left_on=['date','ticker'],\n",
    "                             right=input_df_long,right_on=['date','ticker'],\n",
    "                              how='left')\n",
    "\n",
    "    transactions = pd.merge(left=transactions,left_on=['close_date','ticker'],\n",
    "                             right=input_df_long,right_on=['date','ticker'],\n",
    "                              how='left',\n",
    "                              suffixes=('_atOpen','_atClose'))\n",
    "    transactions = transactions[['ticker','action','date_atOpen','adj_close_atOpen','date_atClose','adj_close_atClose']]\n",
    "\n",
    "    # Calculate profit for each transaction\n",
    "    transactions['committed'] = transactions.apply(f_committed,axis=1)\n",
    "    transactions['revenue'] = transactions.apply(f_revenue,axis=1)\n",
    "    transactions['cost'] = transactions.apply(f_cost,axis=1)\n",
    "    transactions['profit'] = transactions.revenue - transactions.cost\n",
    "\n",
    "    # Create Daily dataframe\n",
    "    df_daily = pd.DataFrame()\n",
    "    for cols in [['date_atOpen','committed'],['date_atClose','profit'],\n",
    "                 ['date_atClose','revenue'],['date_atOpen','cost']]:\n",
    "        _tmp = transactions[cols].groupby(cols[0]).sum()\n",
    "        df_daily = pd.merge(df_daily,_tmp,how='outer',left_index=True,right_index=True)\n",
    "    df_daily.fillna(0,inplace=True)\n",
    "    df_daily.sort_index(inplace=True)\n",
    "    \n",
    "    # Calculate Log Return\n",
    "    pt_1 = (df_daily.committed.cumsum()-df_daily.revenue.cumsum()).max()\n",
    "    pt = pt_1 + df_daily.profit.sum()\n",
    "    return math.log(pt/pt_1)\n",
    "\n",
    "calculate_returns(run_model(valid,28,0.08,28),valid),\\\n",
    "calculate_returns(run_random(valid,.1,0.05,28),valid),"
   ]
  },
  {
   "cell_type": "markdown",
   "id": "664c0216",
   "metadata": {},
   "source": [
    "##### Statistical Test\n",
    "\n",
    "Now that we have the setup let's start our test.  First for our random model we need to give it a buy and short chance probability.  Let's assume roughly even volume of trades to keep things simple and get the probabilities from our model.  In this way our random model trades at the same volume and frequency, just using random selection instead of momentum selection."
   ]
  },
  {
   "cell_type": "code",
   "execution_count": 39,
   "id": "07707ac4",
   "metadata": {},
   "outputs": [
    {
     "name": "stdout",
     "output_type": "stream",
     "text": [
      "Model buy percentage=0.08691717171717171\n",
      "Model buy percentage=0.04311919191919192\n"
     ]
    }
   ],
   "source": [
    "df_long = valid.melt(var_name='ticker',value_name='adj_close',ignore_index=False).reset_index()\n",
    "t = run_model(valid,28,0.08,28)\n",
    "buy_chance = sum(t.action=='Buy')/len(df_long)\n",
    "short_chance = sum(t.action=='Short')/len(df_long)\n",
    "print(f\"Model buy percentage={buy_chance}\")\n",
    "print(f\"Model buy percentage={short_chance}\")"
   ]
  },
  {
   "cell_type": "markdown",
   "id": "bee0ca04",
   "metadata": {},
   "source": [
    "Great - Let's bind these to a function.  This is a functional programming principle that is extremely common in functional languages in the form of currying.  Python isn't quite as convenient so we use [fastcore's bind](https://fastcore.fast.ai/basics.html#bind) for this (which is like the more common [functool partial](https://docs.python.org/3/library/functools.html#functools.partial), with a few added conveniences).\n",
    "\n",
    "This allows us to pass our model functions as parameters which will be convenient when we want to try different parameters.  We could also just have all the parameters for either function as arguments in the main `run_bootstrap_test` function, but that can get rather clunky and confusing."
   ]
  },
  {
   "cell_type": "code",
   "execution_count": 40,
   "id": "de71bd18",
   "metadata": {},
   "outputs": [],
   "source": [
    "model_h0 = bind(run_random,buy_chance=buy_chance,short_chance=short_chance,hold_time=28)"
   ]
  },
  {
   "cell_type": "markdown",
   "id": "89d40b11",
   "metadata": {},
   "source": [
    "Now we get to the meat of bootstrapping.  Really all we are doing is tacking different samples and running both models many times on different samples.  In classical statistics the normal distribution or some other distribution is assumed so that we can approximate a sampling distribution.  In bootstrapping we just create the sampling distribution directly."
   ]
  },
  {
   "cell_type": "code",
   "execution_count": 41,
   "id": "81ca46d6",
   "metadata": {},
   "outputs": [],
   "source": [
    "def run_bootstrap_test(input_df,model_h0,runs,sample_size):\n",
    "    r_h0 = L()\n",
    "    input_df_long = input_df.melt(var_name='ticker',value_name='adj_close',ignore_index=False).reset_index()\n",
    "    unique_tickers = input_df_long.ticker.unique()\n",
    "    \n",
    "    for i in range(runs):\n",
    "        ticker_sample = np.random.choice(unique_tickers,sample_size) \n",
    "        valid_sample = input_df[ticker_sample]\n",
    "\n",
    "        t_h0 = model_h0(valid_sample)\n",
    "\n",
    "        r_h0.append(calculate_returns(t_h0,valid))\n",
    "    return r_h0"
   ]
  },
  {
   "cell_type": "markdown",
   "id": "644d6d68",
   "metadata": {},
   "source": [
    "##### Plot Experiment\n",
    "\n",
    "It's always helpful to visualize whatever you can.  Visualizing the data will help you build intuition, generate additional ideas, spot outliers, and identify possible errors in your code.  Let's start with plotting our initial parameters we are using."
   ]
  },
  {
   "cell_type": "code",
   "execution_count": 42,
   "id": "9ba51198",
   "metadata": {},
   "outputs": [
    {
     "data": {
      "text/plain": [
       "<matplotlib.legend.Legend at 0x17676c2b0>"
      ]
     },
     "execution_count": 42,
     "metadata": {},
     "output_type": "execute_result"
    },
    {
     "data": {
      "image/png": "[encoded data removed]",
      "text/plain": [
       "<Figure size 432x432 with 1 Axes>"
      ]
     },
     "metadata": {
      "needs_background": "light"
     },
     "output_type": "display_data"
    }
   ],
   "source": [
    "fig,ax = plt.subplots(figsize=(6,6))\n",
    "\n",
    "model_h0 = bind(run_random,buy_chance=buy_chance,short_chance=short_chance,hold_time=28)\n",
    "model_h1 = bind(run_model,n_periods=28,threshold=0.08,hold_time=28)\n",
    "    \n",
    "runs, ss = 200,100\n",
    "h0 = run_bootstrap_test(valid,model_h0,runs=runs,sample_size=ss)\n",
    "ax.set_xlim(-.15,.15)\n",
    "\n",
    "ax.hist(h0,alpha=0.5,bins=60,label = 'h0',range=(-.15,.15))\n",
    "x = calculate_returns(model_h1(valid),valid)\n",
    "ax.scatter(x=x,y=0,marker=\"P\",color='red',s=300)\n",
    "\n",
    "title_r1 = f\"h0 mean={np.array(h0).mean():.4f}\\n\"\n",
    "title_r2 = f\"h1 value={x:.4f}\"\n",
    "\n",
    "ax.set_title(title_r1 + title_r2)\n",
    "ax.legend(loc ='upper left') "
   ]
  },
  {
   "cell_type": "markdown",
   "id": "35e1aabe",
   "metadata": {},
   "source": [
    "The blue histogram is the distribution of our random sampling.  The Red is our models return.  Visually the red point seems perfectly in line with the random distribution, but let's be a bit more scientific about it.  Let's calculate the p-value, and talk about what that means."
   ]
  },
  {
   "cell_type": "code",
   "execution_count": 43,
   "id": "a080c23c",
   "metadata": {},
   "outputs": [
    {
     "name": "stdout",
     "output_type": "stream",
     "text": [
      "0.405\n"
     ]
    }
   ],
   "source": [
    "p_value = (np.array(h0)>x).sum()/runs\n",
    "print(p_value)"
   ]
  },
  {
   "cell_type": "markdown",
   "id": "69caa14c",
   "metadata": {},
   "source": [
    "The p-value tells us the percentage of samples from our randomized null hypothesis trials that are more extreme than our model's return.  Roughly 40% of the time we get a more unusual result just using our random selection - which tells us that from this look our model is pretty indistinguishable from our random model.\n",
    "\n",
    "Said in statistical jargon, we failed to reject the null hypothesis."
   ]
  },
  {
   "cell_type": "markdown",
   "id": "1cd189db",
   "metadata": {},
   "source": [
    "Let's try something else"
   ]
  },
  {
   "cell_type": "markdown",
   "id": "2341b5d0",
   "metadata": {},
   "source": [
    "##### What if we hold for less time?"
   ]
  },
  {
   "cell_type": "code",
   "execution_count": 44,
   "id": "d9c336da",
   "metadata": {
    "scrolled": false
   },
   "outputs": [
    {
     "data": {
      "text/plain": [
       "<matplotlib.legend.Legend at 0x176ac3f40>"
      ]
     },
     "execution_count": 44,
     "metadata": {},
     "output_type": "execute_result"
    },
    {
     "data": {
      "image/png": "[encoded data removed]",
      "text/plain": [
       "<Figure size 432x432 with 1 Axes>"
      ]
     },
     "metadata": {
      "needs_background": "light"
     },
     "output_type": "display_data"
    }
   ],
   "source": [
    "fig,ax = plt.subplots(figsize=(6,6))\n",
    "\n",
    "model_h0 = bind(run_random,buy_chance=buy_chance,short_chance=short_chance,hold_time=14)\n",
    "model_h1 = bind(run_model,n_periods=28,threshold=0.08,hold_time=14)\n",
    "    \n",
    "runs, ss = 200,100\n",
    "h0 = run_bootstrap_test(valid,model_h0,runs=runs,sample_size=ss)\n",
    "ax.set_xlim(-.15,.15)\n",
    "\n",
    "ax.hist(h0,alpha=0.5,bins=60,label = 'h0',range=(-.15,.15))\n",
    "x = calculate_returns(model_h1(valid),valid)\n",
    "ax.scatter(x=x,y=0,marker=\"P\",color='red',s=300)\n",
    "\n",
    "title_r1 = f\"h0 mean={np.array(h0).mean():.4f}\\n\"\n",
    "title_r2 = f\"h1 value={x:.4f}\"\n",
    "\n",
    "ax.set_title(title_r1 + title_r2)\n",
    "ax.legend(loc ='upper left') "
   ]
  },
  {
   "cell_type": "code",
   "execution_count": 45,
   "id": "d8949798",
   "metadata": {},
   "outputs": [
    {
     "name": "stdout",
     "output_type": "stream",
     "text": [
      "0.395\n"
     ]
    }
   ],
   "source": [
    "p_value = (np.array(h0)>x).sum()/runs\n",
    "print(p_value)"
   ]
  },
  {
   "cell_type": "markdown",
   "id": "e5fecc12",
   "metadata": {},
   "source": [
    "This isn't any better.  But that's ok, because that's how the process works.  Most of your experiments will fail, and this was only our first model.  Let's try one more idea."
   ]
  },
  {
   "cell_type": "markdown",
   "id": "eadad031",
   "metadata": {},
   "source": [
    "##### What if we use a larger period size for momentum?"
   ]
  },
  {
   "cell_type": "code",
   "execution_count": 46,
   "id": "66d9c363",
   "metadata": {
    "scrolled": false
   },
   "outputs": [
    {
     "data": {
      "text/plain": [
       "<matplotlib.legend.Legend at 0x1767503d0>"
      ]
     },
     "execution_count": 46,
     "metadata": {},
     "output_type": "execute_result"
    },
    {
     "data": {
      "image/png": "[encoded data removed]",
      "text/plain": [
       "<Figure size 432x432 with 1 Axes>"
      ]
     },
     "metadata": {
      "needs_background": "light"
     },
     "output_type": "display_data"
    }
   ],
   "source": [
    "fig,ax = plt.subplots(figsize=(6,6))\n",
    "\n",
    "model_h0 = bind(run_random,buy_chance=buy_chance,short_chance=short_chance,hold_time=28)\n",
    "model_h1 = bind(run_model,n_periods=56,threshold=0.08,hold_time=28)\n",
    "    \n",
    "runs, ss = 200,100\n",
    "h0 = run_bootstrap_test(valid,model_h0,runs=runs,sample_size=ss)\n",
    "ax.set_xlim(-.15,.15)\n",
    "\n",
    "ax.hist(h0,alpha=0.5,bins=60,label = 'h0',range=(-.15,.15))\n",
    "x = calculate_returns(model_h1(valid),valid)\n",
    "ax.scatter(x=x,y=0,marker=\"P\",color='red',s=300)\n",
    "\n",
    "title_r1 = f\"h0 mean={np.array(h0).mean():.4f}\\n\"\n",
    "title_r2 = f\"h1 value={x:.4f}\"\n",
    "\n",
    "ax.set_title(title_r1 + title_r2)\n",
    "ax.legend(loc ='upper left') "
   ]
  },
  {
   "cell_type": "code",
   "execution_count": 47,
   "id": "33a4c068",
   "metadata": {},
   "outputs": [
    {
     "name": "stdout",
     "output_type": "stream",
     "text": [
      "0.005\n"
     ]
    }
   ],
   "source": [
    "p_value = (np.array(h0)>x).sum()/runs\n",
    "print(p_value)"
   ]
  },
  {
   "cell_type": "markdown",
   "id": "3499e29c",
   "metadata": {},
   "source": [
    "Now we're talking!  A very small percentage of the values from our random model are more extreme than the one we got with our model.\n",
    "\n",
    "But now this invites a new question - how small does the p-value need to be to reject the null hypothesis?  0.05 is the most common and many people use this by default, but **what your p-value threshold is is a design choice that has real implications on your testing**.  This is something to carefully consider.  Remember, testing is our only objective signal for whether we are doing something right or not so it deserves the most care and consideration.\n",
    "\n",
    "Let's consider the extremes so that we can easily thing about the trade-off.\n",
    "\n",
    "**What if the p-value threshold we pick is large (ie 0.5)?***\n",
    "\n",
    "With a p-value threshold of 0.5, we accept anything where less than 50% of the values from the randomized null hypothesis tests are more extreme.  The risk of this means that we will have a lot of false positives.  Said another way, LOTS of stuff will pass our test many of them just because of luck.  \n",
    "\n",
    "Said simply, we will think a lot of bad ideas are good ideas.  \n",
    "\n",
    "\n",
    "**What if the p-value threshold we pick is small (ie 0.000001)?***\n",
    "\n",
    "With a p-value this small almost nothing will pass the test, but if it does we can be pretty confident in it!  The problem with this is many good ideas will fail the test just because of bad luck.\n",
    "\n",
    "Said simply, we will have a lot of good ideas that we won't realize are good ideas.  These are missed opportunities.\n",
    "\n",
    "\n",
    "**The Tradeoff**\n",
    "\n",
    "So really the P value is a trade-off.  A lower P value is more cautious and safe but you will miss out on some opportunities.  A high P value is riskier and more of your approaches will turn out to fail.\n",
    "\n",
    "More details will come throughout the book on this, but it is important to understand that this is a tradeoff.  For a more detailed guide to testing read the hypothesis testing material in [Statistics: Unlocking the Power of Data](https://www.lock5stat.com/)"
   ]
  },
  {
   "cell_type": "code",
   "execution_count": null,
   "id": "00a12f48",
   "metadata": {},
   "outputs": [],
   "source": []
  },
  {
   "cell_type": "code",
   "execution_count": null,
   "id": "afc02946",
   "metadata": {},
   "outputs": [],
   "source": []
  },
  {
   "cell_type": "code",
   "execution_count": null,
   "id": "f1c671b5",
   "metadata": {},
   "outputs": [],
   "source": []
  },
  {
   "cell_type": "code",
   "execution_count": null,
   "id": "374aa38d",
   "metadata": {
    "pycharm": {
     "name": "#%%\n"
    }
   },
   "outputs": [],
   "source": []
  }
 ],
 "metadata": {
  "interpreter": {
   "hash": "ae5eb9e86421a898aa80b8b95d8d1755e5e5e15b61c607b39ba0c26ee3dd8ef6"
  },
  "kernelspec": {
   "display_name": "Python 3 (ipykernel)",
   "language": "python",
   "name": "python3"
  },
  "language_info": {
   "codemirror_mode": {
    "name": "ipython",
    "version": 3
   },
   "file_extension": ".py",
   "mimetype": "text/x-python",
   "name": "python",
   "nbconvert_exporter": "python",
   "pygments_lexer": "ipython3",
   "version": "3.9.12"
  },
  "toc": {
   "base_numbering": 1,
   "nav_menu": {},
   "number_sections": true,
   "sideBar": true,
   "skip_h1_title": false,
   "title_cell": "Table of Contents",
   "title_sidebar": "Contents",
   "toc_cell": false,
   "toc_position": {},
   "toc_section_display": true,
   "toc_window_display": false
  }
 },
 "nbformat": 4,
 "nbformat_minor": 5
}
