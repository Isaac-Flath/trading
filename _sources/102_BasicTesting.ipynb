{
 "cells": [
  {
   "cell_type": "markdown",
   "id": "b78482bf",
   "metadata": {},
   "source": [
    "# Introduction to Testing"
   ]
  },
  {
   "cell_type": "code",
   "execution_count": 1,
   "id": "54d6eb11",
   "metadata": {},
   "outputs": [],
   "source": [
    "from fastcore.all import *\n",
    "import pandas as pd\n",
    "import numpy as np\n",
    "import matplotlib.pyplot as plt\n",
    "from polygon import RESTClient\n",
    "\n",
    "from datetime import datetime, timedelta\n",
    "import time"
   ]
  },
  {
   "cell_type": "code",
   "execution_count": 2,
   "id": "8354ae65",
   "metadata": {},
   "outputs": [],
   "source": [
    "path = Path('../data')"
   ]
  },
  {
   "cell_type": "markdown",
   "id": "30d48c10",
   "metadata": {},
   "source": [
    "In Chapter 1 we created models and created actions we want to take for multiple approaches.  The question now is, how do we know if they are profitable?  How should we measure them?  How do we know if we simply got lucky, or if they are reliable?\n",
    "\n",
    "As we mentioned in chapter 2, testing is the most important part of the process.  If done well you have a good way to determine what strategies should be implemented, and if done poorly you run the risk of implementing non-profitable strategies.\n",
    "\n",
    "This chapter will lay the groundwork and cover the basics of testing.  Additional information about testing will be covered throughout the book and will assume knowledge of the content in this chapter.\n",
    "\n",
    "This chapter will cover many of the rules of testing.  Many people often like to point out specific exceptions to specific scenarios, and almost nothing can be 100% true in 100% of scenarios.  But you need to understand the ideal testing setup, and you need to understand what you sacrifice when you choose to, need to, or are asked to deviate from it."
   ]
  },
  {
   "cell_type": "markdown",
   "id": "a813dd5a",
   "metadata": {},
   "source": [
    "## The Data"
   ]
  },
  {
   "cell_type": "markdown",
   "id": "077f4b8a",
   "metadata": {},
   "source": [
    "The first question we have to ask is what data to we use for testing?  Ideally we have 3 subsets of our data (training, validation, and test).  Let's go through what they are used for and why they are important."
   ]
  },
  {
   "cell_type": "markdown",
   "id": "39b062db",
   "metadata": {},
   "source": [
    "### Training Set"
   ]
  },
  {
   "cell_type": "markdown",
   "id": "957a18b2",
   "metadata": {},
   "source": [
    "The training set is unique because it has no restrictions on what we can do with it.  We can look at any piece of data in it.  We can normalize data using values in the training set.  We can train machine learning models on the training set.  This is often the largest subset of our data.\n",
    "\n",
    "This training set is pretty explanatory - we use this for understanding our data and developing our model.  \n",
    "\n",
    "We can load it in using the same method as we did in chapter 1."
   ]
  },
  {
   "cell_type": "code",
   "execution_count": 3,
   "id": "81377a44",
   "metadata": {},
   "outputs": [],
   "source": [
    "raw = pd.read_csv(path/'eod-quotemedia.csv',parse_dates=['date'])\n",
    "df = raw.pivot(index='date', columns='ticker',values='adj_close')\n",
    "train = df.loc[:pd.Timestamp('2017-1-1')]"
   ]
  },
  {
   "cell_type": "markdown",
   "id": "1d6a1355",
   "metadata": {},
   "source": [
    "### Validation Set"
   ]
  },
  {
   "cell_type": "markdown",
   "id": "d100eb23",
   "metadata": {},
   "source": [
    "The goal of creating a trading strategy is to have it perform well on data that it was not developed using.  We may use data from 2015 - 2020 to create a trading strategy, but the goal is to apply it to 2021 and 2022 to make a profit.\n",
    "\n",
    "Because we want our model to perform on *unseen* data, we create some restriction to how we use the validation set.  We do not train any models on it, and we do not use statistics or data from the validation set when creating our model.  It's data our model has never seen.  The validation set is something we can only use to see how well our strategy or model performs.  \n",
    "\n",
    "The entire purpose of the validation set is to give us unseen data to evaluate our approaches on.  By having this separate validation set we can more accurately determine what works and what doesn't.\n",
    "\n",
    "We can get our validation set using the same method as we did in chapter 1."
   ]
  },
  {
   "cell_type": "code",
   "execution_count": 4,
   "id": "e03373cb",
   "metadata": {},
   "outputs": [],
   "source": [
    "valid = df.loc[pd.Timestamp('2017-1-1'):]"
   ]
  },
  {
   "cell_type": "markdown",
   "id": "d8d18010",
   "metadata": {},
   "source": [
    "### Test Set\n"
   ]
  },
  {
   "cell_type": "markdown",
   "id": "a992f84c",
   "metadata": {},
   "source": [
    "The Test set is very similar to the validation set, but it takes things a step further.  It has further restrictions in that is is the final model step before deployment.  The main difference is how often you can use it.  For the validation set, you can test anything on the validation set as many times as you want.  For the test set you only get to look at the test set once for your particular approach.\n",
    "\n",
    "For example, you may try 300 different approaches and parameter changes to your strategy to see what works best.  You can check the profitability on each of them using the validation set.  Then once you have chosen a strategy, you do a final check to ensure it also performs on the test set.  Once you have done that you need a new test set or your project is over.\n",
    "\n",
    "The reason this is important is that you want to ensure that you didn't get lucky and find a configuration out of your 300 attempts that just happens to work on the validation set but doesn't work elsewhere.  If you try enough combinations eventually you will find something that works, but the test set gives you confidence that your model works because it's a good strategy and not that you just tried enough things to find something that works on coincidence.\n",
    "\n",
    "\n",
    ":::{note} Many people re-use or have more lax rules on the test set.  Many people do not use one at all.  In this text I am laying out the ideal state I believe we should strive for.  If you choose to loosen these restrictions on the test set or do without one, I would strongly encourage you to think hard about it.\n"
   ]
  },
  {
   "cell_type": "markdown",
   "id": "cc2d1980",
   "metadata": {},
   "source": [
    "To get our test set, we could have split our initial data into 3.  Because we are a bit concerned about survivorship bias, let's pull a new test set that uses recent data to and test how these strategies would perform over the last year and a half."
   ]
  },
  {
   "cell_type": "markdown",
   "id": "c10d5755",
   "metadata": {},
   "source": [
    "We need to get adjusted close price.  There are a variety of services that have APIs to pull from, I have picked polgygon to use here because it's free for what we need.\n",
    "\n",
    ":::{note} We are using a free api key and putting the key in this notebook in an effort to show everthing to the reader, but best practice would be to read the api key from an environment variable.  From the polygon docs it will by default pull the api key from the `POLYGON_API_KEY` environment variable, then you would initiate the client with so that no credentials are exposed.\n",
    "`client = RESTClient()`"
   ]
  },
  {
   "cell_type": "code",
   "execution_count": 5,
   "id": "656d894d",
   "metadata": {},
   "outputs": [],
   "source": [
    "polygon_free_api_key = 'wUv2tpS05klv9ebAQKyLD610FBWllpan'\n",
    "client = RESTClient(polygon_free_api_key)"
   ]
  },
  {
   "cell_type": "code",
   "execution_count": 6,
   "id": "bbeedcba",
   "metadata": {},
   "outputs": [],
   "source": [
    "if not (path/'polytest_eod-quotemedia.csv').exists():\n",
    "    dfs = L()\n",
    "    errors = L()\n",
    "    for ticker in valid:\n",
    "        try:\n",
    "            aggs = client.get_aggs(ticker, 1, \"day\", \"2021-01-01\", \"2022-05-31\",adjusted=True)\n",
    "            close = {ticker:[o.close for o in aggs]}\n",
    "            \n",
    "            # Convert millisecond time stamp to date\n",
    "            date = L(o.timestamp/1e3 for o in aggs).map(datetime.fromtimestamp)\n",
    "            dfs.append(pd.DataFrame(close,index=date))\n",
    "        except:\n",
    "            errors.append(aggs)\n",
    "            print(f\"FAILURE: {ticker}\")\n",
    "        \n",
    "        # Free api gives 5 API calls / minute - so we need to pace our api calls!\n",
    "        time.sleep(60/5)\n",
    "    df_test = pd.concat(dfs,axis=1)\n",
    "    df_test.to_csv(path/'polytest_eod-quotemedia.csv')\n",
    "\n",
    "df_test = pd.read_csv(path/'polytest_eod-quotemedia.csv',index_col=0,parse_dates=True)\n"
   ]
  },
  {
   "cell_type": "code",
   "execution_count": 7,
   "id": "ab7f0d89",
   "metadata": {},
   "outputs": [
    {
     "data": {
      "text/html": [
       "<div>\n",
       "<style scoped>\n",
       "    .dataframe tbody tr th:only-of-type {\n",
       "        vertical-align: middle;\n",
       "    }\n",
       "\n",
       "    .dataframe tbody tr th {\n",
       "        vertical-align: top;\n",
       "    }\n",
       "\n",
       "    .dataframe thead th {\n",
       "        text-align: right;\n",
       "    }\n",
       "</style>\n",
       "<table border=\"1\" class=\"dataframe\">\n",
       "  <thead>\n",
       "    <tr style=\"text-align: right;\">\n",
       "      <th></th>\n",
       "      <th>A</th>\n",
       "      <th>AAL</th>\n",
       "      <th>AAP</th>\n",
       "      <th>AAPL</th>\n",
       "      <th>ABBV</th>\n",
       "    </tr>\n",
       "  </thead>\n",
       "  <tbody>\n",
       "    <tr>\n",
       "      <th>2021-01-04</th>\n",
       "      <td>118.64</td>\n",
       "      <td>15.13</td>\n",
       "      <td>157.34</td>\n",
       "      <td>129.41</td>\n",
       "      <td>105.41</td>\n",
       "    </tr>\n",
       "    <tr>\n",
       "      <th>2021-01-05</th>\n",
       "      <td>119.61</td>\n",
       "      <td>15.43</td>\n",
       "      <td>157.17</td>\n",
       "      <td>131.01</td>\n",
       "      <td>106.50</td>\n",
       "    </tr>\n",
       "    <tr>\n",
       "      <th>2021-01-06</th>\n",
       "      <td>122.89</td>\n",
       "      <td>15.52</td>\n",
       "      <td>166.25</td>\n",
       "      <td>126.60</td>\n",
       "      <td>105.58</td>\n",
       "    </tr>\n",
       "    <tr>\n",
       "      <th>2021-01-07</th>\n",
       "      <td>126.16</td>\n",
       "      <td>15.38</td>\n",
       "      <td>167.67</td>\n",
       "      <td>130.92</td>\n",
       "      <td>106.71</td>\n",
       "    </tr>\n",
       "    <tr>\n",
       "      <th>2021-01-08</th>\n",
       "      <td>127.06</td>\n",
       "      <td>15.13</td>\n",
       "      <td>170.06</td>\n",
       "      <td>132.05</td>\n",
       "      <td>107.27</td>\n",
       "    </tr>\n",
       "  </tbody>\n",
       "</table>\n",
       "</div>"
      ],
      "text/plain": [
       "                 A    AAL     AAP    AAPL    ABBV\n",
       "2021-01-04  118.64  15.13  157.34  129.41  105.41\n",
       "2021-01-05  119.61  15.43  157.17  131.01  106.50\n",
       "2021-01-06  122.89  15.52  166.25  126.60  105.58\n",
       "2021-01-07  126.16  15.38  167.67  130.92  106.71\n",
       "2021-01-08  127.06  15.13  170.06  132.05  107.27"
      ]
     },
     "execution_count": 7,
     "metadata": {},
     "output_type": "execute_result"
    }
   ],
   "source": [
    "df_test.iloc[:5,:5]"
   ]
  },
  {
   "cell_type": "code",
   "execution_count": null,
   "id": "a03a7343",
   "metadata": {},
   "outputs": [],
   "source": []
  },
  {
   "cell_type": "markdown",
   "id": "a14bc8d4",
   "metadata": {},
   "source": [
    "## Returns\n",
    "\n",
    "Now that we understand what data we will use for testing, let's actually start using it to calculate how well our models from chapter 1 perform.  We will walk through the process for one model.  Then at the end we will put it together to compare the different approaches with different parameters to compare them."
   ]
  },
  {
   "cell_type": "markdown",
   "id": "dfc3f38d",
   "metadata": {},
   "source": [
    "### Dollars"
   ]
  },
  {
   "cell_type": "markdown",
   "id": "d63b8202",
   "metadata": {},
   "source": [
    "Let's take our first model from chapter 1 and measure how well it does in terms of dollars.  After all dollars is what we want to make, so it seems like a reasonable starting point."
   ]
  },
  {
   "cell_type": "code",
   "execution_count": 8,
   "id": "b9f60545",
   "metadata": {},
   "outputs": [],
   "source": [
    "def get_momentum_actions(df, n_periods,threshold):\n",
    "    _x = df.shift(n_periods)\n",
    "    momentum_rate = df.apply(lambda x: (x-x.shift(n_periods))/x.shift(n_periods))[n_periods:]\n",
    "    actions = pd.DataFrame(np.where(momentum_rate < -threshold, 'Short',\n",
    "                           np.where(momentum_rate > threshold,  'Buy',\n",
    "                                                                 '')),\n",
    "                   columns=momentum_rate.columns,index=momentum_rate.index)\n",
    "    actions.index = actions.index + timedelta(1)\n",
    "    \n",
    "    return actions"
   ]
  },
  {
   "cell_type": "code",
   "execution_count": 9,
   "id": "e1d94dc2",
   "metadata": {},
   "outputs": [],
   "source": [
    "transactions = pd.DataFrame(columns=['open_date','ticker','action'])\n",
    "\n",
    "valid_mom = get_momentum_actions(valid,28,0.08)\n",
    "for dte,vals in valid_mom.iloc[:5,:5].iterrows():    \n",
    "    for val in vals[vals.values != ''].items():\n",
    "        row = pd.DataFrame([[dte.date()]+[o for o in val]],columns=['open_date','ticker','action'])\n",
    "        transactions = pd.concat([transactions,row])\n",
    "        "
   ]
  },
  {
   "cell_type": "code",
   "execution_count": 10,
   "id": "58d5e35c",
   "metadata": {},
   "outputs": [
    {
     "data": {
      "text/html": [
       "<div>\n",
       "<style scoped>\n",
       "    .dataframe tbody tr th:only-of-type {\n",
       "        vertical-align: middle;\n",
       "    }\n",
       "\n",
       "    .dataframe tbody tr th {\n",
       "        vertical-align: top;\n",
       "    }\n",
       "\n",
       "    .dataframe thead th {\n",
       "        text-align: right;\n",
       "    }\n",
       "</style>\n",
       "<table border=\"1\" class=\"dataframe\">\n",
       "  <thead>\n",
       "    <tr style=\"text-align: right;\">\n",
       "      <th></th>\n",
       "      <th>open_date</th>\n",
       "      <th>ticker</th>\n",
       "      <th>action</th>\n",
       "    </tr>\n",
       "  </thead>\n",
       "  <tbody>\n",
       "    <tr>\n",
       "      <th>0</th>\n",
       "      <td>2017-02-14</td>\n",
       "      <td>A</td>\n",
       "      <td>Buy</td>\n",
       "    </tr>\n",
       "    <tr>\n",
       "      <th>0</th>\n",
       "      <td>2017-02-14</td>\n",
       "      <td>AAPL</td>\n",
       "      <td>Buy</td>\n",
       "    </tr>\n",
       "    <tr>\n",
       "      <th>0</th>\n",
       "      <td>2017-02-15</td>\n",
       "      <td>AAPL</td>\n",
       "      <td>Buy</td>\n",
       "    </tr>\n",
       "    <tr>\n",
       "      <th>0</th>\n",
       "      <td>2017-02-16</td>\n",
       "      <td>A</td>\n",
       "      <td>Buy</td>\n",
       "    </tr>\n",
       "    <tr>\n",
       "      <th>0</th>\n",
       "      <td>2017-02-16</td>\n",
       "      <td>AAPL</td>\n",
       "      <td>Buy</td>\n",
       "    </tr>\n",
       "    <tr>\n",
       "      <th>0</th>\n",
       "      <td>2017-02-17</td>\n",
       "      <td>AAPL</td>\n",
       "      <td>Buy</td>\n",
       "    </tr>\n",
       "    <tr>\n",
       "      <th>0</th>\n",
       "      <td>2017-02-18</td>\n",
       "      <td>AAPL</td>\n",
       "      <td>Buy</td>\n",
       "    </tr>\n",
       "  </tbody>\n",
       "</table>\n",
       "</div>"
      ],
      "text/plain": [
       "    open_date ticker action\n",
       "0  2017-02-14      A    Buy\n",
       "0  2017-02-14   AAPL    Buy\n",
       "0  2017-02-15   AAPL    Buy\n",
       "0  2017-02-16      A    Buy\n",
       "0  2017-02-16   AAPL    Buy\n",
       "0  2017-02-17   AAPL    Buy\n",
       "0  2017-02-18   AAPL    Buy"
      ]
     },
     "execution_count": 10,
     "metadata": {},
     "output_type": "execute_result"
    }
   ],
   "source": [
    "transactions"
   ]
  },
  {
   "cell_type": "markdown",
   "id": "c7b6661f",
   "metadata": {},
   "source": [
    "### Percent Return"
   ]
  },
  {
   "cell_type": "markdown",
   "id": "27d4c47b",
   "metadata": {},
   "source": [
    "### Log Return"
   ]
  },
  {
   "cell_type": "markdown",
   "id": "7d32bccd",
   "metadata": {},
   "source": [
    "### Model Comparisons"
   ]
  },
  {
   "cell_type": "markdown",
   "id": "468fb835",
   "metadata": {},
   "source": [
    "## Statistical Tests"
   ]
  },
  {
   "cell_type": "code",
   "execution_count": null,
   "id": "0bf9c3cf",
   "metadata": {},
   "outputs": [],
   "source": []
  }
 ],
 "metadata": {
  "interpreter": {
   "hash": "ae5eb9e86421a898aa80b8b95d8d1755e5e5e15b61c607b39ba0c26ee3dd8ef6"
  },
  "kernelspec": {
   "display_name": "Python 3 (ipykernel)",
   "language": "python",
   "name": "python3"
  },
  "language_info": {
   "codemirror_mode": {
    "name": "ipython",
    "version": 3
   },
   "file_extension": ".py",
   "mimetype": "text/x-python",
   "name": "python",
   "nbconvert_exporter": "python",
   "pygments_lexer": "ipython3",
   "version": "3.9.7"
  },
  "toc": {
   "base_numbering": 1,
   "nav_menu": {},
   "number_sections": true,
   "sideBar": true,
   "skip_h1_title": false,
   "title_cell": "Table of Contents",
   "title_sidebar": "Contents",
   "toc_cell": false,
   "toc_position": {},
   "toc_section_display": true,
   "toc_window_display": false
  }
 },
 "nbformat": 4,
 "nbformat_minor": 5
}
